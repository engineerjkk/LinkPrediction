{
 "cells": [
  {
   "cell_type": "markdown",
   "metadata": {},
   "source": [
    "# Knowledge graph link prediction with ComplEx\n"
   ]
  },
  {
   "cell_type": "markdown",
   "metadata": {
    "nbsphinx": "hidden",
    "tags": [
     "CloudRunner"
    ]
   },
   "source": [
    "<table><tr><td>Run the latest release of this notebook:</td><td><a href=\"https://mybinder.org/v2/gh/stellargraph/stellargraph/master?urlpath=lab/tree/demos/link-prediction/complex-link-prediction.ipynb\" alt=\"Open In Binder\" target=\"_parent\"><img src=\"https://mybinder.org/badge_logo.svg\"/></a></td><td><a href=\"https://colab.research.google.com/github/stellargraph/stellargraph/blob/master/demos/link-prediction/complex-link-prediction.ipynb\" alt=\"Open In Colab\" target=\"_parent\"><img src=\"https://colab.research.google.com/assets/colab-badge.svg\"/></a></td></tr></table>"
   ]
  },
  {
   "cell_type": "markdown",
   "metadata": {},
   "source": [
    "\n",
    "This notebook reproduces the experiments done in the paper that introduced the ComplEx algorithm: Complex Embeddings for Simple Link Prediction, Théo Trouillon, Johannes Welbl, Sebastian Riedel, Éric Gaussier and Guillaume Bouchard, ICML 2016. http://jmlr.org/proceedings/papers/v48/trouillon16.pdf\n",
    "\n",
    "In table 2, the paper reports five metrics measured on the WN18 and FB15K datasets: \"raw\" MRR (mean reciprocal rank), \"filtered\" MRR and filtered Hits at {1, 3, 10}. This notebook measures all of these, as well as raw Hits at {1, 3, 10}."
   ]
  },
  {
   "cell_type": "code",
   "execution_count": 24,
   "metadata": {
    "nbsphinx": "hidden",
    "tags": [
     "CloudRunner"
    ]
   },
   "outputs": [],
   "source": [
    "# install StellarGraph if running on Google Colab\n",
    "import sys\n",
    "if 'google.colab' in sys.modules:\n",
    "  %pip install -q stellargraph[demos]==1.2.1"
   ]
  },
  {
   "cell_type": "code",
   "execution_count": 25,
   "metadata": {
    "nbsphinx": "hidden",
    "tags": [
     "VersionCheck"
    ]
   },
   "outputs": [],
   "source": [
    "# verify that we're using the correct version of StellarGraph for this notebook\n",
    "import stellargraph as sg\n",
    "\n",
    "try:\n",
    "    sg.utils.validate_notebook_version(\"1.2.1\")\n",
    "except AttributeError:\n",
    "    raise ValueError(\n",
    "        f\"This notebook requires StellarGraph version 1.2.1, but a different version {sg.__version__} is installed.  Please see <https://github.com/stellargraph/stellargraph/issues/1172>.\"\n",
    "    ) from None"
   ]
  },
  {
   "cell_type": "code",
   "execution_count": 26,
   "metadata": {},
   "outputs": [],
   "source": [
    "from stellargraph import datasets, utils\n",
    "from tensorflow.keras import callbacks, optimizers, losses, metrics, regularizers, Model\n",
    "import numpy as np\n",
    "import pandas as pd\n",
    "\n",
    "from stellargraph.mapper import KGTripleGenerator\n",
    "from stellargraph.layer import ComplEx\n",
    "\n",
    "from IPython.display import HTML"
   ]
  },
  {
   "cell_type": "markdown",
   "metadata": {},
   "source": [
    "## Initialisation\n",
    "\n",
    "We need to set up our model parameters, like the number of epochs to train for, and the dimension of the embedding vectors we compute for each node and for each edge type.\n",
    "\n",
    "The evaluation is performed in three steps:\n",
    "\n",
    "1. Load the data\n",
    "2. Train a model\n",
    "3. Evaluate the model\n",
    "\n",
    "The paper says that it used:\n",
    "- the AdaGrad optimiser for 1000 epochs with an early stopping criterion evaluated every 50 epochs, but we've found using the Adam optimiser allows for much fewer epochs\n",
    "- an embedding dimension of 150 or 200, since they had close results\n",
    "- 10 negative samples (corrupted edges) per positive edge, which gives noticeably improved performance on FB15k compared to using 1, and but not for WN18 (the paper evaluated 1, 2, 5 and 10 negative samples)"
   ]
  },
  {
   "cell_type": "code",
   "execution_count": 27,
   "metadata": {
    "tags": [
     "parameters"
    ]
   },
   "outputs": [],
   "source": [
    "epochs = 50\n",
    "embedding_dimension = 200\n",
    "negative_samples = 10"
   ]
  },
  {
   "cell_type": "markdown",
   "metadata": {},
   "source": [
    "## WN18\n",
    "\n",
    "The paper uses the WN18 and FB15k datasets for validation. These datasets are not good for evaluating algorithms because they contain \"inverse relations\", where `(s, r1, o)` implies `(o, r2, s)` for a pair of relation types `r1` and `r2` (for instance, `_hyponym` (\"is more specific than\") and `_hypernym` (\"is more general than\") in WN18), however, they work fine to demonstrate StellarGraph's functionality, and are appropriate to compare against the published results.\n",
    "\n",
    "### Load the data\n",
    "\n",
    "The dataset comes with a defined train, test and validation split, each consisting of subject, relation, object triples. We can load a `StellarGraph` object with all of the triples, as well as the individual splits as Pandas DataFrames, using the `load` method of the `WN18` dataset."
   ]
  },
  {
   "cell_type": "markdown",
   "metadata": {
    "tags": [
     "DataLoadingLinks"
    ]
   },
   "source": [
    "(See [the \"Loading from Pandas\" demo](../basics/loading-pandas.ipynb) for details on how data can be loaded.)"
   ]
  },
  {
   "cell_type": "code",
   "execution_count": 28,
   "metadata": {
    "tags": [
     "DataLoading"
    ]
   },
   "outputs": [
    {
     "data": {
      "text/html": [
       "The WN18 dataset consists of triplets from WordNet 3.0 (http://wordnet.princeton.edu). There are 40,943 synsets and 18 relation types among them. The training set contains 141442 triplets, the validation set 5000 and the test set 5000. Antoine Bordes, Xavier Glorot, Jason Weston and Yoshua Bengio “A Semantic Matching Energy Function for Learning with Multi-relational Data” (2014).\n",
       "\n",
       "Note: this dataset contains many inverse relations, and so should only be used to compare against published results. Prefer WN18RR. See: Kristina Toutanova and Danqi Chen “Observed versus latent features for knowledge base and text inference” (2015), and Dettmers, Tim, Pasquale Minervini, Pontus Stenetorp and Sebastian Riedel “Convolutional 2D Knowledge Graph Embeddings” (2017)."
      ],
      "text/plain": [
       "<IPython.core.display.HTML object>"
      ]
     },
     "metadata": {},
     "output_type": "display_data"
    }
   ],
   "source": [
    "wn18 = datasets.WN18()\n",
    "display(HTML(wn18.description))\n",
    "wn18_graph, wn18_train, wn18_test, wn18_valid = wn18.load()"
   ]
  },
  {
   "cell_type": "code",
   "execution_count": 29,
   "metadata": {},
   "outputs": [
    {
     "name": "stdout",
     "output_type": "stream",
     "text": [
      "StellarDiGraph: Directed multigraph\n",
      " Nodes: 40943, Edges: 151442\n",
      "\n",
      " Node types:\n",
      "  default: [40943]\n",
      "    Features: none\n",
      "    Edge types: default-_also_see->default, default-_derivationally_related_form->default, default-_has_part->default, default-_hypernym->default, default-_hyponym->default, ... (13 more)\n",
      "\n",
      " Edge types:\n",
      "    default-_hyponym->default: [37221]\n",
      "        Weights: all 1 (default)\n",
      "        Features: none\n",
      "    default-_hypernym->default: [37221]\n",
      "        Weights: all 1 (default)\n",
      "        Features: none\n",
      "    default-_derivationally_related_form->default: [31867]\n",
      "        Weights: all 1 (default)\n",
      "        Features: none\n",
      "    default-_member_meronym->default: [7928]\n",
      "        Weights: all 1 (default)\n",
      "        Features: none\n",
      "    default-_member_holonym->default: [7928]\n",
      "        Weights: all 1 (default)\n",
      "        Features: none\n",
      "    default-_part_of->default: [5148]\n",
      "        Weights: all 1 (default)\n",
      "        Features: none\n",
      "    default-_has_part->default: [5142]\n",
      "        Weights: all 1 (default)\n",
      "        Features: none\n",
      "    default-_member_of_domain_topic->default: [3341]\n",
      "        Weights: all 1 (default)\n",
      "        Features: none\n",
      "    default-_synset_domain_topic_of->default: [3335]\n",
      "        Weights: all 1 (default)\n",
      "        Features: none\n",
      "    default-_instance_hyponym->default: [3150]\n",
      "        Weights: all 1 (default)\n",
      "        Features: none\n",
      "    default-_instance_hypernym->default: [3150]\n",
      "        Weights: all 1 (default)\n",
      "        Features: none\n",
      "    default-_also_see->default: [1396]\n",
      "        Weights: all 1 (default)\n",
      "        Features: none\n",
      "    default-_verb_group->default: [1220]\n",
      "        Weights: all 1 (default)\n",
      "        Features: none\n",
      "    default-_member_of_domain_region->default: [983]\n",
      "        Weights: all 1 (default)\n",
      "        Features: none\n",
      "    default-_synset_domain_region_of->default: [982]\n",
      "        Weights: all 1 (default)\n",
      "        Features: none\n",
      "    default-_member_of_domain_usage->default: [675]\n",
      "        Weights: all 1 (default)\n",
      "        Features: none\n",
      "    default-_synset_domain_usage_of->default: [669]\n",
      "        Weights: all 1 (default)\n",
      "        Features: none\n",
      "    default-_similar_to->default: [86]\n",
      "        Weights: all 1 (default)\n",
      "        Features: none\n"
     ]
    }
   ],
   "source": [
    "print(wn18_graph.info())"
   ]
  },
  {
   "cell_type": "markdown",
   "metadata": {},
   "source": [
    "### Train a model\n",
    "\n",
    "The ComplEx algorithm consists of some embedding layers and a scoring layer, but the `ComplEx` object means these details are invisible to us. The `ComplEx` model consumes \"knowledge-graph triples\", which can be produced in the appropriate format using `KGTripleGenerator`."
   ]
  },
  {
   "cell_type": "code",
   "execution_count": 30,
   "metadata": {},
   "outputs": [
    {
     "name": "stderr",
     "output_type": "stream",
     "text": [
      "/home/kangjunekoo/anaconda3/envs/pytorch/lib/python3.7/site-packages/keras/optimizer_v2/adam.py:105: UserWarning: The `lr` argument is deprecated, use `learning_rate` instead.\n",
      "  super(Adam, self).__init__(name, **kwargs)\n"
     ]
    }
   ],
   "source": [
    "wn18_gen = KGTripleGenerator(\n",
    "    wn18_graph, batch_size=len(wn18_train) // 100  # ~100 batches per epoch\n",
    ")\n",
    "\n",
    "wn18_complex = ComplEx(\n",
    "    wn18_gen,\n",
    "    embedding_dimension=embedding_dimension,\n",
    "    embeddings_regularizer=regularizers.l2(1e-7),\n",
    ")\n",
    "\n",
    "wn18_inp, wn18_out = wn18_complex.in_out_tensors()\n",
    "\n",
    "wn18_model = Model(inputs=wn18_inp, outputs=wn18_out)\n",
    "\n",
    "wn18_model.compile(\n",
    "    optimizer=optimizers.Adam(lr=0.001),\n",
    "    loss=losses.BinaryCrossentropy(from_logits=True),\n",
    "    metrics=[metrics.BinaryAccuracy(threshold=0.0)],\n",
    ")"
   ]
  },
  {
   "cell_type": "markdown",
   "metadata": {},
   "source": [
    "Inputs for training are produced by calling the `KGTripleGenerator.flow` method, this takes a dataframe with `source`, `label` and `target` columns, where each row is a true edge in the knowledge graph.  The `negative_samples` parameter controls how many random edges are created for each positive edge to use as negative examples for training."
   ]
  },
  {
   "cell_type": "code",
   "execution_count": 31,
   "metadata": {},
   "outputs": [],
   "source": [
    "wn18_train_gen = wn18_gen.flow(\n",
    "    wn18_train, negative_samples=negative_samples, shuffle=True\n",
    ")\n",
    "wn18_valid_gen = wn18_gen.flow(wn18_valid, negative_samples=negative_samples)"
   ]
  },
  {
   "cell_type": "code",
   "execution_count": 9,
   "metadata": {},
   "outputs": [
    {
     "name": "stdout",
     "output_type": "stream",
     "text": [
      "Epoch 1/50\n",
      "101/101 [==============================] - 2s 10ms/step - loss: 0.6971 - binary_accuracy: 0.4996 - val_loss: 0.6970 - val_binary_accuracy: 0.5012\n",
      "Epoch 2/50\n",
      "101/101 [==============================] - 1s 8ms/step - loss: 0.6968 - binary_accuracy: 0.5063 - val_loss: 0.6966 - val_binary_accuracy: 0.5023\n",
      "Epoch 3/50\n",
      "101/101 [==============================] - 1s 8ms/step - loss: 0.6963 - binary_accuracy: 0.5178 - val_loss: 0.6961 - val_binary_accuracy: 0.5078\n",
      "Epoch 4/50\n",
      "101/101 [==============================] - 1s 8ms/step - loss: 0.6958 - binary_accuracy: 0.5318 - val_loss: 0.6957 - val_binary_accuracy: 0.5162\n",
      "Epoch 5/50\n",
      "101/101 [==============================] - 1s 8ms/step - loss: 0.6953 - binary_accuracy: 0.5442 - val_loss: 0.6952 - val_binary_accuracy: 0.5373\n",
      "Epoch 6/50\n",
      "101/101 [==============================] - 1s 8ms/step - loss: 0.6942 - binary_accuracy: 0.5907 - val_loss: 0.6932 - val_binary_accuracy: 0.6749\n",
      "Epoch 7/50\n",
      "101/101 [==============================] - 1s 8ms/step - loss: 0.6794 - binary_accuracy: 0.8629 - val_loss: 0.6483 - val_binary_accuracy: 0.9088\n",
      "Epoch 8/50\n",
      "101/101 [==============================] - 1s 8ms/step - loss: 0.5496 - binary_accuracy: 0.9092 - val_loss: 0.4409 - val_binary_accuracy: 0.9091\n",
      "Epoch 9/50\n",
      "101/101 [==============================] - 1s 8ms/step - loss: 0.3514 - binary_accuracy: 0.9110 - val_loss: 0.3089 - val_binary_accuracy: 0.9110\n",
      "Epoch 10/50\n",
      "101/101 [==============================] - 1s 8ms/step - loss: 0.2563 - binary_accuracy: 0.9197 - val_loss: 0.2518 - val_binary_accuracy: 0.9179\n",
      "Epoch 11/50\n",
      "101/101 [==============================] - 1s 8ms/step - loss: 0.1870 - binary_accuracy: 0.9396 - val_loss: 0.1986 - val_binary_accuracy: 0.9322\n",
      "Epoch 12/50\n",
      "101/101 [==============================] - 1s 8ms/step - loss: 0.1284 - binary_accuracy: 0.9686 - val_loss: 0.1528 - val_binary_accuracy: 0.9537\n",
      "Epoch 13/50\n",
      "101/101 [==============================] - 1s 8ms/step - loss: 0.0910 - binary_accuracy: 0.9862 - val_loss: 0.1208 - val_binary_accuracy: 0.9709\n",
      "Epoch 14/50\n",
      "101/101 [==============================] - 1s 9ms/step - loss: 0.0701 - binary_accuracy: 0.9943 - val_loss: 0.1003 - val_binary_accuracy: 0.9822\n",
      "Epoch 15/50\n",
      "101/101 [==============================] - 1s 8ms/step - loss: 0.0591 - binary_accuracy: 0.9971 - val_loss: 0.0888 - val_binary_accuracy: 0.9888\n",
      "Epoch 16/50\n",
      "101/101 [==============================] - 1s 9ms/step - loss: 0.0529 - binary_accuracy: 0.9982 - val_loss: 0.0821 - val_binary_accuracy: 0.9915\n",
      "Epoch 17/50\n",
      "101/101 [==============================] - 1s 9ms/step - loss: 0.0493 - binary_accuracy: 0.9989 - val_loss: 0.0782 - val_binary_accuracy: 0.9929\n",
      "Epoch 18/50\n",
      "101/101 [==============================] - 1s 8ms/step - loss: 0.0470 - binary_accuracy: 0.9992 - val_loss: 0.0755 - val_binary_accuracy: 0.9934\n",
      "Epoch 19/50\n",
      "101/101 [==============================] - 1s 8ms/step - loss: 0.0455 - binary_accuracy: 0.9993 - val_loss: 0.0735 - val_binary_accuracy: 0.9938\n",
      "Epoch 20/50\n",
      "101/101 [==============================] - 1s 9ms/step - loss: 0.0443 - binary_accuracy: 0.9993 - val_loss: 0.0727 - val_binary_accuracy: 0.9939\n",
      "Epoch 21/50\n",
      "101/101 [==============================] - 1s 9ms/step - loss: 0.0435 - binary_accuracy: 0.9994 - val_loss: 0.0720 - val_binary_accuracy: 0.9939\n",
      "Epoch 22/50\n",
      "101/101 [==============================] - 1s 8ms/step - loss: 0.0426 - binary_accuracy: 0.9994 - val_loss: 0.0707 - val_binary_accuracy: 0.9939\n",
      "Epoch 23/50\n",
      "101/101 [==============================] - 1s 8ms/step - loss: 0.0421 - binary_accuracy: 0.9994 - val_loss: 0.0704 - val_binary_accuracy: 0.9937\n",
      "Epoch 24/50\n",
      "101/101 [==============================] - 1s 8ms/step - loss: 0.0415 - binary_accuracy: 0.9994 - val_loss: 0.0691 - val_binary_accuracy: 0.9940\n",
      "Epoch 25/50\n",
      "101/101 [==============================] - 1s 8ms/step - loss: 0.0409 - binary_accuracy: 0.9994 - val_loss: 0.0702 - val_binary_accuracy: 0.9936\n",
      "Epoch 26/50\n",
      "101/101 [==============================] - 1s 9ms/step - loss: 0.0404 - binary_accuracy: 0.9995 - val_loss: 0.0687 - val_binary_accuracy: 0.9939\n",
      "Epoch 27/50\n",
      "101/101 [==============================] - 1s 9ms/step - loss: 0.0400 - binary_accuracy: 0.9994 - val_loss: 0.0683 - val_binary_accuracy: 0.9938\n",
      "Epoch 28/50\n",
      "101/101 [==============================] - 1s 8ms/step - loss: 0.0394 - binary_accuracy: 0.9994 - val_loss: 0.0670 - val_binary_accuracy: 0.9941\n",
      "Epoch 29/50\n",
      "101/101 [==============================] - 1s 9ms/step - loss: 0.0391 - binary_accuracy: 0.9994 - val_loss: 0.0672 - val_binary_accuracy: 0.9940\n",
      "Epoch 30/50\n",
      "101/101 [==============================] - 1s 9ms/step - loss: 0.0386 - binary_accuracy: 0.9994 - val_loss: 0.0665 - val_binary_accuracy: 0.9940\n",
      "Epoch 31/50\n",
      "101/101 [==============================] - 1s 9ms/step - loss: 0.0382 - binary_accuracy: 0.9994 - val_loss: 0.0661 - val_binary_accuracy: 0.9940\n",
      "Epoch 32/50\n",
      "101/101 [==============================] - 1s 8ms/step - loss: 0.0379 - binary_accuracy: 0.9994 - val_loss: 0.0650 - val_binary_accuracy: 0.9941\n",
      "Epoch 33/50\n",
      "101/101 [==============================] - 1s 9ms/step - loss: 0.0374 - binary_accuracy: 0.9994 - val_loss: 0.0653 - val_binary_accuracy: 0.9939\n",
      "Epoch 34/50\n",
      "101/101 [==============================] - 1s 8ms/step - loss: 0.0370 - binary_accuracy: 0.9994 - val_loss: 0.0648 - val_binary_accuracy: 0.9939\n",
      "Epoch 35/50\n",
      "101/101 [==============================] - 1s 9ms/step - loss: 0.0366 - binary_accuracy: 0.9994 - val_loss: 0.0644 - val_binary_accuracy: 0.9940\n",
      "Epoch 36/50\n",
      "101/101 [==============================] - 1s 9ms/step - loss: 0.0363 - binary_accuracy: 0.9994 - val_loss: 0.0647 - val_binary_accuracy: 0.9938\n",
      "Epoch 37/50\n",
      "101/101 [==============================] - 1s 8ms/step - loss: 0.0358 - binary_accuracy: 0.9994 - val_loss: 0.0623 - val_binary_accuracy: 0.9942\n",
      "Epoch 38/50\n",
      "101/101 [==============================] - 1s 9ms/step - loss: 0.0356 - binary_accuracy: 0.9994 - val_loss: 0.0624 - val_binary_accuracy: 0.9940\n",
      "Epoch 39/50\n",
      "101/101 [==============================] - 1s 8ms/step - loss: 0.0350 - binary_accuracy: 0.9994 - val_loss: 0.0627 - val_binary_accuracy: 0.9940\n",
      "Epoch 40/50\n",
      "101/101 [==============================] - 1s 9ms/step - loss: 0.0348 - binary_accuracy: 0.9994 - val_loss: 0.0620 - val_binary_accuracy: 0.9940\n",
      "Epoch 41/50\n",
      "101/101 [==============================] - 1s 8ms/step - loss: 0.0345 - binary_accuracy: 0.9994 - val_loss: 0.0615 - val_binary_accuracy: 0.9939\n",
      "Epoch 42/50\n",
      "101/101 [==============================] - 1s 8ms/step - loss: 0.0341 - binary_accuracy: 0.9994 - val_loss: 0.0616 - val_binary_accuracy: 0.9940\n",
      "Epoch 43/50\n",
      "101/101 [==============================] - 1s 8ms/step - loss: 0.0337 - binary_accuracy: 0.9994 - val_loss: 0.0606 - val_binary_accuracy: 0.9943\n",
      "Epoch 44/50\n",
      "101/101 [==============================] - 1s 8ms/step - loss: 0.0334 - binary_accuracy: 0.9994 - val_loss: 0.0601 - val_binary_accuracy: 0.9942\n",
      "Epoch 45/50\n",
      "101/101 [==============================] - 1s 8ms/step - loss: 0.0331 - binary_accuracy: 0.9994 - val_loss: 0.0606 - val_binary_accuracy: 0.9940\n",
      "Epoch 46/50\n",
      "101/101 [==============================] - 1s 8ms/step - loss: 0.0327 - binary_accuracy: 0.9994 - val_loss: 0.0602 - val_binary_accuracy: 0.9941\n",
      "Epoch 47/50\n",
      "101/101 [==============================] - 1s 8ms/step - loss: 0.0324 - binary_accuracy: 0.9994 - val_loss: 0.0600 - val_binary_accuracy: 0.9941\n",
      "Epoch 48/50\n",
      "101/101 [==============================] - 1s 9ms/step - loss: 0.0322 - binary_accuracy: 0.9994 - val_loss: 0.0591 - val_binary_accuracy: 0.9942\n",
      "Epoch 49/50\n",
      "101/101 [==============================] - 1s 8ms/step - loss: 0.0319 - binary_accuracy: 0.9994 - val_loss: 0.0587 - val_binary_accuracy: 0.9942\n",
      "Epoch 50/50\n",
      "101/101 [==============================] - 1s 8ms/step - loss: 0.0315 - binary_accuracy: 0.9994 - val_loss: 0.0589 - val_binary_accuracy: 0.9940\n"
     ]
    }
   ],
   "source": [
    "wn18_es = callbacks.EarlyStopping(monitor=\"val_loss\", patience=10)\n",
    "wn18_history = wn18_model.fit(\n",
    "    wn18_train_gen, validation_data=wn18_valid_gen, epochs=epochs, callbacks=[wn18_es]\n",
    ")"
   ]
  },
  {
   "cell_type": "code",
   "execution_count": 10,
   "metadata": {},
   "outputs": [
    {
     "data": {
      "image/png": "[encoded data removed]",
      "text/plain": [
       "<Figure size 504x576 with 2 Axes>"
      ]
     },
     "metadata": {
      "needs_background": "light"
     },
     "output_type": "display_data"
    }
   ],
   "source": [
    "utils.plot_history(wn18_history)"
   ]
  },
  {
   "cell_type": "markdown",
   "metadata": {},
   "source": [
    "### Evaluate the model\n",
    "\n",
    "We've now trained a model, so we can apply the evaluation procedure from the paper to it. This is done by taking each test edge `E = (s, r, o)`, and scoring it against all mutations `(s, r, n)` and `(n, r, o)` for every node `n` in the graph, that is, doing a prediction for every one of these edges similar to `E`. The \"raw\" rank is the number of mutated edges that have a higher predicted score than the true `E`."
   ]
  },
  {
   "cell_type": "code",
   "execution_count": 11,
   "metadata": {},
   "outputs": [],
   "source": [
    "wn18_raw_ranks, wn18_filtered_ranks = wn18_complex.rank_edges_against_all_nodes(\n",
    "    wn18_gen.flow(wn18_test), wn18_graph\n",
    ")"
   ]
  },
  {
   "cell_type": "code",
   "execution_count": 12,
   "metadata": {},
   "outputs": [],
   "source": [
    "# helper function to compute metrics from a dictionary of name -> array of ranks\n",
    "def results_as_dataframe(name_to_results):\n",
    "    return pd.DataFrame(\n",
    "        name_to_results.values(),\n",
    "        columns=[\"mrr\", \"hits at 1\", \"hits at 3\", \"hits at 10\"],\n",
    "        index=name_to_results.keys(),\n",
    "    )\n",
    "\n",
    "\n",
    "def summarise(name_to_ranks):\n",
    "    return results_as_dataframe(\n",
    "        {\n",
    "            name: (\n",
    "                np.mean(1 / ranks),\n",
    "                np.mean(ranks <= 1),\n",
    "                np.mean(ranks < 3),\n",
    "                np.mean(ranks <= 10),\n",
    "            )\n",
    "            for name, ranks in name_to_ranks.items()\n",
    "        }\n",
    "    )"
   ]
  },
  {
   "cell_type": "code",
   "execution_count": 13,
   "metadata": {},
   "outputs": [
    {
     "data": {
      "text/html": [
       "<div>\n",
       "<style scoped>\n",
       "    .dataframe tbody tr th:only-of-type {\n",
       "        vertical-align: middle;\n",
       "    }\n",
       "\n",
       "    .dataframe tbody tr th {\n",
       "        vertical-align: top;\n",
       "    }\n",
       "\n",
       "    .dataframe thead th {\n",
       "        text-align: right;\n",
       "    }\n",
       "</style>\n",
       "<table border=\"1\" class=\"dataframe\">\n",
       "  <thead>\n",
       "    <tr style=\"text-align: right;\">\n",
       "      <th></th>\n",
       "      <th>mrr</th>\n",
       "      <th>hits at 1</th>\n",
       "      <th>hits at 3</th>\n",
       "      <th>hits at 10</th>\n",
       "    </tr>\n",
       "  </thead>\n",
       "  <tbody>\n",
       "    <tr>\n",
       "      <th>raw</th>\n",
       "      <td>0.599631</td>\n",
       "      <td>0.4820</td>\n",
       "      <td>0.6080</td>\n",
       "      <td>0.8193</td>\n",
       "    </tr>\n",
       "    <tr>\n",
       "      <th>filtered</th>\n",
       "      <td>0.939870</td>\n",
       "      <td>0.9301</td>\n",
       "      <td>0.9442</td>\n",
       "      <td>0.9540</td>\n",
       "    </tr>\n",
       "  </tbody>\n",
       "</table>\n",
       "</div>"
      ],
      "text/plain": [
       "               mrr  hits at 1  hits at 3  hits at 10\n",
       "raw       0.599631     0.4820     0.6080      0.8193\n",
       "filtered  0.939870     0.9301     0.9442      0.9540"
      ]
     },
     "execution_count": 13,
     "metadata": {},
     "output_type": "execute_result"
    }
   ],
   "source": [
    "summarise({\"raw\": wn18_raw_ranks, \"filtered\": wn18_filtered_ranks})"
   ]
  },
  {
   "cell_type": "markdown",
   "metadata": {},
   "source": [
    "For comparison, Table 2 in the paper gives the following results for WN18 (`NaN` denotes values the paper does not include). All of the numbers are similar:"
   ]
  },
  {
   "cell_type": "code",
   "execution_count": 14,
   "metadata": {},
   "outputs": [
    {
     "data": {
      "text/html": [
       "<div>\n",
       "<style scoped>\n",
       "    .dataframe tbody tr th:only-of-type {\n",
       "        vertical-align: middle;\n",
       "    }\n",
       "\n",
       "    .dataframe tbody tr th {\n",
       "        vertical-align: top;\n",
       "    }\n",
       "\n",
       "    .dataframe thead th {\n",
       "        text-align: right;\n",
       "    }\n",
       "</style>\n",
       "<table border=\"1\" class=\"dataframe\">\n",
       "  <thead>\n",
       "    <tr style=\"text-align: right;\">\n",
       "      <th></th>\n",
       "      <th>mrr</th>\n",
       "      <th>hits at 1</th>\n",
       "      <th>hits at 3</th>\n",
       "      <th>hits at 10</th>\n",
       "    </tr>\n",
       "  </thead>\n",
       "  <tbody>\n",
       "    <tr>\n",
       "      <th>raw</th>\n",
       "      <td>0.587</td>\n",
       "      <td>NaN</td>\n",
       "      <td>NaN</td>\n",
       "      <td>NaN</td>\n",
       "    </tr>\n",
       "    <tr>\n",
       "      <th>filtered</th>\n",
       "      <td>0.941</td>\n",
       "      <td>0.936</td>\n",
       "      <td>0.945</td>\n",
       "      <td>0.947</td>\n",
       "    </tr>\n",
       "  </tbody>\n",
       "</table>\n",
       "</div>"
      ],
      "text/plain": [
       "            mrr  hits at 1  hits at 3  hits at 10\n",
       "raw       0.587        NaN        NaN         NaN\n",
       "filtered  0.941      0.936      0.945       0.947"
      ]
     },
     "execution_count": 14,
     "metadata": {},
     "output_type": "execute_result"
    }
   ],
   "source": [
    "results_as_dataframe(\n",
    "    {\"raw\": (0.587, None, None, None), \"filtered\": (0.941, 0.936, 0.945, 0.947)}\n",
    ")"
   ]
  },
  {
   "cell_type": "markdown",
   "metadata": {},
   "source": [
    "## FB15k\n",
    "\n",
    "Now that we know the process, we can apply the model on the FB15k dataset in the same way.\n",
    "\n",
    "### Loading the data"
   ]
  },
  {
   "cell_type": "code",
   "execution_count": 15,
   "metadata": {
    "tags": [
     "DataLoading"
    ]
   },
   "outputs": [
    {
     "data": {
      "text/html": [
       "This FREEBASE FB15k DATA consists of a collection of triplets (synset, relation_type, triplet)extracted from Freebase (http://www.freebase.com). There are 14,951 nodes and 1,345 relation types among them. The training set contains 483142 triplets, the validation set 50000 and the test set 59071. Antoine Bordes, Nicolas Usunier, Alberto Garcia-Durán, Jason Weston and Oksana Yakhnenko “Translating Embeddings for Modeling Multi-relational Data” (2013).\n",
       "\n",
       "Note: this dataset contains many inverse relations, and so should only be used to compare against published results. Prefer FB15k_237. See: Kristina Toutanova and Danqi Chen “Observed versus latent features for knowledge base and text inference” (2015), and Dettmers, Tim, Pasquale Minervini, Pontus Stenetorp and Sebastian Riedel “Convolutional 2D Knowledge Graph Embeddings” (2017)."
      ],
      "text/plain": [
       "<IPython.core.display.HTML object>"
      ]
     },
     "metadata": {},
     "output_type": "display_data"
    }
   ],
   "source": [
    "fb15k = datasets.FB15k()\n",
    "display(HTML(fb15k.description))\n",
    "fb15k_graph, fb15k_train, fb15k_test, fb15k_valid = fb15k.load()"
   ]
  },
  {
   "cell_type": "code",
   "execution_count": 16,
   "metadata": {},
   "outputs": [
    {
     "name": "stdout",
     "output_type": "stream",
     "text": [
      "StellarDiGraph: Directed multigraph\n",
      " Nodes: 14951, Edges: 592213\n",
      "\n",
      " Node types:\n",
      "  default: [14951]\n",
      "    Features: none\n",
      "    Edge types: default-/american_football/football_coach/coaching_history./american_football/football_historical_coach_position/position->default, default-/american_football/football_coach/coaching_history./american_football/football_historical_coach_position/team->default, default-/american_football/football_coach_position/coaches_holding_this_position./american_football/football_historical_coach_position/coach->default, default-/american_football/football_coach_position/coaches_holding_this_position./american_football/football_historical_coach_position/team->default, default-/american_football/football_player/current_team./american_football/football_roster_position/position->default, ... (1340 more)\n",
      "\n",
      " Edge types:\n",
      "    default-/award/award_nominee/award_nominations./award/award_nomination/award_nominee->default: [19764]\n",
      "        Weights: all 1 (default)\n",
      "        Features: none\n",
      "    default-/film/film/release_date_s./film/film_regional_release_date/film_release_region->default: [15837]\n",
      "        Weights: all 1 (default)\n",
      "        Features: none\n",
      "    default-/award/award_nominee/award_nominations./award/award_nomination/award->default: [14921]\n",
      "        Weights: all 1 (default)\n",
      "        Features: none\n",
      "    default-/award/award_category/nominees./award/award_nomination/award_nominee->default: [14921]\n",
      "        Weights: all 1 (default)\n",
      "        Features: none\n",
      "    default-/people/profession/people_with_this_profession->default: [14220]\n",
      "        Weights: all 1 (default)\n",
      "        Features: none\n",
      "    default-/people/person/profession->default: [14220]\n",
      "        Weights: all 1 (default)\n",
      "        Features: none\n",
      "    default-/film/film/starring./film/performance/actor->default: [11638]\n",
      "        Weights: all 1 (default)\n",
      "        Features: none\n",
      "    default-/film/actor/film./film/performance/film->default: [11638]\n",
      "        Weights: all 1 (default)\n",
      "        Features: none\n",
      "    default-/award/award_nominated_work/award_nominations./award/award_nomination/award->default: [11594]\n",
      "        Weights: all 1 (default)\n",
      "        Features: none\n",
      "    default-/award/award_category/nominees./award/award_nomination/nominated_for->default: [11594]\n",
      "        Weights: all 1 (default)\n",
      "        Features: none\n",
      "    default-/award/award_winner/awards_won./award/award_honor/award_winner->default: [10378]\n",
      "        Weights: all 1 (default)\n",
      "        Features: none\n",
      "    default-/film/film_genre/films_in_this_genre->default: [8946]\n",
      "        Weights: all 1 (default)\n",
      "        Features: none\n",
      "    default-/film/film/genre->default: [8946]\n",
      "        Weights: all 1 (default)\n",
      "        Features: none\n",
      "    default-/award/award_nominee/award_nominations./award/award_nomination/nominated_for->default: [7632]\n",
      "        Weights: all 1 (default)\n",
      "        Features: none\n",
      "    default-/award/award_nominated_work/award_nominations./award/award_nomination/award_nominee->default: [7632]\n",
      "        Weights: all 1 (default)\n",
      "        Features: none\n",
      "    default-/film/film_job/films_with_this_crew_job./film/film_crew_gig/film->default: [7400]\n",
      "        Weights: all 1 (default)\n",
      "        Features: none\n",
      "    default-/film/film/other_crew./film/film_crew_gig/film_crew_role->default: [7400]\n",
      "        Weights: all 1 (default)\n",
      "        Features: none\n",
      "    default-/common/topic/webpage./common/webpage/category->default: [7232]\n",
      "        Weights: all 1 (default)\n",
      "        Features: none\n",
      "    default-/common/annotation_category/annotations./common/webpage/topic->default: [7232]\n",
      "        Weights: all 1 (default)\n",
      "        Features: none\n",
      "    default-/music/genre/artists->default: [7229]\n",
      "        Weights: all 1 (default)\n",
      "        Features: none\n",
      "    ... (1325 more)\n"
     ]
    }
   ],
   "source": [
    "print(fb15k_graph.info())"
   ]
  },
  {
   "cell_type": "markdown",
   "metadata": {},
   "source": [
    "### Train a model"
   ]
  },
  {
   "cell_type": "code",
   "execution_count": 17,
   "metadata": {},
   "outputs": [
    {
     "name": "stderr",
     "output_type": "stream",
     "text": [
      "/home/kangjunekoo/anaconda3/envs/pytorch/lib/python3.7/site-packages/keras/optimizer_v2/adam.py:105: UserWarning: The `lr` argument is deprecated, use `learning_rate` instead.\n",
      "  super(Adam, self).__init__(name, **kwargs)\n"
     ]
    }
   ],
   "source": [
    "fb15k_gen = KGTripleGenerator(\n",
    "    fb15k_graph, batch_size=len(fb15k_train) // 100  # ~100 batches per epoch\n",
    ")\n",
    "\n",
    "fb15k_complex = ComplEx(\n",
    "    fb15k_gen,\n",
    "    embedding_dimension=embedding_dimension,\n",
    "    embeddings_regularizer=regularizers.l2(1e-8),\n",
    ")\n",
    "\n",
    "fb15k_inp, fb15k_out = fb15k_complex.in_out_tensors()\n",
    "\n",
    "fb15k_model = Model(inputs=fb15k_inp, outputs=fb15k_out)\n",
    "fb15k_model.compile(\n",
    "    optimizer=optimizers.Adam(lr=0.001),\n",
    "    loss=losses.BinaryCrossentropy(from_logits=True),\n",
    "    metrics=[metrics.BinaryAccuracy(threshold=0.0)],\n",
    ")"
   ]
  },
  {
   "cell_type": "code",
   "execution_count": 18,
   "metadata": {},
   "outputs": [],
   "source": [
    "fb15k_train_gen = fb15k_gen.flow(\n",
    "    fb15k_train, negative_samples=negative_samples, shuffle=True\n",
    ")\n",
    "fb15k_valid_gen = fb15k_gen.flow(fb15k_valid, negative_samples=negative_samples)"
   ]
  },
  {
   "cell_type": "code",
   "execution_count": 19,
   "metadata": {},
   "outputs": [
    {
     "name": "stdout",
     "output_type": "stream",
     "text": [
      "Epoch 1/50\n",
      "101/101 [==============================] - 2s 16ms/step - loss: 0.6933 - binary_accuracy: 0.5002 - val_loss: 0.6933 - val_binary_accuracy: 0.5012\n",
      "Epoch 2/50\n",
      "101/101 [==============================] - 1s 13ms/step - loss: 0.6933 - binary_accuracy: 0.5032 - val_loss: 0.6933 - val_binary_accuracy: 0.5014\n",
      "Epoch 3/50\n",
      "101/101 [==============================] - 1s 12ms/step - loss: 0.6932 - binary_accuracy: 0.5101 - val_loss: 0.6932 - val_binary_accuracy: 0.5097\n",
      "Epoch 4/50\n",
      "101/101 [==============================] - 1s 13ms/step - loss: 0.6930 - binary_accuracy: 0.5377 - val_loss: 0.6923 - val_binary_accuracy: 0.5768\n",
      "Epoch 5/50\n",
      "101/101 [==============================] - 1s 12ms/step - loss: 0.6751 - binary_accuracy: 0.7837 - val_loss: 0.6193 - val_binary_accuracy: 0.9016\n",
      "Epoch 6/50\n",
      "101/101 [==============================] - 1s 12ms/step - loss: 0.4682 - binary_accuracy: 0.9080 - val_loss: 0.3397 - val_binary_accuracy: 0.9089\n",
      "Epoch 7/50\n",
      "101/101 [==============================] - 1s 12ms/step - loss: 0.2873 - binary_accuracy: 0.9126 - val_loss: 0.2531 - val_binary_accuracy: 0.9170\n",
      "Epoch 8/50\n",
      "101/101 [==============================] - 1s 12ms/step - loss: 0.2264 - binary_accuracy: 0.9217 - val_loss: 0.2076 - val_binary_accuracy: 0.9250\n",
      "Epoch 9/50\n",
      "101/101 [==============================] - 1s 12ms/step - loss: 0.1843 - binary_accuracy: 0.9311 - val_loss: 0.1712 - val_binary_accuracy: 0.9336\n",
      "Epoch 10/50\n",
      "101/101 [==============================] - 1s 12ms/step - loss: 0.1507 - binary_accuracy: 0.9415 - val_loss: 0.1432 - val_binary_accuracy: 0.9433\n",
      "Epoch 11/50\n",
      "101/101 [==============================] - 1s 13ms/step - loss: 0.1258 - binary_accuracy: 0.9510 - val_loss: 0.1241 - val_binary_accuracy: 0.9504\n",
      "Epoch 12/50\n",
      "101/101 [==============================] - 1s 13ms/step - loss: 0.1081 - binary_accuracy: 0.9581 - val_loss: 0.1112 - val_binary_accuracy: 0.9549\n",
      "Epoch 13/50\n",
      "101/101 [==============================] - 1s 13ms/step - loss: 0.0950 - binary_accuracy: 0.9638 - val_loss: 0.1008 - val_binary_accuracy: 0.9592\n",
      "Epoch 14/50\n",
      "101/101 [==============================] - 1s 13ms/step - loss: 0.0846 - binary_accuracy: 0.9684 - val_loss: 0.0936 - val_binary_accuracy: 0.9621\n",
      "Epoch 15/50\n",
      "101/101 [==============================] - 1s 13ms/step - loss: 0.0763 - binary_accuracy: 0.9723 - val_loss: 0.0876 - val_binary_accuracy: 0.9645\n",
      "Epoch 16/50\n",
      "101/101 [==============================] - 1s 13ms/step - loss: 0.0693 - binary_accuracy: 0.9755 - val_loss: 0.0827 - val_binary_accuracy: 0.9667\n",
      "Epoch 17/50\n",
      "101/101 [==============================] - 1s 13ms/step - loss: 0.0639 - binary_accuracy: 0.9779 - val_loss: 0.0787 - val_binary_accuracy: 0.9687\n",
      "Epoch 18/50\n",
      "101/101 [==============================] - 1s 12ms/step - loss: 0.0592 - binary_accuracy: 0.9799 - val_loss: 0.0760 - val_binary_accuracy: 0.9698\n",
      "Epoch 19/50\n",
      "101/101 [==============================] - 1s 13ms/step - loss: 0.0555 - binary_accuracy: 0.9813 - val_loss: 0.0734 - val_binary_accuracy: 0.9713\n",
      "Epoch 20/50\n",
      "101/101 [==============================] - 1s 13ms/step - loss: 0.0524 - binary_accuracy: 0.9825 - val_loss: 0.0721 - val_binary_accuracy: 0.9720\n",
      "Epoch 21/50\n",
      "101/101 [==============================] - 1s 13ms/step - loss: 0.0496 - binary_accuracy: 0.9835 - val_loss: 0.0702 - val_binary_accuracy: 0.9732\n",
      "Epoch 22/50\n",
      "101/101 [==============================] - 1s 13ms/step - loss: 0.0475 - binary_accuracy: 0.9842 - val_loss: 0.0692 - val_binary_accuracy: 0.9739\n",
      "Epoch 23/50\n",
      "101/101 [==============================] - 1s 13ms/step - loss: 0.0457 - binary_accuracy: 0.9850 - val_loss: 0.0689 - val_binary_accuracy: 0.9741\n",
      "Epoch 24/50\n",
      "101/101 [==============================] - 1s 13ms/step - loss: 0.0440 - binary_accuracy: 0.9854 - val_loss: 0.0677 - val_binary_accuracy: 0.9746\n",
      "Epoch 25/50\n",
      "101/101 [==============================] - 1s 13ms/step - loss: 0.0428 - binary_accuracy: 0.9858 - val_loss: 0.0681 - val_binary_accuracy: 0.9749\n",
      "Epoch 26/50\n",
      "101/101 [==============================] - 1s 13ms/step - loss: 0.0416 - binary_accuracy: 0.9862 - val_loss: 0.0678 - val_binary_accuracy: 0.9751\n",
      "Epoch 27/50\n",
      "101/101 [==============================] - 1s 13ms/step - loss: 0.0406 - binary_accuracy: 0.9865 - val_loss: 0.0674 - val_binary_accuracy: 0.9752\n",
      "Epoch 28/50\n",
      "101/101 [==============================] - 1s 13ms/step - loss: 0.0396 - binary_accuracy: 0.9868 - val_loss: 0.0678 - val_binary_accuracy: 0.9754\n",
      "Epoch 29/50\n",
      "101/101 [==============================] - 1s 13ms/step - loss: 0.0388 - binary_accuracy: 0.9871 - val_loss: 0.0677 - val_binary_accuracy: 0.9757\n",
      "Epoch 30/50\n",
      "101/101 [==============================] - 1s 13ms/step - loss: 0.0383 - binary_accuracy: 0.9872 - val_loss: 0.0686 - val_binary_accuracy: 0.9752\n",
      "Epoch 31/50\n",
      "101/101 [==============================] - 1s 13ms/step - loss: 0.0376 - binary_accuracy: 0.9874 - val_loss: 0.0679 - val_binary_accuracy: 0.9757\n",
      "Epoch 32/50\n",
      "101/101 [==============================] - 1s 13ms/step - loss: 0.0369 - binary_accuracy: 0.9877 - val_loss: 0.0682 - val_binary_accuracy: 0.9758\n",
      "Epoch 33/50\n",
      "101/101 [==============================] - 1s 13ms/step - loss: 0.0363 - binary_accuracy: 0.9878 - val_loss: 0.0691 - val_binary_accuracy: 0.9755\n",
      "Epoch 34/50\n",
      "101/101 [==============================] - 1s 13ms/step - loss: 0.0361 - binary_accuracy: 0.9879 - val_loss: 0.0696 - val_binary_accuracy: 0.9756\n",
      "Epoch 35/50\n",
      "101/101 [==============================] - 1s 13ms/step - loss: 0.0356 - binary_accuracy: 0.9881 - val_loss: 0.0697 - val_binary_accuracy: 0.9759\n",
      "Epoch 36/50\n",
      "101/101 [==============================] - 1s 13ms/step - loss: 0.0351 - binary_accuracy: 0.9882 - val_loss: 0.0701 - val_binary_accuracy: 0.9756\n",
      "Epoch 37/50\n",
      "101/101 [==============================] - 1s 13ms/step - loss: 0.0349 - binary_accuracy: 0.9882 - val_loss: 0.0705 - val_binary_accuracy: 0.9754\n"
     ]
    }
   ],
   "source": [
    "fb15k_es = callbacks.EarlyStopping(monitor=\"val_loss\", patience=10)\n",
    "fb15k_history = fb15k_model.fit(\n",
    "    fb15k_train_gen, validation_data=fb15k_valid_gen, epochs=epochs, callbacks=[fb15k_es]\n",
    ")"
   ]
  },
  {
   "cell_type": "code",
   "execution_count": 20,
   "metadata": {},
   "outputs": [
    {
     "data": {
      "image/png": "[encoded data removed]",
      "text/plain": [
       "<Figure size 504x576 with 2 Axes>"
      ]
     },
     "metadata": {
      "needs_background": "light"
     },
     "output_type": "display_data"
    }
   ],
   "source": [
    "utils.plot_history(fb15k_history)"
   ]
  },
  {
   "cell_type": "markdown",
   "metadata": {},
   "source": [
    "### Evaluate the model"
   ]
  },
  {
   "cell_type": "code",
   "execution_count": 21,
   "metadata": {},
   "outputs": [],
   "source": [
    "fb15k_raw_ranks, fb15k_filtered_ranks = fb15k_complex.rank_edges_against_all_nodes(\n",
    "    fb15k_gen.flow(fb15k_test), fb15k_graph\n",
    ")"
   ]
  },
  {
   "cell_type": "code",
   "execution_count": 22,
   "metadata": {},
   "outputs": [
    {
     "data": {
      "text/html": [
       "<div>\n",
       "<style scoped>\n",
       "    .dataframe tbody tr th:only-of-type {\n",
       "        vertical-align: middle;\n",
       "    }\n",
       "\n",
       "    .dataframe tbody tr th {\n",
       "        vertical-align: top;\n",
       "    }\n",
       "\n",
       "    .dataframe thead th {\n",
       "        text-align: right;\n",
       "    }\n",
       "</style>\n",
       "<table border=\"1\" class=\"dataframe\">\n",
       "  <thead>\n",
       "    <tr style=\"text-align: right;\">\n",
       "      <th></th>\n",
       "      <th>mrr</th>\n",
       "      <th>hits at 1</th>\n",
       "      <th>hits at 3</th>\n",
       "      <th>hits at 10</th>\n",
       "    </tr>\n",
       "  </thead>\n",
       "  <tbody>\n",
       "    <tr>\n",
       "      <th>raw</th>\n",
       "      <td>0.258268</td>\n",
       "      <td>0.141965</td>\n",
       "      <td>0.227117</td>\n",
       "      <td>0.515718</td>\n",
       "    </tr>\n",
       "    <tr>\n",
       "      <th>filtered</th>\n",
       "      <td>0.585283</td>\n",
       "      <td>0.454597</td>\n",
       "      <td>0.610867</td>\n",
       "      <td>0.815019</td>\n",
       "    </tr>\n",
       "  </tbody>\n",
       "</table>\n",
       "</div>"
      ],
      "text/plain": [
       "               mrr  hits at 1  hits at 3  hits at 10\n",
       "raw       0.258268   0.141965   0.227117    0.515718\n",
       "filtered  0.585283   0.454597   0.610867    0.815019"
      ]
     },
     "execution_count": 22,
     "metadata": {},
     "output_type": "execute_result"
    }
   ],
   "source": [
    "summarise({\"raw\": fb15k_raw_ranks, \"filtered\": fb15k_filtered_ranks})"
   ]
  },
  {
   "cell_type": "markdown",
   "metadata": {},
   "source": [
    "For comparison, Table 2 in the paper gives the following results for FB15k:"
   ]
  },
  {
   "cell_type": "code",
   "execution_count": 23,
   "metadata": {},
   "outputs": [
    {
     "data": {
      "text/html": [
       "<div>\n",
       "<style scoped>\n",
       "    .dataframe tbody tr th:only-of-type {\n",
       "        vertical-align: middle;\n",
       "    }\n",
       "\n",
       "    .dataframe tbody tr th {\n",
       "        vertical-align: top;\n",
       "    }\n",
       "\n",
       "    .dataframe thead th {\n",
       "        text-align: right;\n",
       "    }\n",
       "</style>\n",
       "<table border=\"1\" class=\"dataframe\">\n",
       "  <thead>\n",
       "    <tr style=\"text-align: right;\">\n",
       "      <th></th>\n",
       "      <th>mrr</th>\n",
       "      <th>hits at 1</th>\n",
       "      <th>hits at 3</th>\n",
       "      <th>hits at 10</th>\n",
       "    </tr>\n",
       "  </thead>\n",
       "  <tbody>\n",
       "    <tr>\n",
       "      <th>raw</th>\n",
       "      <td>0.242</td>\n",
       "      <td>NaN</td>\n",
       "      <td>NaN</td>\n",
       "      <td>NaN</td>\n",
       "    </tr>\n",
       "    <tr>\n",
       "      <th>filtered</th>\n",
       "      <td>0.692</td>\n",
       "      <td>0.599</td>\n",
       "      <td>0.759</td>\n",
       "      <td>0.85</td>\n",
       "    </tr>\n",
       "  </tbody>\n",
       "</table>\n",
       "</div>"
      ],
      "text/plain": [
       "            mrr  hits at 1  hits at 3  hits at 10\n",
       "raw       0.242        NaN        NaN         NaN\n",
       "filtered  0.692      0.599      0.759        0.85"
      ]
     },
     "execution_count": 23,
     "metadata": {},
     "output_type": "execute_result"
    }
   ],
   "source": [
    "results_as_dataframe(\n",
    "    {\"raw\": (0.242, None, None, None), \"filtered\": (0.692, 0.599, 0.759, 0.850)}\n",
    ")"
   ]
  },
  {
   "cell_type": "markdown",
   "metadata": {
    "nbsphinx": "hidden",
    "tags": [
     "CloudRunner"
    ]
   },
   "source": [
    "<table><tr><td>Run the latest release of this notebook:</td><td><a href=\"https://mybinder.org/v2/gh/stellargraph/stellargraph/master?urlpath=lab/tree/demos/link-prediction/complex-link-prediction.ipynb\" alt=\"Open In Binder\" target=\"_parent\"><img src=\"https://mybinder.org/badge_logo.svg\"/></a></td><td><a href=\"https://colab.research.google.com/github/stellargraph/stellargraph/blob/master/demos/link-prediction/complex-link-prediction.ipynb\" alt=\"Open In Colab\" target=\"_parent\"><img src=\"https://colab.research.google.com/assets/colab-badge.svg\"/></a></td></tr></table>"
   ]
  },
  {
   "cell_type": "markdown",
   "metadata": {},
   "source": []
  }
 ],
 "metadata": {
  "kernelspec": {
   "display_name": "Python 3",
   "language": "python",
   "name": "python3"
  },
  "language_info": {
   "codemirror_mode": {
    "name": "ipython",
    "version": 3
   },
   "file_extension": ".py",
   "mimetype": "text/x-python",
   "name": "python",
   "nbconvert_exporter": "python",
   "pygments_lexer": "ipython3",
   "version": "3.7.11"
  }
 },
 "nbformat": 4,
 "nbformat_minor": 4
}
