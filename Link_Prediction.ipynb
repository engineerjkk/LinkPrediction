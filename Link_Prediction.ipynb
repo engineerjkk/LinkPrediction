{
  "nbformat": 4,
  "nbformat_minor": 0,
  "metadata": {
    "colab": {
      "name": "Link_Prediction.ipynb",
      "provenance": [],
      "authorship_tag": "ABX9TyOQnz5nmlAVzd6hFQN0zkhs",
      "include_colab_link": true
    },
    "kernelspec": {
      "name": "python3",
      "display_name": "Python 3"
    },
    "language_info": {
      "name": "python"
    },
    "accelerator": "GPU"
  },
  "cells": [
    {
      "cell_type": "markdown",
      "metadata": {
        "id": "view-in-github",
        "colab_type": "text"
      },
      "source": [
        "<a href=\"https://colab.research.google.com/github/engineerjkk/LinkPrediction/blob/main/Link_Prediction.ipynb\" target=\"_parent\"><img src=\"https://colab.research.google.com/assets/colab-badge.svg\" alt=\"Open In Colab\"/></a>"
      ]
    },
    {
      "cell_type": "code",
      "source": [
        "import networkx as nx\n",
        "import math\n",
        "import itertools\n",
        "import numpy as np"
      ],
      "metadata": {
        "id": "Dj-GMeDtUZO0"
      },
      "execution_count": 38,
      "outputs": []
    },
    {
      "cell_type": "code",
      "source": [
        "def comb(n, k):\n",
        "    if (n<0 or k<0):\n",
        "        return None\n",
        "    else:\n",
        "        return math.factorial(n)/(math.factorial(k)*math.factorial(n-k))"
      ],
      "metadata": {
        "id": "bMBjJBiZaFk9"
      },
      "execution_count": 39,
      "outputs": []
    },
    {
      "cell_type": "code",
      "execution_count": 40,
      "metadata": {
        "colab": {
          "base_uri": "https://localhost:8080/",
          "height": 319
        },
        "id": "wKCQrGXMUPKv",
        "outputId": "194f2a07-18d7-452f-d203-043450c9e042"
      },
      "outputs": [
        {
          "output_type": "display_data",
          "data": {
            "text/plain": [
              "<Figure size 432x288 with 1 Axes>"
            ],
            "image/png": "[encoded data removed]"
          },
          "metadata": {}
        }
      ],
      "source": [
        "G = nx.Graph()\n",
        "edgeList = [(1, 2),(1, 3),(1, 4),(2, 4),(2, 5),(5, 6),(5, 7),(6, 7),(6, 8),(7, 8)]\n",
        "G.add_edges_from(edgeList)\n",
        "nx.draw(G, with_labels=True)"
      ]
    },
    {
      "cell_type": "code",
      "source": [
        "# score based on mutual information\n",
        "def s(x , y, prior, likelihood):\n",
        " # common neighbors\n",
        " CN = nx.common_neighbors(G, x, y)\n",
        " # prior (x, y)\n",
        " priorXY = - np.log2(prior(x, y, G))\n",
        " # sum over neighbors\n",
        " cnMI = 0\n",
        " for z in CN:\n",
        "   # degree of z\n",
        "   kz = G.degree(z)\n",
        "   coeffZ = 1 / (kz * (kz-1))\n",
        "   # sum over edges = neighbors of z\n",
        "   zMI = 0\n",
        "   for m, n in itertools.combinations(G.neighbors(z), 2):\n",
        "     priorInfo = -np.log2(prior(m, n, G))\n",
        "     likelihoodInfo = -np.log2(likelihood(z, G))\n",
        "     # combine mutual information\n",
        "     zMI += 2 * (priorInfo -likelihoodInfo)\n",
        "   # add average mutual information per neighbor\n",
        "   cnMI += coeffZ * zMI\n",
        " return cnMI -priorXY"
      ],
      "metadata": {
        "id": "svdIv9GzUTeZ"
      },
      "execution_count": 41,
      "outputs": []
    },
    {
      "cell_type": "code",
      "source": [
        "def prior(m, n, G):\n",
        " kn = G.degree(n)\n",
        " km = G.degree(m)\n",
        " M = G.number_of_edges()\n",
        " \n",
        " return 1-(comb(M-kn, km))/(comb(M, km))"
      ],
      "metadata": {
        "id": "XteHcoOkUVCY"
      },
      "execution_count": 45,
      "outputs": []
    },
    {
      "cell_type": "code",
      "source": [
        "def likelihood(z, G):\n",
        " kz = G.degree(z)\n",
        " N_triangles = nx.triangles(G, z)\n",
        " N_triads = comb(kz, 2)\n",
        " \n",
        " return N_triangles / N_triads"
      ],
      "metadata": {
        "id": "NH22pUJSZdgw"
      },
      "execution_count": 48,
      "outputs": []
    },
    {
      "cell_type": "code",
      "source": [
        "# -1.667\n",
        "s(2, 3, prior, likelihood)"
      ],
      "metadata": {
        "colab": {
          "base_uri": "https://localhost:8080/"
        },
        "id": "WciIOBc6Zg7w",
        "outputId": "f73befb8-6aff-4cc5-d58e-f1f2889d3eec"
      },
      "execution_count": 49,
      "outputs": [
        {
          "output_type": "execute_result",
          "data": {
            "text/plain": [
              "-1.6666666666666665"
            ]
          },
          "metadata": {},
          "execution_count": 49
        }
      ]
    },
    {
      "cell_type": "code",
      "source": [
        ""
      ],
      "metadata": {
        "id": "K4Uz2YHfZjzB"
      },
      "execution_count": null,
      "outputs": []
    }
  ]
}