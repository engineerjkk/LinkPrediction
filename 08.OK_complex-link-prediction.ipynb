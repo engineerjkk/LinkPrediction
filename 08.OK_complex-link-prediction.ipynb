{
 "cells": [
  {
   "cell_type": "markdown",
   "metadata": {},
   "source": [
    "# Knowledge graph link prediction with ComplEx\n"
   ]
  },
  {
   "cell_type": "markdown",
   "metadata": {
    "nbsphinx": "hidden",
    "tags": [
     "CloudRunner"
    ]
   },
   "source": [
    "<table><tr><td>Run the latest release of this notebook:</td><td><a href=\"https://mybinder.org/v2/gh/stellargraph/stellargraph/master?urlpath=lab/tree/demos/link-prediction/complex-link-prediction.ipynb\" alt=\"Open In Binder\" target=\"_parent\"><img src=\"https://mybinder.org/badge_logo.svg\"/></a></td><td><a href=\"https://colab.research.google.com/github/stellargraph/stellargraph/blob/master/demos/link-prediction/complex-link-prediction.ipynb\" alt=\"Open In Colab\" target=\"_parent\"><img src=\"https://colab.research.google.com/assets/colab-badge.svg\"/></a></td></tr></table>"
   ]
  },
  {
   "cell_type": "markdown",
   "metadata": {},
   "source": [
    "\n",
    "This notebook reproduces the experiments done in the paper that introduced the ComplEx algorithm: Complex Embeddings for Simple Link Prediction, Théo Trouillon, Johannes Welbl, Sebastian Riedel, Éric Gaussier and Guillaume Bouchard, ICML 2016. http://jmlr.org/proceedings/papers/v48/trouillon16.pdf\n",
    "\n",
    "In table 2, the paper reports five metrics measured on the WN18 and FB15K datasets: \"raw\" MRR (mean reciprocal rank), \"filtered\" MRR and filtered Hits at {1, 3, 10}. This notebook measures all of these, as well as raw Hits at {1, 3, 10}."
   ]
  },
  {
   "cell_type": "code",
   "execution_count": 1,
   "metadata": {
    "nbsphinx": "hidden",
    "tags": [
     "CloudRunner"
    ]
   },
   "outputs": [],
   "source": [
    "# install StellarGraph if running on Google Colab\n",
    "import sys\n",
    "if 'google.colab' in sys.modules:\n",
    "  %pip install -q stellargraph[demos]==1.2.1"
   ]
  },
  {
   "cell_type": "code",
   "execution_count": 2,
   "metadata": {
    "nbsphinx": "hidden",
    "tags": [
     "VersionCheck"
    ]
   },
   "outputs": [
    {
     "name": "stderr",
     "output_type": "stream",
     "text": [
      "2022-04-06 22:43:24.166757: I tensorflow/core/platform/cpu_feature_guard.cc:151] This TensorFlow binary is optimized with oneAPI Deep Neural Network Library (oneDNN) to use the following CPU instructions in performance-critical operations:  AVX2 AVX512F FMA\n",
      "To enable them in other operations, rebuild TensorFlow with the appropriate compiler flags.\n",
      "2022-04-06 22:43:24.924897: I tensorflow/core/common_runtime/gpu/gpu_device.cc:1525] Created device /job:localhost/replica:0/task:0/device:GPU:0 with 892 MB memory:  -> device: 0, name: NVIDIA GeForce RTX 3090, pci bus id: 0000:1a:00.0, compute capability: 8.6\n",
      "2022-04-06 22:43:24.925475: I tensorflow/core/common_runtime/gpu/gpu_device.cc:1525] Created device /job:localhost/replica:0/task:0/device:GPU:1 with 20899 MB memory:  -> device: 1, name: NVIDIA GeForce RTX 3090, pci bus id: 0000:68:00.0, compute capability: 8.6\n"
     ]
    }
   ],
   "source": [
    "# verify that we're using the correct version of StellarGraph for this notebook\n",
    "import stellargraph as sg\n",
    "\n",
    "try:\n",
    "    sg.utils.validate_notebook_version(\"1.2.1\")\n",
    "except AttributeError:\n",
    "    raise ValueError(\n",
    "        f\"This notebook requires StellarGraph version 1.2.1, but a different version {sg.__version__} is installed.  Please see <https://github.com/stellargraph/stellargraph/issues/1172>.\"\n",
    "    ) from None"
   ]
  },
  {
   "cell_type": "code",
   "execution_count": 3,
   "metadata": {},
   "outputs": [],
   "source": [
    "from stellargraph import datasets, utils\n",
    "from tensorflow.keras import callbacks, optimizers, losses, metrics, regularizers, Model\n",
    "import numpy as np\n",
    "import pandas as pd\n",
    "\n",
    "from stellargraph.mapper import KGTripleGenerator\n",
    "from stellargraph.layer import ComplEx\n",
    "\n",
    "from IPython.display import HTML"
   ]
  },
  {
   "cell_type": "markdown",
   "metadata": {},
   "source": [
    "## Initialisation\n",
    "\n",
    "We need to set up our model parameters, like the number of epochs to train for, and the dimension of the embedding vectors we compute for each node and for each edge type.\n",
    "\n",
    "The evaluation is performed in three steps:\n",
    "\n",
    "1. Load the data\n",
    "2. Train a model\n",
    "3. Evaluate the model\n",
    "\n",
    "The paper says that it used:\n",
    "- the AdaGrad optimiser for 1000 epochs with an early stopping criterion evaluated every 50 epochs, but we've found using the Adam optimiser allows for much fewer epochs\n",
    "- an embedding dimension of 150 or 200, since they had close results\n",
    "- 10 negative samples (corrupted edges) per positive edge, which gives noticeably improved performance on FB15k compared to using 1, and but not for WN18 (the paper evaluated 1, 2, 5 and 10 negative samples)"
   ]
  },
  {
   "cell_type": "code",
   "execution_count": 4,
   "metadata": {
    "tags": [
     "parameters"
    ]
   },
   "outputs": [],
   "source": [
    "epochs = 50\n",
    "embedding_dimension = 200\n",
    "negative_samples = 10"
   ]
  },
  {
   "cell_type": "markdown",
   "metadata": {},
   "source": [
    "## WN18\n",
    "\n",
    "The paper uses the WN18 and FB15k datasets for validation. These datasets are not good for evaluating algorithms because they contain \"inverse relations\", where `(s, r1, o)` implies `(o, r2, s)` for a pair of relation types `r1` and `r2` (for instance, `_hyponym` (\"is more specific than\") and `_hypernym` (\"is more general than\") in WN18), however, they work fine to demonstrate StellarGraph's functionality, and are appropriate to compare against the published results.\n",
    "\n",
    "### Load the data\n",
    "\n",
    "The dataset comes with a defined train, test and validation split, each consisting of subject, relation, object triples. We can load a `StellarGraph` object with all of the triples, as well as the individual splits as Pandas DataFrames, using the `load` method of the `WN18` dataset."
   ]
  },
  {
   "cell_type": "markdown",
   "metadata": {
    "tags": [
     "DataLoadingLinks"
    ]
   },
   "source": [
    "(See [the \"Loading from Pandas\" demo](../basics/loading-pandas.ipynb) for details on how data can be loaded.)"
   ]
  },
  {
   "cell_type": "code",
   "execution_count": 5,
   "metadata": {
    "tags": [
     "DataLoading"
    ]
   },
   "outputs": [
    {
     "data": {
      "text/html": [
       "The WN18 dataset consists of triplets from WordNet 3.0 (http://wordnet.princeton.edu). There are 40,943 synsets and 18 relation types among them. The training set contains 141442 triplets, the validation set 5000 and the test set 5000. Antoine Bordes, Xavier Glorot, Jason Weston and Yoshua Bengio “A Semantic Matching Energy Function for Learning with Multi-relational Data” (2014).\n",
       "\n",
       "Note: this dataset contains many inverse relations, and so should only be used to compare against published results. Prefer WN18RR. See: Kristina Toutanova and Danqi Chen “Observed versus latent features for knowledge base and text inference” (2015), and Dettmers, Tim, Pasquale Minervini, Pontus Stenetorp and Sebastian Riedel “Convolutional 2D Knowledge Graph Embeddings” (2017)."
      ],
      "text/plain": [
       "<IPython.core.display.HTML object>"
      ]
     },
     "metadata": {},
     "output_type": "display_data"
    }
   ],
   "source": [
    "wn18 = datasets.WN18()\n",
    "display(HTML(wn18.description))\n",
    "wn18_graph, wn18_train, wn18_test, wn18_valid = wn18.load()"
   ]
  },
  {
   "cell_type": "code",
   "execution_count": 6,
   "metadata": {},
   "outputs": [
    {
     "name": "stdout",
     "output_type": "stream",
     "text": [
      "StellarDiGraph: Directed multigraph\n",
      " Nodes: 40943, Edges: 151442\n",
      "\n",
      " Node types:\n",
      "  default: [40943]\n",
      "    Features: none\n",
      "    Edge types: default-_also_see->default, default-_derivationally_related_form->default, default-_has_part->default, default-_hypernym->default, default-_hyponym->default, ... (13 more)\n",
      "\n",
      " Edge types:\n",
      "    default-_hyponym->default: [37221]\n",
      "        Weights: all 1 (default)\n",
      "        Features: none\n",
      "    default-_hypernym->default: [37221]\n",
      "        Weights: all 1 (default)\n",
      "        Features: none\n",
      "    default-_derivationally_related_form->default: [31867]\n",
      "        Weights: all 1 (default)\n",
      "        Features: none\n",
      "    default-_member_meronym->default: [7928]\n",
      "        Weights: all 1 (default)\n",
      "        Features: none\n",
      "    default-_member_holonym->default: [7928]\n",
      "        Weights: all 1 (default)\n",
      "        Features: none\n",
      "    default-_part_of->default: [5148]\n",
      "        Weights: all 1 (default)\n",
      "        Features: none\n",
      "    default-_has_part->default: [5142]\n",
      "        Weights: all 1 (default)\n",
      "        Features: none\n",
      "    default-_member_of_domain_topic->default: [3341]\n",
      "        Weights: all 1 (default)\n",
      "        Features: none\n",
      "    default-_synset_domain_topic_of->default: [3335]\n",
      "        Weights: all 1 (default)\n",
      "        Features: none\n",
      "    default-_instance_hyponym->default: [3150]\n",
      "        Weights: all 1 (default)\n",
      "        Features: none\n",
      "    default-_instance_hypernym->default: [3150]\n",
      "        Weights: all 1 (default)\n",
      "        Features: none\n",
      "    default-_also_see->default: [1396]\n",
      "        Weights: all 1 (default)\n",
      "        Features: none\n",
      "    default-_verb_group->default: [1220]\n",
      "        Weights: all 1 (default)\n",
      "        Features: none\n",
      "    default-_member_of_domain_region->default: [983]\n",
      "        Weights: all 1 (default)\n",
      "        Features: none\n",
      "    default-_synset_domain_region_of->default: [982]\n",
      "        Weights: all 1 (default)\n",
      "        Features: none\n",
      "    default-_member_of_domain_usage->default: [675]\n",
      "        Weights: all 1 (default)\n",
      "        Features: none\n",
      "    default-_synset_domain_usage_of->default: [669]\n",
      "        Weights: all 1 (default)\n",
      "        Features: none\n",
      "    default-_similar_to->default: [86]\n",
      "        Weights: all 1 (default)\n",
      "        Features: none\n"
     ]
    }
   ],
   "source": [
    "print(wn18_graph.info())"
   ]
  },
  {
   "cell_type": "markdown",
   "metadata": {},
   "source": [
    "### Train a model\n",
    "\n",
    "The ComplEx algorithm consists of some embedding layers and a scoring layer, but the `ComplEx` object means these details are invisible to us. The `ComplEx` model consumes \"knowledge-graph triples\", which can be produced in the appropriate format using `KGTripleGenerator`."
   ]
  },
  {
   "cell_type": "code",
   "execution_count": 7,
   "metadata": {},
   "outputs": [
    {
     "name": "stderr",
     "output_type": "stream",
     "text": [
      "/home/kangjunekoo/anaconda3/envs/pytorch/lib/python3.7/site-packages/keras/optimizer_v2/adam.py:105: UserWarning: The `lr` argument is deprecated, use `learning_rate` instead.\n",
      "  super(Adam, self).__init__(name, **kwargs)\n"
     ]
    }
   ],
   "source": [
    "wn18_gen = KGTripleGenerator(\n",
    "    wn18_graph, batch_size=len(wn18_train) // 100  # ~100 batches per epoch\n",
    ")\n",
    "\n",
    "wn18_complex = ComplEx(\n",
    "    wn18_gen,\n",
    "    embedding_dimension=embedding_dimension,\n",
    "    embeddings_regularizer=regularizers.l2(1e-7),\n",
    ")\n",
    "\n",
    "wn18_inp, wn18_out = wn18_complex.in_out_tensors()\n",
    "\n",
    "wn18_model = Model(inputs=wn18_inp, outputs=wn18_out)\n",
    "\n",
    "wn18_model.compile(\n",
    "    optimizer=optimizers.Adam(lr=0.001),\n",
    "    loss=losses.BinaryCrossentropy(from_logits=True),\n",
    "    metrics=[metrics.BinaryAccuracy(threshold=0.0)],\n",
    ")"
   ]
  },
  {
   "cell_type": "markdown",
   "metadata": {},
   "source": [
    "Inputs for training are produced by calling the `KGTripleGenerator.flow` method, this takes a dataframe with `source`, `label` and `target` columns, where each row is a true edge in the knowledge graph.  The `negative_samples` parameter controls how many random edges are created for each positive edge to use as negative examples for training."
   ]
  },
  {
   "cell_type": "code",
   "execution_count": 8,
   "metadata": {},
   "outputs": [],
   "source": [
    "wn18_train_gen = wn18_gen.flow(\n",
    "    wn18_train, negative_samples=negative_samples, shuffle=True\n",
    ")\n",
    "wn18_valid_gen = wn18_gen.flow(wn18_valid, negative_samples=negative_samples)"
   ]
  },
  {
   "cell_type": "code",
   "execution_count": 9,
   "metadata": {},
   "outputs": [
    {
     "name": "stdout",
     "output_type": "stream",
     "text": [
      "Epoch 1/50\n",
      "101/101 [==============================] - 2s 9ms/step - loss: 0.6971 - binary_accuracy: 0.4994 - val_loss: 0.6970 - val_binary_accuracy: 0.4965\n",
      "Epoch 2/50\n",
      "101/101 [==============================] - 1s 8ms/step - loss: 0.6968 - binary_accuracy: 0.5064 - val_loss: 0.6966 - val_binary_accuracy: 0.5045\n",
      "Epoch 3/50\n",
      "101/101 [==============================] - 1s 8ms/step - loss: 0.6963 - binary_accuracy: 0.5172 - val_loss: 0.6961 - val_binary_accuracy: 0.5053\n",
      "Epoch 4/50\n",
      "101/101 [==============================] - 1s 8ms/step - loss: 0.6958 - binary_accuracy: 0.5314 - val_loss: 0.6957 - val_binary_accuracy: 0.5164\n",
      "Epoch 5/50\n",
      "101/101 [==============================] - 1s 8ms/step - loss: 0.6953 - binary_accuracy: 0.5454 - val_loss: 0.6952 - val_binary_accuracy: 0.5411\n",
      "Epoch 6/50\n",
      "101/101 [==============================] - 1s 8ms/step - loss: 0.6938 - binary_accuracy: 0.6295 - val_loss: 0.6913 - val_binary_accuracy: 0.7815\n",
      "Epoch 7/50\n",
      "101/101 [==============================] - 1s 8ms/step - loss: 0.6653 - binary_accuracy: 0.9039 - val_loss: 0.6120 - val_binary_accuracy: 0.9090\n",
      "Epoch 8/50\n",
      "101/101 [==============================] - 1s 8ms/step - loss: 0.4970 - binary_accuracy: 0.9091 - val_loss: 0.3952 - val_binary_accuracy: 0.9091\n",
      "Epoch 9/50\n",
      "101/101 [==============================] - 1s 8ms/step - loss: 0.3262 - binary_accuracy: 0.9113 - val_loss: 0.2981 - val_binary_accuracy: 0.9115\n",
      "Epoch 10/50\n",
      "101/101 [==============================] - 1s 8ms/step - loss: 0.2468 - binary_accuracy: 0.9207 - val_loss: 0.2451 - val_binary_accuracy: 0.9191\n",
      "Epoch 11/50\n",
      "101/101 [==============================] - 1s 8ms/step - loss: 0.1784 - binary_accuracy: 0.9435 - val_loss: 0.1936 - val_binary_accuracy: 0.9350\n",
      "Epoch 12/50\n",
      "101/101 [==============================] - 1s 8ms/step - loss: 0.1226 - binary_accuracy: 0.9717 - val_loss: 0.1490 - val_binary_accuracy: 0.9552\n",
      "Epoch 13/50\n",
      "101/101 [==============================] - 1s 8ms/step - loss: 0.0876 - binary_accuracy: 0.9875 - val_loss: 0.1183 - val_binary_accuracy: 0.9718\n",
      "Epoch 14/50\n",
      "101/101 [==============================] - 1s 8ms/step - loss: 0.0685 - binary_accuracy: 0.9948 - val_loss: 0.0991 - val_binary_accuracy: 0.9833\n",
      "Epoch 15/50\n",
      "101/101 [==============================] - 1s 8ms/step - loss: 0.0583 - binary_accuracy: 0.9973 - val_loss: 0.0875 - val_binary_accuracy: 0.9893\n",
      "Epoch 16/50\n",
      "101/101 [==============================] - 1s 8ms/step - loss: 0.0525 - binary_accuracy: 0.9984 - val_loss: 0.0821 - val_binary_accuracy: 0.9918\n",
      "Epoch 17/50\n",
      "101/101 [==============================] - 1s 9ms/step - loss: 0.0490 - binary_accuracy: 0.9990 - val_loss: 0.0778 - val_binary_accuracy: 0.9933\n",
      "Epoch 18/50\n",
      "101/101 [==============================] - 1s 8ms/step - loss: 0.0470 - binary_accuracy: 0.9991 - val_loss: 0.0759 - val_binary_accuracy: 0.9934\n",
      "Epoch 19/50\n",
      "101/101 [==============================] - 1s 8ms/step - loss: 0.0452 - binary_accuracy: 0.9993 - val_loss: 0.0738 - val_binary_accuracy: 0.9937\n",
      "Epoch 20/50\n",
      "101/101 [==============================] - 1s 8ms/step - loss: 0.0442 - binary_accuracy: 0.9994 - val_loss: 0.0731 - val_binary_accuracy: 0.9939\n",
      "Epoch 21/50\n",
      "101/101 [==============================] - 1s 8ms/step - loss: 0.0434 - binary_accuracy: 0.9993 - val_loss: 0.0719 - val_binary_accuracy: 0.9940\n",
      "Epoch 22/50\n",
      "101/101 [==============================] - 1s 8ms/step - loss: 0.0427 - binary_accuracy: 0.9994 - val_loss: 0.0716 - val_binary_accuracy: 0.9939\n",
      "Epoch 23/50\n",
      "101/101 [==============================] - 1s 8ms/step - loss: 0.0420 - binary_accuracy: 0.9994 - val_loss: 0.0708 - val_binary_accuracy: 0.9937\n",
      "Epoch 24/50\n",
      "101/101 [==============================] - 1s 8ms/step - loss: 0.0415 - binary_accuracy: 0.9994 - val_loss: 0.0702 - val_binary_accuracy: 0.9939\n",
      "Epoch 25/50\n",
      "101/101 [==============================] - 1s 8ms/step - loss: 0.0409 - binary_accuracy: 0.9994 - val_loss: 0.0689 - val_binary_accuracy: 0.9940\n",
      "Epoch 26/50\n",
      "101/101 [==============================] - 1s 9ms/step - loss: 0.0405 - binary_accuracy: 0.9994 - val_loss: 0.0684 - val_binary_accuracy: 0.9940\n",
      "Epoch 27/50\n",
      "101/101 [==============================] - 1s 8ms/step - loss: 0.0401 - binary_accuracy: 0.9994 - val_loss: 0.0674 - val_binary_accuracy: 0.9942\n",
      "Epoch 28/50\n",
      "101/101 [==============================] - 1s 8ms/step - loss: 0.0395 - binary_accuracy: 0.9994 - val_loss: 0.0679 - val_binary_accuracy: 0.9939\n",
      "Epoch 29/50\n",
      "101/101 [==============================] - 1s 8ms/step - loss: 0.0389 - binary_accuracy: 0.9994 - val_loss: 0.0671 - val_binary_accuracy: 0.9939\n",
      "Epoch 30/50\n",
      "101/101 [==============================] - 1s 8ms/step - loss: 0.0386 - binary_accuracy: 0.9994 - val_loss: 0.0672 - val_binary_accuracy: 0.9937\n",
      "Epoch 31/50\n",
      "101/101 [==============================] - 1s 8ms/step - loss: 0.0382 - binary_accuracy: 0.9994 - val_loss: 0.0661 - val_binary_accuracy: 0.9940\n",
      "Epoch 32/50\n",
      "101/101 [==============================] - 1s 8ms/step - loss: 0.0380 - binary_accuracy: 0.9994 - val_loss: 0.0659 - val_binary_accuracy: 0.9939\n",
      "Epoch 33/50\n",
      "101/101 [==============================] - 1s 8ms/step - loss: 0.0375 - binary_accuracy: 0.9994 - val_loss: 0.0650 - val_binary_accuracy: 0.9940\n",
      "Epoch 34/50\n",
      "101/101 [==============================] - 1s 8ms/step - loss: 0.0369 - binary_accuracy: 0.9995 - val_loss: 0.0654 - val_binary_accuracy: 0.9939\n",
      "Epoch 35/50\n",
      "101/101 [==============================] - 1s 8ms/step - loss: 0.0366 - binary_accuracy: 0.9994 - val_loss: 0.0647 - val_binary_accuracy: 0.9939\n",
      "Epoch 36/50\n",
      "101/101 [==============================] - 1s 9ms/step - loss: 0.0361 - binary_accuracy: 0.9994 - val_loss: 0.0631 - val_binary_accuracy: 0.9943\n",
      "Epoch 37/50\n",
      "101/101 [==============================] - 1s 9ms/step - loss: 0.0360 - binary_accuracy: 0.9994 - val_loss: 0.0628 - val_binary_accuracy: 0.9942\n",
      "Epoch 38/50\n",
      "101/101 [==============================] - 1s 8ms/step - loss: 0.0355 - binary_accuracy: 0.9994 - val_loss: 0.0627 - val_binary_accuracy: 0.9941\n",
      "Epoch 39/50\n",
      "101/101 [==============================] - 1s 8ms/step - loss: 0.0351 - binary_accuracy: 0.9994 - val_loss: 0.0626 - val_binary_accuracy: 0.9941\n",
      "Epoch 40/50\n",
      "101/101 [==============================] - 1s 8ms/step - loss: 0.0349 - binary_accuracy: 0.9994 - val_loss: 0.0622 - val_binary_accuracy: 0.9940\n",
      "Epoch 41/50\n",
      "101/101 [==============================] - 1s 8ms/step - loss: 0.0345 - binary_accuracy: 0.9994 - val_loss: 0.0620 - val_binary_accuracy: 0.9941\n",
      "Epoch 42/50\n",
      "101/101 [==============================] - 1s 8ms/step - loss: 0.0341 - binary_accuracy: 0.9994 - val_loss: 0.0616 - val_binary_accuracy: 0.9940\n",
      "Epoch 43/50\n",
      "101/101 [==============================] - 1s 8ms/step - loss: 0.0337 - binary_accuracy: 0.9994 - val_loss: 0.0616 - val_binary_accuracy: 0.9939\n",
      "Epoch 44/50\n",
      "101/101 [==============================] - 1s 8ms/step - loss: 0.0335 - binary_accuracy: 0.9994 - val_loss: 0.0600 - val_binary_accuracy: 0.9943\n",
      "Epoch 45/50\n",
      "101/101 [==============================] - 1s 8ms/step - loss: 0.0332 - binary_accuracy: 0.9994 - val_loss: 0.0609 - val_binary_accuracy: 0.9941\n",
      "Epoch 46/50\n",
      "101/101 [==============================] - 1s 8ms/step - loss: 0.0327 - binary_accuracy: 0.9994 - val_loss: 0.0610 - val_binary_accuracy: 0.9939\n",
      "Epoch 47/50\n",
      "101/101 [==============================] - 1s 9ms/step - loss: 0.0325 - binary_accuracy: 0.9994 - val_loss: 0.0606 - val_binary_accuracy: 0.9939\n",
      "Epoch 48/50\n",
      "101/101 [==============================] - 1s 9ms/step - loss: 0.0322 - binary_accuracy: 0.9994 - val_loss: 0.0592 - val_binary_accuracy: 0.9943\n",
      "Epoch 49/50\n",
      "101/101 [==============================] - 1s 8ms/step - loss: 0.0319 - binary_accuracy: 0.9994 - val_loss: 0.0594 - val_binary_accuracy: 0.9940\n",
      "Epoch 50/50\n",
      "101/101 [==============================] - 1s 8ms/step - loss: 0.0315 - binary_accuracy: 0.9994 - val_loss: 0.0586 - val_binary_accuracy: 0.9941\n"
     ]
    }
   ],
   "source": [
    "wn18_es = callbacks.EarlyStopping(monitor=\"val_loss\", patience=10)\n",
    "wn18_history = wn18_model.fit(\n",
    "    wn18_train_gen, validation_data=wn18_valid_gen, epochs=epochs, callbacks=[wn18_es]\n",
    ")"
   ]
  },
  {
   "cell_type": "code",
   "execution_count": 10,
   "metadata": {},
   "outputs": [
    {
     "data": {
      "image/png": "[encoded data removed]",
      "text/plain": [
       "<Figure size 504x576 with 2 Axes>"
      ]
     },
     "metadata": {
      "needs_background": "light"
     },
     "output_type": "display_data"
    }
   ],
   "source": [
    "utils.plot_history(wn18_history)"
   ]
  },
  {
   "cell_type": "markdown",
   "metadata": {},
   "source": [
    "### Evaluate the model\n",
    "\n",
    "We've now trained a model, so we can apply the evaluation procedure from the paper to it. This is done by taking each test edge `E = (s, r, o)`, and scoring it against all mutations `(s, r, n)` and `(n, r, o)` for every node `n` in the graph, that is, doing a prediction for every one of these edges similar to `E`. The \"raw\" rank is the number of mutated edges that have a higher predicted score than the true `E`."
   ]
  },
  {
   "cell_type": "code",
   "execution_count": 11,
   "metadata": {},
   "outputs": [],
   "source": [
    "wn18_raw_ranks, wn18_filtered_ranks = wn18_complex.rank_edges_against_all_nodes(\n",
    "    wn18_gen.flow(wn18_test), wn18_graph\n",
    ")"
   ]
  },
  {
   "cell_type": "code",
   "execution_count": 12,
   "metadata": {},
   "outputs": [],
   "source": [
    "# helper function to compute metrics from a dictionary of name -> array of ranks\n",
    "def results_as_dataframe(name_to_results):\n",
    "    return pd.DataFrame(\n",
    "        name_to_results.values(),\n",
    "        columns=[\"mrr\", \"hits at 1\", \"hits at 3\", \"hits at 10\"],\n",
    "        index=name_to_results.keys(),\n",
    "    )\n",
    "\n",
    "\n",
    "def summarise(name_to_ranks):\n",
    "    return results_as_dataframe(\n",
    "        {\n",
    "            name: (\n",
    "                np.mean(1 / ranks),\n",
    "                np.mean(ranks <= 1),\n",
    "                np.mean(ranks < 3),\n",
    "                np.mean(ranks <= 10),\n",
    "            )\n",
    "            for name, ranks in name_to_ranks.items()\n",
    "        }\n",
    "    )"
   ]
  },
  {
   "cell_type": "code",
   "execution_count": 13,
   "metadata": {},
   "outputs": [
    {
     "data": {
      "text/html": [
       "<div>\n",
       "<style scoped>\n",
       "    .dataframe tbody tr th:only-of-type {\n",
       "        vertical-align: middle;\n",
       "    }\n",
       "\n",
       "    .dataframe tbody tr th {\n",
       "        vertical-align: top;\n",
       "    }\n",
       "\n",
       "    .dataframe thead th {\n",
       "        text-align: right;\n",
       "    }\n",
       "</style>\n",
       "<table border=\"1\" class=\"dataframe\">\n",
       "  <thead>\n",
       "    <tr style=\"text-align: right;\">\n",
       "      <th></th>\n",
       "      <th>mrr</th>\n",
       "      <th>hits at 1</th>\n",
       "      <th>hits at 3</th>\n",
       "      <th>hits at 10</th>\n",
       "    </tr>\n",
       "  </thead>\n",
       "  <tbody>\n",
       "    <tr>\n",
       "      <th>raw</th>\n",
       "      <td>0.597685</td>\n",
       "      <td>0.4794</td>\n",
       "      <td>0.6061</td>\n",
       "      <td>0.8172</td>\n",
       "    </tr>\n",
       "    <tr>\n",
       "      <th>filtered</th>\n",
       "      <td>0.939534</td>\n",
       "      <td>0.9300</td>\n",
       "      <td>0.9448</td>\n",
       "      <td>0.9527</td>\n",
       "    </tr>\n",
       "  </tbody>\n",
       "</table>\n",
       "</div>"
      ],
      "text/plain": [
       "               mrr  hits at 1  hits at 3  hits at 10\n",
       "raw       0.597685     0.4794     0.6061      0.8172\n",
       "filtered  0.939534     0.9300     0.9448      0.9527"
      ]
     },
     "execution_count": 13,
     "metadata": {},
     "output_type": "execute_result"
    }
   ],
   "source": [
    "summarise({\"raw\": wn18_raw_ranks, \"filtered\": wn18_filtered_ranks})"
   ]
  },
  {
   "cell_type": "markdown",
   "metadata": {},
   "source": [
    "For comparison, Table 2 in the paper gives the following results for WN18 (`NaN` denotes values the paper does not include). All of the numbers are similar:"
   ]
  },
  {
   "cell_type": "code",
   "execution_count": 14,
   "metadata": {},
   "outputs": [
    {
     "data": {
      "text/html": [
       "<div>\n",
       "<style scoped>\n",
       "    .dataframe tbody tr th:only-of-type {\n",
       "        vertical-align: middle;\n",
       "    }\n",
       "\n",
       "    .dataframe tbody tr th {\n",
       "        vertical-align: top;\n",
       "    }\n",
       "\n",
       "    .dataframe thead th {\n",
       "        text-align: right;\n",
       "    }\n",
       "</style>\n",
       "<table border=\"1\" class=\"dataframe\">\n",
       "  <thead>\n",
       "    <tr style=\"text-align: right;\">\n",
       "      <th></th>\n",
       "      <th>mrr</th>\n",
       "      <th>hits at 1</th>\n",
       "      <th>hits at 3</th>\n",
       "      <th>hits at 10</th>\n",
       "    </tr>\n",
       "  </thead>\n",
       "  <tbody>\n",
       "    <tr>\n",
       "      <th>raw</th>\n",
       "      <td>0.587</td>\n",
       "      <td>NaN</td>\n",
       "      <td>NaN</td>\n",
       "      <td>NaN</td>\n",
       "    </tr>\n",
       "    <tr>\n",
       "      <th>filtered</th>\n",
       "      <td>0.941</td>\n",
       "      <td>0.936</td>\n",
       "      <td>0.945</td>\n",
       "      <td>0.947</td>\n",
       "    </tr>\n",
       "  </tbody>\n",
       "</table>\n",
       "</div>"
      ],
      "text/plain": [
       "            mrr  hits at 1  hits at 3  hits at 10\n",
       "raw       0.587        NaN        NaN         NaN\n",
       "filtered  0.941      0.936      0.945       0.947"
      ]
     },
     "execution_count": 14,
     "metadata": {},
     "output_type": "execute_result"
    }
   ],
   "source": [
    "results_as_dataframe(\n",
    "    {\"raw\": (0.587, None, None, None), \"filtered\": (0.941, 0.936, 0.945, 0.947)}\n",
    ")"
   ]
  },
  {
   "cell_type": "markdown",
   "metadata": {},
   "source": [
    "## FB15k\n",
    "\n",
    "Now that we know the process, we can apply the model on the FB15k dataset in the same way.\n",
    "\n",
    "### Loading the data"
   ]
  },
  {
   "cell_type": "code",
   "execution_count": 15,
   "metadata": {
    "tags": [
     "DataLoading"
    ]
   },
   "outputs": [
    {
     "data": {
      "text/html": [
       "This FREEBASE FB15k DATA consists of a collection of triplets (synset, relation_type, triplet)extracted from Freebase (http://www.freebase.com). There are 14,951 nodes and 1,345 relation types among them. The training set contains 483142 triplets, the validation set 50000 and the test set 59071. Antoine Bordes, Nicolas Usunier, Alberto Garcia-Durán, Jason Weston and Oksana Yakhnenko “Translating Embeddings for Modeling Multi-relational Data” (2013).\n",
       "\n",
       "Note: this dataset contains many inverse relations, and so should only be used to compare against published results. Prefer FB15k_237. See: Kristina Toutanova and Danqi Chen “Observed versus latent features for knowledge base and text inference” (2015), and Dettmers, Tim, Pasquale Minervini, Pontus Stenetorp and Sebastian Riedel “Convolutional 2D Knowledge Graph Embeddings” (2017)."
      ],
      "text/plain": [
       "<IPython.core.display.HTML object>"
      ]
     },
     "metadata": {},
     "output_type": "display_data"
    }
   ],
   "source": [
    "fb15k = datasets.FB15k()\n",
    "display(HTML(fb15k.description))\n",
    "fb15k_graph, fb15k_train, fb15k_test, fb15k_valid = fb15k.load()"
   ]
  },
  {
   "cell_type": "code",
   "execution_count": 16,
   "metadata": {},
   "outputs": [
    {
     "name": "stdout",
     "output_type": "stream",
     "text": [
      "StellarDiGraph: Directed multigraph\n",
      " Nodes: 14951, Edges: 592213\n",
      "\n",
      " Node types:\n",
      "  default: [14951]\n",
      "    Features: none\n",
      "    Edge types: default-/american_football/football_coach/coaching_history./american_football/football_historical_coach_position/position->default, default-/american_football/football_coach/coaching_history./american_football/football_historical_coach_position/team->default, default-/american_football/football_coach_position/coaches_holding_this_position./american_football/football_historical_coach_position/coach->default, default-/american_football/football_coach_position/coaches_holding_this_position./american_football/football_historical_coach_position/team->default, default-/american_football/football_player/current_team./american_football/football_roster_position/position->default, ... (1340 more)\n",
      "\n",
      " Edge types:\n",
      "    default-/award/award_nominee/award_nominations./award/award_nomination/award_nominee->default: [19764]\n",
      "        Weights: all 1 (default)\n",
      "        Features: none\n",
      "    default-/film/film/release_date_s./film/film_regional_release_date/film_release_region->default: [15837]\n",
      "        Weights: all 1 (default)\n",
      "        Features: none\n",
      "    default-/award/award_nominee/award_nominations./award/award_nomination/award->default: [14921]\n",
      "        Weights: all 1 (default)\n",
      "        Features: none\n",
      "    default-/award/award_category/nominees./award/award_nomination/award_nominee->default: [14921]\n",
      "        Weights: all 1 (default)\n",
      "        Features: none\n",
      "    default-/people/profession/people_with_this_profession->default: [14220]\n",
      "        Weights: all 1 (default)\n",
      "        Features: none\n",
      "    default-/people/person/profession->default: [14220]\n",
      "        Weights: all 1 (default)\n",
      "        Features: none\n",
      "    default-/film/film/starring./film/performance/actor->default: [11638]\n",
      "        Weights: all 1 (default)\n",
      "        Features: none\n",
      "    default-/film/actor/film./film/performance/film->default: [11638]\n",
      "        Weights: all 1 (default)\n",
      "        Features: none\n",
      "    default-/award/award_nominated_work/award_nominations./award/award_nomination/award->default: [11594]\n",
      "        Weights: all 1 (default)\n",
      "        Features: none\n",
      "    default-/award/award_category/nominees./award/award_nomination/nominated_for->default: [11594]\n",
      "        Weights: all 1 (default)\n",
      "        Features: none\n",
      "    default-/award/award_winner/awards_won./award/award_honor/award_winner->default: [10378]\n",
      "        Weights: all 1 (default)\n",
      "        Features: none\n",
      "    default-/film/film_genre/films_in_this_genre->default: [8946]\n",
      "        Weights: all 1 (default)\n",
      "        Features: none\n",
      "    default-/film/film/genre->default: [8946]\n",
      "        Weights: all 1 (default)\n",
      "        Features: none\n",
      "    default-/award/award_nominee/award_nominations./award/award_nomination/nominated_for->default: [7632]\n",
      "        Weights: all 1 (default)\n",
      "        Features: none\n",
      "    default-/award/award_nominated_work/award_nominations./award/award_nomination/award_nominee->default: [7632]\n",
      "        Weights: all 1 (default)\n",
      "        Features: none\n",
      "    default-/film/film_job/films_with_this_crew_job./film/film_crew_gig/film->default: [7400]\n",
      "        Weights: all 1 (default)\n",
      "        Features: none\n",
      "    default-/film/film/other_crew./film/film_crew_gig/film_crew_role->default: [7400]\n",
      "        Weights: all 1 (default)\n",
      "        Features: none\n",
      "    default-/common/topic/webpage./common/webpage/category->default: [7232]\n",
      "        Weights: all 1 (default)\n",
      "        Features: none\n",
      "    default-/common/annotation_category/annotations./common/webpage/topic->default: [7232]\n",
      "        Weights: all 1 (default)\n",
      "        Features: none\n",
      "    default-/music/genre/artists->default: [7229]\n",
      "        Weights: all 1 (default)\n",
      "        Features: none\n",
      "    ... (1325 more)\n"
     ]
    }
   ],
   "source": [
    "print(fb15k_graph.info())"
   ]
  },
  {
   "cell_type": "markdown",
   "metadata": {},
   "source": [
    "### Train a model"
   ]
  },
  {
   "cell_type": "code",
   "execution_count": 17,
   "metadata": {},
   "outputs": [
    {
     "name": "stderr",
     "output_type": "stream",
     "text": [
      "/home/kangjunekoo/anaconda3/envs/pytorch/lib/python3.7/site-packages/keras/optimizer_v2/adam.py:105: UserWarning: The `lr` argument is deprecated, use `learning_rate` instead.\n",
      "  super(Adam, self).__init__(name, **kwargs)\n"
     ]
    }
   ],
   "source": [
    "fb15k_gen = KGTripleGenerator(\n",
    "    fb15k_graph, batch_size=len(fb15k_train) // 100  # ~100 batches per epoch\n",
    ")\n",
    "\n",
    "fb15k_complex = ComplEx(\n",
    "    fb15k_gen,\n",
    "    embedding_dimension=embedding_dimension,\n",
    "    embeddings_regularizer=regularizers.l2(1e-8),\n",
    ")\n",
    "\n",
    "fb15k_inp, fb15k_out = fb15k_complex.in_out_tensors()\n",
    "\n",
    "fb15k_model = Model(inputs=fb15k_inp, outputs=fb15k_out)\n",
    "fb15k_model.compile(\n",
    "    optimizer=optimizers.Adam(lr=0.001),\n",
    "    loss=losses.BinaryCrossentropy(from_logits=True),\n",
    "    metrics=[metrics.BinaryAccuracy(threshold=0.0)],\n",
    ")"
   ]
  },
  {
   "cell_type": "code",
   "execution_count": 18,
   "metadata": {},
   "outputs": [],
   "source": [
    "fb15k_train_gen = fb15k_gen.flow(\n",
    "    fb15k_train, negative_samples=negative_samples, shuffle=True\n",
    ")\n",
    "fb15k_valid_gen = fb15k_gen.flow(fb15k_valid, negative_samples=negative_samples)"
   ]
  },
  {
   "cell_type": "code",
   "execution_count": 19,
   "metadata": {},
   "outputs": [
    {
     "name": "stdout",
     "output_type": "stream",
     "text": [
      "Epoch 1/50\n"
     ]
    },
    {
     "name": "stderr",
     "output_type": "stream",
     "text": [
      "2022-04-06 22:44:53.737970: W tensorflow/core/common_runtime/bfc_allocator.cc:462] Allocator (GPU_0_bfc) ran out of memory trying to allocate 40.54MiB (rounded to 42512896)requested by op gradient_tape/model_1/compl_ex_score_1/BroadcastTo_3\n",
      "If the cause is memory fragmentation maybe the environment variable 'TF_GPU_ALLOCATOR=cuda_malloc_async' will improve the situation. \n",
      "Current allocation summary follows.\n",
      "Current allocation summary follows.\n",
      "2022-04-06 22:44:53.738068: I tensorflow/core/common_runtime/bfc_allocator.cc:1010] BFCAllocator dump for GPU_0_bfc\n",
      "2022-04-06 22:44:53.738098: I tensorflow/core/common_runtime/bfc_allocator.cc:1017] Bin (256): \tTotal Chunks: 52, Chunks in use: 52. 13.0KiB allocated for chunks. 13.0KiB in use in bin. 264B client-requested in use in bin.\n",
      "2022-04-06 22:44:53.738114: I tensorflow/core/common_runtime/bfc_allocator.cc:1017] Bin (512): \tTotal Chunks: 1, Chunks in use: 0. 768B allocated for chunks. 0B in use in bin. 0B client-requested in use in bin.\n",
      "2022-04-06 22:44:53.738129: I tensorflow/core/common_runtime/bfc_allocator.cc:1017] Bin (1024): \tTotal Chunks: 2, Chunks in use: 1. 2.2KiB allocated for chunks. 1.2KiB in use in bin. 1.0KiB client-requested in use in bin.\n",
      "2022-04-06 22:44:53.738142: I tensorflow/core/common_runtime/bfc_allocator.cc:1017] Bin (2048): \tTotal Chunks: 0, Chunks in use: 0. 0B allocated for chunks. 0B in use in bin. 0B client-requested in use in bin.\n",
      "2022-04-06 22:44:53.738155: I tensorflow/core/common_runtime/bfc_allocator.cc:1017] Bin (4096): \tTotal Chunks: 1, Chunks in use: 0. 5.5KiB allocated for chunks. 0B in use in bin. 0B client-requested in use in bin.\n",
      "2022-04-06 22:44:53.738172: I tensorflow/core/common_runtime/bfc_allocator.cc:1017] Bin (8192): \tTotal Chunks: 7, Chunks in use: 6. 100.2KiB allocated for chunks. 85.5KiB in use in bin. 84.4KiB client-requested in use in bin.\n",
      "2022-04-06 22:44:53.738188: I tensorflow/core/common_runtime/bfc_allocator.cc:1017] Bin (16384): \tTotal Chunks: 1, Chunks in use: 1. 25.5KiB allocated for chunks. 25.5KiB in use in bin. 14.1KiB client-requested in use in bin.\n",
      "2022-04-06 22:44:53.738201: I tensorflow/core/common_runtime/bfc_allocator.cc:1017] Bin (32768): \tTotal Chunks: 0, Chunks in use: 0. 0B allocated for chunks. 0B in use in bin. 0B client-requested in use in bin.\n",
      "2022-04-06 22:44:53.738212: I tensorflow/core/common_runtime/bfc_allocator.cc:1017] Bin (65536): \tTotal Chunks: 0, Chunks in use: 0. 0B allocated for chunks. 0B in use in bin. 0B client-requested in use in bin.\n",
      "2022-04-06 22:44:53.738229: I tensorflow/core/common_runtime/bfc_allocator.cc:1017] Bin (131072): \tTotal Chunks: 3, Chunks in use: 2. 576.2KiB allocated for chunks. 427.8KiB in use in bin. 415.2KiB client-requested in use in bin.\n",
      "2022-04-06 22:44:53.738262: I tensorflow/core/common_runtime/bfc_allocator.cc:1017] Bin (262144): \tTotal Chunks: 2, Chunks in use: 1. 830.8KiB allocated for chunks. 415.2KiB in use in bin. 415.2KiB client-requested in use in bin.\n",
      "2022-04-06 22:44:53.738277: I tensorflow/core/common_runtime/bfc_allocator.cc:1017] Bin (524288): \tTotal Chunks: 1, Chunks in use: 0. 623.2KiB allocated for chunks. 0B in use in bin. 0B client-requested in use in bin.\n",
      "2022-04-06 22:44:53.738293: I tensorflow/core/common_runtime/bfc_allocator.cc:1017] Bin (1048576): \tTotal Chunks: 10, Chunks in use: 10. 10.38MiB allocated for chunks. 10.38MiB in use in bin. 10.26MiB client-requested in use in bin.\n",
      "2022-04-06 22:44:53.738306: I tensorflow/core/common_runtime/bfc_allocator.cc:1017] Bin (2097152): \tTotal Chunks: 0, Chunks in use: 0. 0B allocated for chunks. 0B in use in bin. 0B client-requested in use in bin.\n",
      "2022-04-06 22:44:53.738317: I tensorflow/core/common_runtime/bfc_allocator.cc:1017] Bin (4194304): \tTotal Chunks: 0, Chunks in use: 0. 0B allocated for chunks. 0B in use in bin. 0B client-requested in use in bin.\n",
      "2022-04-06 22:44:53.738333: I tensorflow/core/common_runtime/bfc_allocator.cc:1017] Bin (8388608): \tTotal Chunks: 8, Chunks in use: 6. 90.44MiB allocated for chunks. 68.44MiB in use in bin. 68.44MiB client-requested in use in bin.\n",
      "2022-04-06 22:44:53.738349: I tensorflow/core/common_runtime/bfc_allocator.cc:1017] Bin (16777216): \tTotal Chunks: 6, Chunks in use: 6. 161.46MiB allocated for chunks. 161.46MiB in use in bin. 147.76MiB client-requested in use in bin.\n",
      "2022-04-06 22:44:53.738365: I tensorflow/core/common_runtime/bfc_allocator.cc:1017] Bin (33554432): \tTotal Chunks: 15, Chunks in use: 15. 628.34MiB allocated for chunks. 628.34MiB in use in bin. 589.54MiB client-requested in use in bin.\n",
      "2022-04-06 22:44:53.738378: I tensorflow/core/common_runtime/bfc_allocator.cc:1017] Bin (67108864): \tTotal Chunks: 0, Chunks in use: 0. 0B allocated for chunks. 0B in use in bin. 0B client-requested in use in bin.\n",
      "2022-04-06 22:44:53.738390: I tensorflow/core/common_runtime/bfc_allocator.cc:1017] Bin (134217728): \tTotal Chunks: 0, Chunks in use: 0. 0B allocated for chunks. 0B in use in bin. 0B client-requested in use in bin.\n",
      "2022-04-06 22:44:53.738405: I tensorflow/core/common_runtime/bfc_allocator.cc:1017] Bin (268435456): \tTotal Chunks: 0, Chunks in use: 0. 0B allocated for chunks. 0B in use in bin. 0B client-requested in use in bin.\n",
      "2022-04-06 22:44:53.738419: I tensorflow/core/common_runtime/bfc_allocator.cc:1033] Bin for 40.54MiB was 32.00MiB, Chunk State: \n",
      "2022-04-06 22:44:53.738429: I tensorflow/core/common_runtime/bfc_allocator.cc:1046] Next region of size 936116224\n",
      "2022-04-06 22:44:53.738448: I tensorflow/core/common_runtime/bfc_allocator.cc:1066] InUse at 7fc820000000 of size 1280 next 1\n",
      "2022-04-06 22:44:53.738458: I tensorflow/core/common_runtime/bfc_allocator.cc:1066] InUse at 7fc820000500 of size 256 next 2\n",
      "2022-04-06 22:44:53.738468: I tensorflow/core/common_runtime/bfc_allocator.cc:1066] InUse at 7fc820000600 of size 256 next 3\n",
      "2022-04-06 22:44:53.738477: I tensorflow/core/common_runtime/bfc_allocator.cc:1066] InUse at 7fc820000700 of size 256 next 4\n",
      "2022-04-06 22:44:53.738486: I tensorflow/core/common_runtime/bfc_allocator.cc:1066] InUse at 7fc820000800 of size 256 next 5\n",
      "2022-04-06 22:44:53.738495: I tensorflow/core/common_runtime/bfc_allocator.cc:1066] InUse at 7fc820000900 of size 256 next 6\n",
      "2022-04-06 22:44:53.738504: I tensorflow/core/common_runtime/bfc_allocator.cc:1066] InUse at 7fc820000a00 of size 256 next 7\n",
      "2022-04-06 22:44:53.738513: I tensorflow/core/common_runtime/bfc_allocator.cc:1066] InUse at 7fc820000b00 of size 256 next 14\n",
      "2022-04-06 22:44:53.738523: I tensorflow/core/common_runtime/bfc_allocator.cc:1066] InUse at 7fc820000c00 of size 256 next 15\n",
      "2022-04-06 22:44:53.738532: I tensorflow/core/common_runtime/bfc_allocator.cc:1066] InUse at 7fc820000d00 of size 256 next 63\n",
      "2022-04-06 22:44:53.738541: I tensorflow/core/common_runtime/bfc_allocator.cc:1066] InUse at 7fc820000e00 of size 256 next 17\n",
      "2022-04-06 22:44:53.738550: I tensorflow/core/common_runtime/bfc_allocator.cc:1066] InUse at 7fc820000f00 of size 256 next 18\n",
      "2022-04-06 22:44:53.738559: I tensorflow/core/common_runtime/bfc_allocator.cc:1066] InUse at 7fc820001000 of size 256 next 19\n",
      "2022-04-06 22:44:53.738568: I tensorflow/core/common_runtime/bfc_allocator.cc:1066] InUse at 7fc820001100 of size 256 next 20\n",
      "2022-04-06 22:44:53.738577: I tensorflow/core/common_runtime/bfc_allocator.cc:1066] InUse at 7fc820001200 of size 256 next 21\n",
      "2022-04-06 22:44:53.738586: I tensorflow/core/common_runtime/bfc_allocator.cc:1066] InUse at 7fc820001300 of size 256 next 22\n",
      "2022-04-06 22:44:53.738595: I tensorflow/core/common_runtime/bfc_allocator.cc:1066] InUse at 7fc820001400 of size 256 next 23\n",
      "2022-04-06 22:44:53.738604: I tensorflow/core/common_runtime/bfc_allocator.cc:1066] InUse at 7fc820001500 of size 256 next 24\n",
      "2022-04-06 22:44:53.738614: I tensorflow/core/common_runtime/bfc_allocator.cc:1066] InUse at 7fc820001600 of size 26112 next 11\n",
      "2022-04-06 22:44:53.738624: I tensorflow/core/common_runtime/bfc_allocator.cc:1066] Free  at 7fc820007c00 of size 15104 next 64\n",
      "2022-04-06 22:44:53.738633: I tensorflow/core/common_runtime/bfc_allocator.cc:1066] InUse at 7fc82000b700 of size 256 next 69\n",
      "2022-04-06 22:44:53.738642: I tensorflow/core/common_runtime/bfc_allocator.cc:1066] InUse at 7fc82000b800 of size 256 next 66\n",
      "2022-04-06 22:44:53.738651: I tensorflow/core/common_runtime/bfc_allocator.cc:1066] InUse at 7fc82000b900 of size 256 next 53\n",
      "2022-04-06 22:44:53.738660: I tensorflow/core/common_runtime/bfc_allocator.cc:1066] InUse at 7fc82000ba00 of size 256 next 68\n",
      "2022-04-06 22:44:53.738670: I tensorflow/core/common_runtime/bfc_allocator.cc:1066] InUse at 7fc82000bb00 of size 256 next 101\n",
      "2022-04-06 22:44:53.738679: I tensorflow/core/common_runtime/bfc_allocator.cc:1066] InUse at 7fc82000bc00 of size 256 next 74\n",
      "2022-04-06 22:44:53.738688: I tensorflow/core/common_runtime/bfc_allocator.cc:1066] InUse at 7fc82000bd00 of size 256 next 87\n",
      "2022-04-06 22:44:53.738697: I tensorflow/core/common_runtime/bfc_allocator.cc:1066] InUse at 7fc82000be00 of size 256 next 94\n",
      "2022-04-06 22:44:53.738708: I tensorflow/core/common_runtime/bfc_allocator.cc:1066] InUse at 7fc82000bf00 of size 256 next 80\n",
      "2022-04-06 22:44:53.738717: I tensorflow/core/common_runtime/bfc_allocator.cc:1066] InUse at 7fc82000c000 of size 256 next 42\n",
      "2022-04-06 22:44:53.738726: I tensorflow/core/common_runtime/bfc_allocator.cc:1066] InUse at 7fc82000c100 of size 256 next 49\n",
      "2022-04-06 22:44:53.738735: I tensorflow/core/common_runtime/bfc_allocator.cc:1066] InUse at 7fc82000c200 of size 256 next 98\n",
      "2022-04-06 22:44:53.738745: I tensorflow/core/common_runtime/bfc_allocator.cc:1066] InUse at 7fc82000c300 of size 256 next 48\n",
      "2022-04-06 22:44:53.738754: I tensorflow/core/common_runtime/bfc_allocator.cc:1066] InUse at 7fc82000c400 of size 256 next 85\n",
      "2022-04-06 22:44:53.738763: I tensorflow/core/common_runtime/bfc_allocator.cc:1066] InUse at 7fc82000c500 of size 256 next 100\n",
      "2022-04-06 22:44:53.738772: I tensorflow/core/common_runtime/bfc_allocator.cc:1066] InUse at 7fc82000c600 of size 256 next 86\n",
      "2022-04-06 22:44:53.738781: I tensorflow/core/common_runtime/bfc_allocator.cc:1066] InUse at 7fc82000c700 of size 256 next 102\n",
      "2022-04-06 22:44:53.738790: I tensorflow/core/common_runtime/bfc_allocator.cc:1066] InUse at 7fc82000c800 of size 256 next 54\n",
      "2022-04-06 22:44:53.738799: I tensorflow/core/common_runtime/bfc_allocator.cc:1066] InUse at 7fc82000c900 of size 256 next 84\n",
      "2022-04-06 22:44:53.738808: I tensorflow/core/common_runtime/bfc_allocator.cc:1066] InUse at 7fc82000ca00 of size 256 next 50\n",
      "2022-04-06 22:44:53.738817: I tensorflow/core/common_runtime/bfc_allocator.cc:1066] InUse at 7fc82000cb00 of size 256 next 88\n",
      "2022-04-06 22:44:53.738826: I tensorflow/core/common_runtime/bfc_allocator.cc:1066] InUse at 7fc82000cc00 of size 256 next 55\n",
      "2022-04-06 22:44:53.738835: I tensorflow/core/common_runtime/bfc_allocator.cc:1066] InUse at 7fc82000cd00 of size 256 next 65\n",
      "2022-04-06 22:44:53.738844: I tensorflow/core/common_runtime/bfc_allocator.cc:1066] Free  at 7fc82000ce00 of size 768 next 75\n",
      "2022-04-06 22:44:53.738854: I tensorflow/core/common_runtime/bfc_allocator.cc:1066] InUse at 7fc82000d100 of size 256 next 47\n",
      "2022-04-06 22:44:53.738863: I tensorflow/core/common_runtime/bfc_allocator.cc:1066] Free  at 7fc82000d200 of size 1024 next 45\n",
      "2022-04-06 22:44:53.738872: I tensorflow/core/common_runtime/bfc_allocator.cc:1066] InUse at 7fc82000d600 of size 256 next 99\n",
      "2022-04-06 22:44:53.738881: I tensorflow/core/common_runtime/bfc_allocator.cc:1066] InUse at 7fc82000d700 of size 256 next 76\n",
      "2022-04-06 22:44:53.738891: I tensorflow/core/common_runtime/bfc_allocator.cc:1066] Free  at 7fc82000d800 of size 5632 next 13\n",
      "2022-04-06 22:44:53.738901: I tensorflow/core/common_runtime/bfc_allocator.cc:1066] InUse at 7fc82000ee00 of size 65450496 next 8\n",
      "2022-04-06 22:44:53.738912: I tensorflow/core/common_runtime/bfc_allocator.cc:1066] InUse at 7fc823e7a000 of size 35880192 next 46\n",
      "2022-04-06 22:44:53.738921: I tensorflow/core/common_runtime/bfc_allocator.cc:1066] InUse at 7fc8260b1d00 of size 14592 next 73\n",
      "2022-04-06 22:44:53.738931: I tensorflow/core/common_runtime/bfc_allocator.cc:1066] Free  at 7fc8260b5600 of size 152064 next 43\n",
      "2022-04-06 22:44:53.738940: I tensorflow/core/common_runtime/bfc_allocator.cc:1066] InUse at 7fc8260da800 of size 14592 next 78\n",
      "2022-04-06 22:44:53.738950: I tensorflow/core/common_runtime/bfc_allocator.cc:1066] InUse at 7fc8260de100 of size 1076224 next 52\n",
      "2022-04-06 22:44:53.738960: I tensorflow/core/common_runtime/bfc_allocator.cc:1066] InUse at 7fc8261e4d00 of size 1076224 next 60\n",
      "2022-04-06 22:44:53.738969: I tensorflow/core/common_runtime/bfc_allocator.cc:1066] InUse at 7fc8262eb900 of size 1076224 next 90\n",
      "2022-04-06 22:44:53.738979: I tensorflow/core/common_runtime/bfc_allocator.cc:1066] InUse at 7fc8263f2500 of size 1076224 next 103\n",
      "2022-04-06 22:44:53.738988: I tensorflow/core/common_runtime/bfc_allocator.cc:1066] InUse at 7fc8264f9100 of size 1076224 next 16\n",
      "2022-04-06 22:44:53.738997: I tensorflow/core/common_runtime/bfc_allocator.cc:1066] InUse at 7fc8265ffd00 of size 1076224 next 44\n",
      "2022-04-06 22:44:53.739008: I tensorflow/core/common_runtime/bfc_allocator.cc:1066] InUse at 7fc826706900 of size 1076224 next 70\n",
      "2022-04-06 22:44:53.739017: I tensorflow/core/common_runtime/bfc_allocator.cc:1066] InUse at 7fc82680d500 of size 1076224 next 95\n",
      "2022-04-06 22:44:53.739026: I tensorflow/core/common_runtime/bfc_allocator.cc:1066] InUse at 7fc826914100 of size 1076224 next 97\n",
      "2022-04-06 22:44:53.739038: I tensorflow/core/common_runtime/bfc_allocator.cc:1066] InUse at 7fc826a1ad00 of size 212992 next 56\n",
      "2022-04-06 22:44:53.739048: I tensorflow/core/common_runtime/bfc_allocator.cc:1066] Free  at 7fc826a4ed00 of size 638208 next 116\n",
      "2022-04-06 22:44:53.739057: I tensorflow/core/common_runtime/bfc_allocator.cc:1066] InUse at 7fc826aeaa00 of size 225024 next 96\n",
      "2022-04-06 22:44:53.739067: I tensorflow/core/common_runtime/bfc_allocator.cc:1066] InUse at 7fc826b21900 of size 1198592 next 12\n",
      "2022-04-06 22:44:53.739077: I tensorflow/core/common_runtime/bfc_allocator.cc:1066] InUse at 7fc826c46300 of size 17486592 next 10\n",
      "2022-04-06 22:44:53.739087: I tensorflow/core/common_runtime/bfc_allocator.cc:1066] InUse at 7fc827cf3600 of size 32754432 next 25\n",
      "2022-04-06 22:44:53.739096: I tensorflow/core/common_runtime/bfc_allocator.cc:1066] InUse at 7fc829c30100 of size 14592 next 26\n",
      "2022-04-06 22:44:53.739106: I tensorflow/core/common_runtime/bfc_allocator.cc:1066] InUse at 7fc829c33a00 of size 32754432 next 27\n",
      "2022-04-06 22:44:53.739115: I tensorflow/core/common_runtime/bfc_allocator.cc:1066] InUse at 7fc82bb70500 of size 32754432 next 28\n",
      "2022-04-06 22:44:53.739124: I tensorflow/core/common_runtime/bfc_allocator.cc:1066] InUse at 7fc82daad000 of size 14592 next 29\n",
      "2022-04-06 22:44:53.739134: I tensorflow/core/common_runtime/bfc_allocator.cc:1066] InUse at 7fc82dab0900 of size 14592 next 30\n",
      "2022-04-06 22:44:53.739143: I tensorflow/core/common_runtime/bfc_allocator.cc:1066] InUse at 7fc82dab4200 of size 14592 next 31\n",
      "2022-04-06 22:44:53.739152: I tensorflow/core/common_runtime/bfc_allocator.cc:1066] InUse at 7fc82dab7b00 of size 256 next 32\n",
      "2022-04-06 22:44:53.739161: I tensorflow/core/common_runtime/bfc_allocator.cc:1066] InUse at 7fc82dab7c00 of size 256 next 33\n",
      "2022-04-06 22:44:53.739170: I tensorflow/core/common_runtime/bfc_allocator.cc:1066] InUse at 7fc82dab7d00 of size 256 next 34\n",
      "2022-04-06 22:44:53.739179: I tensorflow/core/common_runtime/bfc_allocator.cc:1066] InUse at 7fc82dab7e00 of size 256 next 35\n",
      "2022-04-06 22:44:53.739188: I tensorflow/core/common_runtime/bfc_allocator.cc:1066] InUse at 7fc82dab7f00 of size 256 next 36\n",
      "2022-04-06 22:44:53.739198: I tensorflow/core/common_runtime/bfc_allocator.cc:1066] InUse at 7fc82dab8000 of size 256 next 37\n",
      "2022-04-06 22:44:53.739207: I tensorflow/core/common_runtime/bfc_allocator.cc:1066] InUse at 7fc82dab8100 of size 256 next 38\n",
      "2022-04-06 22:44:53.739216: I tensorflow/core/common_runtime/bfc_allocator.cc:1066] InUse at 7fc82dab8200 of size 256 next 39\n",
      "2022-04-06 22:44:53.739225: I tensorflow/core/common_runtime/bfc_allocator.cc:1066] InUse at 7fc82dab8300 of size 256 next 40\n",
      "2022-04-06 22:44:53.739235: I tensorflow/core/common_runtime/bfc_allocator.cc:1066] InUse at 7fc82dab8400 of size 11960832 next 92\n",
      "2022-04-06 22:44:53.739246: I tensorflow/core/common_runtime/bfc_allocator.cc:1066] InUse at 7fc82e620600 of size 20793600 next 72\n",
      "2022-04-06 22:44:53.739255: I tensorflow/core/common_runtime/bfc_allocator.cc:1066] InUse at 7fc82f9f4f00 of size 32754432 next 61\n",
      "2022-04-06 22:44:53.739265: I tensorflow/core/common_runtime/bfc_allocator.cc:1066] InUse at 7fc831931a00 of size 11960832 next 82\n",
      "2022-04-06 22:44:53.739274: I tensorflow/core/common_runtime/bfc_allocator.cc:1066] InUse at 7fc832499c00 of size 11960832 next 41\n",
      "2022-04-06 22:44:53.739283: I tensorflow/core/common_runtime/bfc_allocator.cc:1066] InUse at 7fc833001e00 of size 11960832 next 81\n",
      "2022-04-06 22:44:53.739292: I tensorflow/core/common_runtime/bfc_allocator.cc:1066] Free  at 7fc833b6a000 of size 425472 next 118\n",
      "2022-04-06 22:44:53.739304: I tensorflow/core/common_runtime/bfc_allocator.cc:1066] InUse at 7fc833bd1e00 of size 425216 next 119\n",
      "2022-04-06 22:44:53.739314: I tensorflow/core/common_runtime/bfc_allocator.cc:1066] Free  at 7fc833c39b00 of size 11110144 next 57\n",
      "2022-04-06 22:44:53.739323: I tensorflow/core/common_runtime/bfc_allocator.cc:1066] InUse at 7fc8346d2200 of size 11960832 next 62\n",
      "2022-04-06 22:44:53.739333: I tensorflow/core/common_runtime/bfc_allocator.cc:1066] Free  at 7fc83523a400 of size 11960832 next 77\n",
      "2022-04-06 22:44:53.739342: I tensorflow/core/common_runtime/bfc_allocator.cc:1066] InUse at 7fc835da2600 of size 11960832 next 93\n",
      "2022-04-06 22:44:53.739352: I tensorflow/core/common_runtime/bfc_allocator.cc:1066] InUse at 7fc83690a800 of size 42512896 next 58\n",
      "2022-04-06 22:44:53.739362: I tensorflow/core/common_runtime/bfc_allocator.cc:1066] InUse at 7fc839195a00 of size 42512896 next 91\n",
      "2022-04-06 22:44:53.739371: I tensorflow/core/common_runtime/bfc_allocator.cc:1066] InUse at 7fc83ba20c00 of size 42512896 next 59\n",
      "2022-04-06 22:44:53.739380: I tensorflow/core/common_runtime/bfc_allocator.cc:1066] InUse at 7fc83e2abe00 of size 42512896 next 105\n",
      "2022-04-06 22:44:53.739389: I tensorflow/core/common_runtime/bfc_allocator.cc:1066] InUse at 7fc840b37000 of size 42512896 next 107\n",
      "2022-04-06 22:44:53.739398: I tensorflow/core/common_runtime/bfc_allocator.cc:1066] InUse at 7fc8433c2200 of size 42512896 next 108\n",
      "2022-04-06 22:44:53.739408: I tensorflow/core/common_runtime/bfc_allocator.cc:1066] InUse at 7fc845c4d400 of size 42512896 next 109\n",
      "2022-04-06 22:44:53.739417: I tensorflow/core/common_runtime/bfc_allocator.cc:1066] InUse at 7fc8484d8600 of size 42512896 next 110\n",
      "2022-04-06 22:44:53.739426: I tensorflow/core/common_runtime/bfc_allocator.cc:1066] InUse at 7fc84ad63800 of size 42512896 next 111\n",
      "2022-04-06 22:44:53.739435: I tensorflow/core/common_runtime/bfc_allocator.cc:1066] InUse at 7fc84d5eea00 of size 42512896 next 112\n",
      "2022-04-06 22:44:53.739444: I tensorflow/core/common_runtime/bfc_allocator.cc:1066] InUse at 7fc84fe79c00 of size 42512896 next 89\n",
      "2022-04-06 22:44:53.739453: I tensorflow/core/common_runtime/bfc_allocator.cc:1066] InUse at 7fc852704e00 of size 42512896 next 83\n",
      "2022-04-06 22:44:53.739464: I tensorflow/core/common_runtime/bfc_allocator.cc:1066] InUse at 7fc854f90000 of size 47382528 next 18446744073709551615\n",
      "2022-04-06 22:44:53.739473: I tensorflow/core/common_runtime/bfc_allocator.cc:1071]      Summary of in-use Chunks by size: \n",
      "2022-04-06 22:44:53.739487: I tensorflow/core/common_runtime/bfc_allocator.cc:1074] 52 Chunks of size 256 totalling 13.0KiB\n",
      "2022-04-06 22:44:53.739499: I tensorflow/core/common_runtime/bfc_allocator.cc:1074] 1 Chunks of size 1280 totalling 1.2KiB\n",
      "2022-04-06 22:44:53.739511: I tensorflow/core/common_runtime/bfc_allocator.cc:1074] 6 Chunks of size 14592 totalling 85.5KiB\n",
      "2022-04-06 22:44:53.739523: I tensorflow/core/common_runtime/bfc_allocator.cc:1074] 1 Chunks of size 26112 totalling 25.5KiB\n",
      "2022-04-06 22:44:53.739535: I tensorflow/core/common_runtime/bfc_allocator.cc:1074] 1 Chunks of size 212992 totalling 208.0KiB\n",
      "2022-04-06 22:44:53.739546: I tensorflow/core/common_runtime/bfc_allocator.cc:1074] 1 Chunks of size 225024 totalling 219.8KiB\n",
      "2022-04-06 22:44:53.739558: I tensorflow/core/common_runtime/bfc_allocator.cc:1074] 1 Chunks of size 425216 totalling 415.2KiB\n",
      "2022-04-06 22:44:53.739570: I tensorflow/core/common_runtime/bfc_allocator.cc:1074] 9 Chunks of size 1076224 totalling 9.24MiB\n",
      "2022-04-06 22:44:53.739581: I tensorflow/core/common_runtime/bfc_allocator.cc:1074] 1 Chunks of size 1198592 totalling 1.14MiB\n",
      "2022-04-06 22:44:53.739593: I tensorflow/core/common_runtime/bfc_allocator.cc:1074] 6 Chunks of size 11960832 totalling 68.44MiB\n",
      "2022-04-06 22:44:53.739604: I tensorflow/core/common_runtime/bfc_allocator.cc:1074] 1 Chunks of size 17486592 totalling 16.68MiB\n",
      "2022-04-06 22:44:53.739616: I tensorflow/core/common_runtime/bfc_allocator.cc:1074] 1 Chunks of size 20793600 totalling 19.83MiB\n",
      "2022-04-06 22:44:53.739628: I tensorflow/core/common_runtime/bfc_allocator.cc:1074] 4 Chunks of size 32754432 totalling 124.95MiB\n",
      "2022-04-06 22:44:53.739640: I tensorflow/core/common_runtime/bfc_allocator.cc:1074] 1 Chunks of size 35880192 totalling 34.22MiB\n",
      "2022-04-06 22:44:53.739652: I tensorflow/core/common_runtime/bfc_allocator.cc:1074] 12 Chunks of size 42512896 totalling 486.52MiB\n",
      "2022-04-06 22:44:53.739663: I tensorflow/core/common_runtime/bfc_allocator.cc:1074] 1 Chunks of size 47382528 totalling 45.19MiB\n",
      "2022-04-06 22:44:53.739675: I tensorflow/core/common_runtime/bfc_allocator.cc:1074] 1 Chunks of size 65450496 totalling 62.42MiB\n",
      "2022-04-06 22:44:53.739687: I tensorflow/core/common_runtime/bfc_allocator.cc:1078] Sum Total of in-use chunks: 869.57MiB\n",
      "2022-04-06 22:44:53.739697: I tensorflow/core/common_runtime/bfc_allocator.cc:1080] total_region_allocated_bytes_: 936116224 memory_limit_: 936116224 available bytes: 0 curr_region_allocation_bytes_: 1872232448\n",
      "2022-04-06 22:44:53.739717: I tensorflow/core/common_runtime/bfc_allocator.cc:1086] Stats: \n",
      "Limit:                       936116224\n",
      "InUse:                       911806976\n",
      "MaxInUse:                    912222464\n",
      "NumAllocs:                      576413\n",
      "MaxAllocSize:                 65494272\n",
      "Reserved:                            0\n",
      "PeakReserved:                        0\n",
      "LargestFreeBlock:                    0\n",
      "\n",
      "2022-04-06 22:44:53.739745: W tensorflow/core/common_runtime/bfc_allocator.cc:474] ****xx********************************_*************************************************************\n",
      "2022-04-06 22:44:53.739840: W tensorflow/core/framework/op_kernel.cc:1745] OP_REQUIRES failed at broadcast_to_op.cc:65 : RESOURCE_EXHAUSTED: OOM when allocating tensor with shape[53141,1,200] and type float on /job:localhost/replica:0/task:0/device:GPU:0 by allocator GPU_0_bfc\n",
      "2022-04-06 22:45:03.740248: W tensorflow/core/common_runtime/bfc_allocator.cc:462] Allocator (GPU_0_bfc) ran out of memory trying to allocate 40.54MiB (rounded to 42512896)requested by op gradient_tape/model_1/compl_ex_score_1/mul_6/Mul\n",
      "If the cause is memory fragmentation maybe the environment variable 'TF_GPU_ALLOCATOR=cuda_malloc_async' will improve the situation. \n",
      "Current allocation summary follows.\n",
      "Current allocation summary follows.\n",
      "2022-04-06 22:45:03.740326: I tensorflow/core/common_runtime/bfc_allocator.cc:1010] BFCAllocator dump for GPU_0_bfc\n",
      "2022-04-06 22:45:03.740355: I tensorflow/core/common_runtime/bfc_allocator.cc:1017] Bin (256): \tTotal Chunks: 52, Chunks in use: 52. 13.0KiB allocated for chunks. 13.0KiB in use in bin. 264B client-requested in use in bin.\n",
      "2022-04-06 22:45:03.740374: I tensorflow/core/common_runtime/bfc_allocator.cc:1017] Bin (512): \tTotal Chunks: 1, Chunks in use: 0. 768B allocated for chunks. 0B in use in bin. 0B client-requested in use in bin.\n",
      "2022-04-06 22:45:03.740389: I tensorflow/core/common_runtime/bfc_allocator.cc:1017] Bin (1024): \tTotal Chunks: 2, Chunks in use: 1. 2.2KiB allocated for chunks. 1.2KiB in use in bin. 1.0KiB client-requested in use in bin.\n",
      "2022-04-06 22:45:03.740402: I tensorflow/core/common_runtime/bfc_allocator.cc:1017] Bin (2048): \tTotal Chunks: 0, Chunks in use: 0. 0B allocated for chunks. 0B in use in bin. 0B client-requested in use in bin.\n",
      "2022-04-06 22:45:03.740414: I tensorflow/core/common_runtime/bfc_allocator.cc:1017] Bin (4096): \tTotal Chunks: 1, Chunks in use: 0. 5.5KiB allocated for chunks. 0B in use in bin. 0B client-requested in use in bin.\n",
      "2022-04-06 22:45:03.740432: I tensorflow/core/common_runtime/bfc_allocator.cc:1017] Bin (8192): \tTotal Chunks: 7, Chunks in use: 6. 100.2KiB allocated for chunks. 85.5KiB in use in bin. 84.4KiB client-requested in use in bin.\n",
      "2022-04-06 22:45:03.740447: I tensorflow/core/common_runtime/bfc_allocator.cc:1017] Bin (16384): \tTotal Chunks: 1, Chunks in use: 1. 25.5KiB allocated for chunks. 25.5KiB in use in bin. 14.1KiB client-requested in use in bin.\n",
      "2022-04-06 22:45:03.740460: I tensorflow/core/common_runtime/bfc_allocator.cc:1017] Bin (32768): \tTotal Chunks: 0, Chunks in use: 0. 0B allocated for chunks. 0B in use in bin. 0B client-requested in use in bin.\n",
      "2022-04-06 22:45:03.740471: I tensorflow/core/common_runtime/bfc_allocator.cc:1017] Bin (65536): \tTotal Chunks: 0, Chunks in use: 0. 0B allocated for chunks. 0B in use in bin. 0B client-requested in use in bin.\n",
      "2022-04-06 22:45:03.740487: I tensorflow/core/common_runtime/bfc_allocator.cc:1017] Bin (131072): \tTotal Chunks: 2, Chunks in use: 1. 356.5KiB allocated for chunks. 208.0KiB in use in bin. 207.6KiB client-requested in use in bin.\n",
      "2022-04-06 22:45:03.740504: I tensorflow/core/common_runtime/bfc_allocator.cc:1017] Bin (262144): \tTotal Chunks: 2, Chunks in use: 1. 830.8KiB allocated for chunks. 415.2KiB in use in bin. 415.2KiB client-requested in use in bin.\n",
      "2022-04-06 22:45:03.740518: I tensorflow/core/common_runtime/bfc_allocator.cc:1017] Bin (524288): \tTotal Chunks: 1, Chunks in use: 0. 843.0KiB allocated for chunks. 0B in use in bin. 0B client-requested in use in bin.\n",
      "2022-04-06 22:45:03.740534: I tensorflow/core/common_runtime/bfc_allocator.cc:1017] Bin (1048576): \tTotal Chunks: 10, Chunks in use: 10. 10.38MiB allocated for chunks. 10.38MiB in use in bin. 10.26MiB client-requested in use in bin.\n",
      "2022-04-06 22:45:03.740546: I tensorflow/core/common_runtime/bfc_allocator.cc:1017] Bin (2097152): \tTotal Chunks: 0, Chunks in use: 0. 0B allocated for chunks. 0B in use in bin. 0B client-requested in use in bin.\n",
      "2022-04-06 22:45:03.740558: I tensorflow/core/common_runtime/bfc_allocator.cc:1017] Bin (4194304): \tTotal Chunks: 0, Chunks in use: 0. 0B allocated for chunks. 0B in use in bin. 0B client-requested in use in bin.\n",
      "2022-04-06 22:45:03.740574: I tensorflow/core/common_runtime/bfc_allocator.cc:1017] Bin (8388608): \tTotal Chunks: 8, Chunks in use: 6. 90.44MiB allocated for chunks. 68.44MiB in use in bin. 68.44MiB client-requested in use in bin.\n",
      "2022-04-06 22:45:03.740590: I tensorflow/core/common_runtime/bfc_allocator.cc:1017] Bin (16777216): \tTotal Chunks: 6, Chunks in use: 6. 161.46MiB allocated for chunks. 161.46MiB in use in bin. 147.76MiB client-requested in use in bin.\n",
      "2022-04-06 22:45:03.740611: I tensorflow/core/common_runtime/bfc_allocator.cc:1017] Bin (33554432): \tTotal Chunks: 15, Chunks in use: 15. 628.34MiB allocated for chunks. 628.34MiB in use in bin. 589.54MiB client-requested in use in bin.\n",
      "2022-04-06 22:45:03.740624: I tensorflow/core/common_runtime/bfc_allocator.cc:1017] Bin (67108864): \tTotal Chunks: 0, Chunks in use: 0. 0B allocated for chunks. 0B in use in bin. 0B client-requested in use in bin.\n",
      "2022-04-06 22:45:03.740636: I tensorflow/core/common_runtime/bfc_allocator.cc:1017] Bin (134217728): \tTotal Chunks: 0, Chunks in use: 0. 0B allocated for chunks. 0B in use in bin. 0B client-requested in use in bin.\n",
      "2022-04-06 22:45:03.740647: I tensorflow/core/common_runtime/bfc_allocator.cc:1017] Bin (268435456): \tTotal Chunks: 0, Chunks in use: 0. 0B allocated for chunks. 0B in use in bin. 0B client-requested in use in bin.\n",
      "2022-04-06 22:45:03.740662: I tensorflow/core/common_runtime/bfc_allocator.cc:1033] Bin for 40.54MiB was 32.00MiB, Chunk State: \n",
      "2022-04-06 22:45:03.740672: I tensorflow/core/common_runtime/bfc_allocator.cc:1046] Next region of size 936116224\n",
      "2022-04-06 22:45:03.740690: I tensorflow/core/common_runtime/bfc_allocator.cc:1066] InUse at 7fc820000000 of size 1280 next 1\n",
      "2022-04-06 22:45:03.740700: I tensorflow/core/common_runtime/bfc_allocator.cc:1066] InUse at 7fc820000500 of size 256 next 2\n",
      "2022-04-06 22:45:03.740710: I tensorflow/core/common_runtime/bfc_allocator.cc:1066] InUse at 7fc820000600 of size 256 next 3\n",
      "2022-04-06 22:45:03.740719: I tensorflow/core/common_runtime/bfc_allocator.cc:1066] InUse at 7fc820000700 of size 256 next 4\n",
      "2022-04-06 22:45:03.740728: I tensorflow/core/common_runtime/bfc_allocator.cc:1066] InUse at 7fc820000800 of size 256 next 5\n",
      "2022-04-06 22:45:03.740737: I tensorflow/core/common_runtime/bfc_allocator.cc:1066] InUse at 7fc820000900 of size 256 next 6\n",
      "2022-04-06 22:45:03.740746: I tensorflow/core/common_runtime/bfc_allocator.cc:1066] InUse at 7fc820000a00 of size 256 next 7\n",
      "2022-04-06 22:45:03.740755: I tensorflow/core/common_runtime/bfc_allocator.cc:1066] InUse at 7fc820000b00 of size 256 next 14\n",
      "2022-04-06 22:45:03.740764: I tensorflow/core/common_runtime/bfc_allocator.cc:1066] InUse at 7fc820000c00 of size 256 next 15\n",
      "2022-04-06 22:45:03.740893: I tensorflow/core/common_runtime/bfc_allocator.cc:1066] InUse at 7fc820000d00 of size 256 next 63\n",
      "2022-04-06 22:45:03.740923: I tensorflow/core/common_runtime/bfc_allocator.cc:1066] InUse at 7fc820000e00 of size 256 next 17\n",
      "2022-04-06 22:45:03.740935: I tensorflow/core/common_runtime/bfc_allocator.cc:1066] InUse at 7fc820000f00 of size 256 next 18\n",
      "2022-04-06 22:45:03.740944: I tensorflow/core/common_runtime/bfc_allocator.cc:1066] InUse at 7fc820001000 of size 256 next 19\n",
      "2022-04-06 22:45:03.740954: I tensorflow/core/common_runtime/bfc_allocator.cc:1066] InUse at 7fc820001100 of size 256 next 20\n",
      "2022-04-06 22:45:03.740964: I tensorflow/core/common_runtime/bfc_allocator.cc:1066] InUse at 7fc820001200 of size 256 next 21\n",
      "2022-04-06 22:45:03.740973: I tensorflow/core/common_runtime/bfc_allocator.cc:1066] InUse at 7fc820001300 of size 256 next 22\n",
      "2022-04-06 22:45:03.740983: I tensorflow/core/common_runtime/bfc_allocator.cc:1066] InUse at 7fc820001400 of size 256 next 23\n",
      "2022-04-06 22:45:03.740992: I tensorflow/core/common_runtime/bfc_allocator.cc:1066] InUse at 7fc820001500 of size 256 next 24\n",
      "2022-04-06 22:45:03.741004: I tensorflow/core/common_runtime/bfc_allocator.cc:1066] InUse at 7fc820001600 of size 26112 next 11\n",
      "2022-04-06 22:45:03.741014: I tensorflow/core/common_runtime/bfc_allocator.cc:1066] Free  at 7fc820007c00 of size 15104 next 64\n",
      "2022-04-06 22:45:03.741023: I tensorflow/core/common_runtime/bfc_allocator.cc:1066] InUse at 7fc82000b700 of size 256 next 69\n",
      "2022-04-06 22:45:03.741033: I tensorflow/core/common_runtime/bfc_allocator.cc:1066] InUse at 7fc82000b800 of size 256 next 66\n",
      "2022-04-06 22:45:03.741043: I tensorflow/core/common_runtime/bfc_allocator.cc:1066] InUse at 7fc82000b900 of size 256 next 53\n",
      "2022-04-06 22:45:03.741053: I tensorflow/core/common_runtime/bfc_allocator.cc:1066] InUse at 7fc82000ba00 of size 256 next 68\n",
      "2022-04-06 22:45:03.741063: I tensorflow/core/common_runtime/bfc_allocator.cc:1066] InUse at 7fc82000bb00 of size 256 next 101\n",
      "2022-04-06 22:45:03.741073: I tensorflow/core/common_runtime/bfc_allocator.cc:1066] InUse at 7fc82000bc00 of size 256 next 74\n",
      "2022-04-06 22:45:03.741082: I tensorflow/core/common_runtime/bfc_allocator.cc:1066] InUse at 7fc82000bd00 of size 256 next 87\n",
      "2022-04-06 22:45:03.741092: I tensorflow/core/common_runtime/bfc_allocator.cc:1066] InUse at 7fc82000be00 of size 256 next 94\n",
      "2022-04-06 22:45:03.741101: I tensorflow/core/common_runtime/bfc_allocator.cc:1066] InUse at 7fc82000bf00 of size 256 next 80\n",
      "2022-04-06 22:45:03.741111: I tensorflow/core/common_runtime/bfc_allocator.cc:1066] InUse at 7fc82000c000 of size 256 next 42\n",
      "2022-04-06 22:45:03.741121: I tensorflow/core/common_runtime/bfc_allocator.cc:1066] InUse at 7fc82000c100 of size 256 next 49\n",
      "2022-04-06 22:45:03.741132: I tensorflow/core/common_runtime/bfc_allocator.cc:1066] InUse at 7fc82000c200 of size 256 next 98\n",
      "2022-04-06 22:45:03.741141: I tensorflow/core/common_runtime/bfc_allocator.cc:1066] InUse at 7fc82000c300 of size 256 next 48\n",
      "2022-04-06 22:45:03.741151: I tensorflow/core/common_runtime/bfc_allocator.cc:1066] InUse at 7fc82000c400 of size 256 next 85\n",
      "2022-04-06 22:45:03.741160: I tensorflow/core/common_runtime/bfc_allocator.cc:1066] InUse at 7fc82000c500 of size 256 next 100\n",
      "2022-04-06 22:45:03.741170: I tensorflow/core/common_runtime/bfc_allocator.cc:1066] InUse at 7fc82000c600 of size 256 next 86\n",
      "2022-04-06 22:45:03.741179: I tensorflow/core/common_runtime/bfc_allocator.cc:1066] InUse at 7fc82000c700 of size 256 next 102\n",
      "2022-04-06 22:45:03.741189: I tensorflow/core/common_runtime/bfc_allocator.cc:1066] InUse at 7fc82000c800 of size 256 next 54\n",
      "2022-04-06 22:45:03.741199: I tensorflow/core/common_runtime/bfc_allocator.cc:1066] InUse at 7fc82000c900 of size 256 next 84\n",
      "2022-04-06 22:45:03.741209: I tensorflow/core/common_runtime/bfc_allocator.cc:1066] InUse at 7fc82000ca00 of size 256 next 50\n",
      "2022-04-06 22:45:03.741218: I tensorflow/core/common_runtime/bfc_allocator.cc:1066] InUse at 7fc82000cb00 of size 256 next 88\n",
      "2022-04-06 22:45:03.741228: I tensorflow/core/common_runtime/bfc_allocator.cc:1066] InUse at 7fc82000cc00 of size 256 next 55\n",
      "2022-04-06 22:45:03.741238: I tensorflow/core/common_runtime/bfc_allocator.cc:1066] InUse at 7fc82000cd00 of size 256 next 65\n",
      "2022-04-06 22:45:03.741247: I tensorflow/core/common_runtime/bfc_allocator.cc:1066] Free  at 7fc82000ce00 of size 768 next 75\n",
      "2022-04-06 22:45:03.741257: I tensorflow/core/common_runtime/bfc_allocator.cc:1066] InUse at 7fc82000d100 of size 256 next 47\n",
      "2022-04-06 22:45:03.741267: I tensorflow/core/common_runtime/bfc_allocator.cc:1066] Free  at 7fc82000d200 of size 1024 next 45\n",
      "2022-04-06 22:45:03.741276: I tensorflow/core/common_runtime/bfc_allocator.cc:1066] InUse at 7fc82000d600 of size 256 next 99\n",
      "2022-04-06 22:45:03.741285: I tensorflow/core/common_runtime/bfc_allocator.cc:1066] InUse at 7fc82000d700 of size 256 next 76\n",
      "2022-04-06 22:45:03.741295: I tensorflow/core/common_runtime/bfc_allocator.cc:1066] Free  at 7fc82000d800 of size 5632 next 13\n",
      "2022-04-06 22:45:03.741305: I tensorflow/core/common_runtime/bfc_allocator.cc:1066] InUse at 7fc82000ee00 of size 65450496 next 8\n",
      "2022-04-06 22:45:03.741317: I tensorflow/core/common_runtime/bfc_allocator.cc:1066] InUse at 7fc823e7a000 of size 35880192 next 46\n",
      "2022-04-06 22:45:03.741328: I tensorflow/core/common_runtime/bfc_allocator.cc:1066] InUse at 7fc8260b1d00 of size 14592 next 73\n",
      "2022-04-06 22:45:03.741337: I tensorflow/core/common_runtime/bfc_allocator.cc:1066] Free  at 7fc8260b5600 of size 152064 next 43\n",
      "2022-04-06 22:45:03.741347: I tensorflow/core/common_runtime/bfc_allocator.cc:1066] InUse at 7fc8260da800 of size 14592 next 78\n",
      "2022-04-06 22:45:03.741358: I tensorflow/core/common_runtime/bfc_allocator.cc:1066] InUse at 7fc8260de100 of size 1076224 next 52\n",
      "2022-04-06 22:45:03.741367: I tensorflow/core/common_runtime/bfc_allocator.cc:1066] InUse at 7fc8261e4d00 of size 1076224 next 60\n",
      "2022-04-06 22:45:03.741377: I tensorflow/core/common_runtime/bfc_allocator.cc:1066] InUse at 7fc8262eb900 of size 1076224 next 90\n",
      "2022-04-06 22:45:03.741386: I tensorflow/core/common_runtime/bfc_allocator.cc:1066] InUse at 7fc8263f2500 of size 1076224 next 103\n",
      "2022-04-06 22:45:03.741396: I tensorflow/core/common_runtime/bfc_allocator.cc:1066] InUse at 7fc8264f9100 of size 1076224 next 16\n",
      "2022-04-06 22:45:03.741405: I tensorflow/core/common_runtime/bfc_allocator.cc:1066] InUse at 7fc8265ffd00 of size 1076224 next 44\n",
      "2022-04-06 22:45:03.741414: I tensorflow/core/common_runtime/bfc_allocator.cc:1066] InUse at 7fc826706900 of size 1076224 next 70\n",
      "2022-04-06 22:45:03.741424: I tensorflow/core/common_runtime/bfc_allocator.cc:1066] InUse at 7fc82680d500 of size 1076224 next 95\n",
      "2022-04-06 22:45:03.741433: I tensorflow/core/common_runtime/bfc_allocator.cc:1066] InUse at 7fc826914100 of size 1076224 next 97\n",
      "2022-04-06 22:45:03.741443: I tensorflow/core/common_runtime/bfc_allocator.cc:1066] InUse at 7fc826a1ad00 of size 212992 next 56\n",
      "2022-04-06 22:45:03.741452: I tensorflow/core/common_runtime/bfc_allocator.cc:1066] Free  at 7fc826a4ed00 of size 863232 next 96\n",
      "2022-04-06 22:45:03.741463: I tensorflow/core/common_runtime/bfc_allocator.cc:1066] InUse at 7fc826b21900 of size 1198592 next 12\n",
      "2022-04-06 22:45:03.741474: I tensorflow/core/common_runtime/bfc_allocator.cc:1066] InUse at 7fc826c46300 of size 17486592 next 10\n",
      "2022-04-06 22:45:03.741485: I tensorflow/core/common_runtime/bfc_allocator.cc:1066] InUse at 7fc827cf3600 of size 32754432 next 25\n",
      "2022-04-06 22:45:03.741494: I tensorflow/core/common_runtime/bfc_allocator.cc:1066] InUse at 7fc829c30100 of size 14592 next 26\n",
      "2022-04-06 22:45:03.741504: I tensorflow/core/common_runtime/bfc_allocator.cc:1066] InUse at 7fc829c33a00 of size 32754432 next 27\n",
      "2022-04-06 22:45:03.741514: I tensorflow/core/common_runtime/bfc_allocator.cc:1066] InUse at 7fc82bb70500 of size 32754432 next 28\n",
      "2022-04-06 22:45:03.741523: I tensorflow/core/common_runtime/bfc_allocator.cc:1066] InUse at 7fc82daad000 of size 14592 next 29\n",
      "2022-04-06 22:45:03.741532: I tensorflow/core/common_runtime/bfc_allocator.cc:1066] InUse at 7fc82dab0900 of size 14592 next 30\n",
      "2022-04-06 22:45:03.741542: I tensorflow/core/common_runtime/bfc_allocator.cc:1066] InUse at 7fc82dab4200 of size 14592 next 31\n",
      "2022-04-06 22:45:03.741551: I tensorflow/core/common_runtime/bfc_allocator.cc:1066] InUse at 7fc82dab7b00 of size 256 next 32\n",
      "2022-04-06 22:45:03.741561: I tensorflow/core/common_runtime/bfc_allocator.cc:1066] InUse at 7fc82dab7c00 of size 256 next 33\n",
      "2022-04-06 22:45:03.741572: I tensorflow/core/common_runtime/bfc_allocator.cc:1066] InUse at 7fc82dab7d00 of size 256 next 34\n",
      "2022-04-06 22:45:03.741582: I tensorflow/core/common_runtime/bfc_allocator.cc:1066] InUse at 7fc82dab7e00 of size 256 next 35\n",
      "2022-04-06 22:45:03.741591: I tensorflow/core/common_runtime/bfc_allocator.cc:1066] InUse at 7fc82dab7f00 of size 256 next 36\n",
      "2022-04-06 22:45:03.741601: I tensorflow/core/common_runtime/bfc_allocator.cc:1066] InUse at 7fc82dab8000 of size 256 next 37\n",
      "2022-04-06 22:45:03.741610: I tensorflow/core/common_runtime/bfc_allocator.cc:1066] InUse at 7fc82dab8100 of size 256 next 38\n",
      "2022-04-06 22:45:03.741620: I tensorflow/core/common_runtime/bfc_allocator.cc:1066] InUse at 7fc82dab8200 of size 256 next 39\n",
      "2022-04-06 22:45:03.741629: I tensorflow/core/common_runtime/bfc_allocator.cc:1066] InUse at 7fc82dab8300 of size 256 next 40\n",
      "2022-04-06 22:45:03.741640: I tensorflow/core/common_runtime/bfc_allocator.cc:1066] InUse at 7fc82dab8400 of size 11960832 next 92\n",
      "2022-04-06 22:45:03.741650: I tensorflow/core/common_runtime/bfc_allocator.cc:1066] InUse at 7fc82e620600 of size 20793600 next 72\n",
      "2022-04-06 22:45:03.741660: I tensorflow/core/common_runtime/bfc_allocator.cc:1066] InUse at 7fc82f9f4f00 of size 32754432 next 61\n",
      "2022-04-06 22:45:03.741670: I tensorflow/core/common_runtime/bfc_allocator.cc:1066] InUse at 7fc831931a00 of size 11960832 next 82\n",
      "2022-04-06 22:45:03.741679: I tensorflow/core/common_runtime/bfc_allocator.cc:1066] InUse at 7fc832499c00 of size 11960832 next 41\n",
      "2022-04-06 22:45:03.741688: I tensorflow/core/common_runtime/bfc_allocator.cc:1066] InUse at 7fc833001e00 of size 11960832 next 81\n",
      "2022-04-06 22:45:03.741698: I tensorflow/core/common_runtime/bfc_allocator.cc:1066] Free  at 7fc833b6a000 of size 425472 next 118\n",
      "2022-04-06 22:45:03.741708: I tensorflow/core/common_runtime/bfc_allocator.cc:1066] InUse at 7fc833bd1e00 of size 425216 next 119\n",
      "2022-04-06 22:45:03.741718: I tensorflow/core/common_runtime/bfc_allocator.cc:1066] Free  at 7fc833c39b00 of size 11110144 next 57\n",
      "2022-04-06 22:45:03.741727: I tensorflow/core/common_runtime/bfc_allocator.cc:1066] InUse at 7fc8346d2200 of size 11960832 next 62\n",
      "2022-04-06 22:45:03.741736: I tensorflow/core/common_runtime/bfc_allocator.cc:1066] Free  at 7fc83523a400 of size 11960832 next 77\n",
      "2022-04-06 22:45:03.741746: I tensorflow/core/common_runtime/bfc_allocator.cc:1066] InUse at 7fc835da2600 of size 11960832 next 93\n",
      "2022-04-06 22:45:03.741756: I tensorflow/core/common_runtime/bfc_allocator.cc:1066] InUse at 7fc83690a800 of size 42512896 next 58\n",
      "2022-04-06 22:45:03.741765: I tensorflow/core/common_runtime/bfc_allocator.cc:1066] InUse at 7fc839195a00 of size 42512896 next 91\n",
      "2022-04-06 22:45:03.741775: I tensorflow/core/common_runtime/bfc_allocator.cc:1066] InUse at 7fc83ba20c00 of size 42512896 next 59\n",
      "2022-04-06 22:45:03.741784: I tensorflow/core/common_runtime/bfc_allocator.cc:1066] InUse at 7fc83e2abe00 of size 42512896 next 105\n",
      "2022-04-06 22:45:03.741794: I tensorflow/core/common_runtime/bfc_allocator.cc:1066] InUse at 7fc840b37000 of size 42512896 next 107\n",
      "2022-04-06 22:45:03.741803: I tensorflow/core/common_runtime/bfc_allocator.cc:1066] InUse at 7fc8433c2200 of size 42512896 next 108\n",
      "2022-04-06 22:45:03.741813: I tensorflow/core/common_runtime/bfc_allocator.cc:1066] InUse at 7fc845c4d400 of size 42512896 next 109\n",
      "2022-04-06 22:45:03.741822: I tensorflow/core/common_runtime/bfc_allocator.cc:1066] InUse at 7fc8484d8600 of size 42512896 next 110\n",
      "2022-04-06 22:45:03.741831: I tensorflow/core/common_runtime/bfc_allocator.cc:1066] InUse at 7fc84ad63800 of size 42512896 next 111\n",
      "2022-04-06 22:45:03.741841: I tensorflow/core/common_runtime/bfc_allocator.cc:1066] InUse at 7fc84d5eea00 of size 42512896 next 112\n",
      "2022-04-06 22:45:03.741850: I tensorflow/core/common_runtime/bfc_allocator.cc:1066] InUse at 7fc84fe79c00 of size 42512896 next 89\n",
      "2022-04-06 22:45:03.741860: I tensorflow/core/common_runtime/bfc_allocator.cc:1066] InUse at 7fc852704e00 of size 42512896 next 83\n",
      "2022-04-06 22:45:03.741872: I tensorflow/core/common_runtime/bfc_allocator.cc:1066] InUse at 7fc854f90000 of size 47382528 next 18446744073709551615\n",
      "2022-04-06 22:45:03.741882: I tensorflow/core/common_runtime/bfc_allocator.cc:1071]      Summary of in-use Chunks by size: \n",
      "2022-04-06 22:45:03.741904: I tensorflow/core/common_runtime/bfc_allocator.cc:1074] 52 Chunks of size 256 totalling 13.0KiB\n",
      "2022-04-06 22:45:03.741918: I tensorflow/core/common_runtime/bfc_allocator.cc:1074] 1 Chunks of size 1280 totalling 1.2KiB\n",
      "2022-04-06 22:45:03.741930: I tensorflow/core/common_runtime/bfc_allocator.cc:1074] 6 Chunks of size 14592 totalling 85.5KiB\n",
      "2022-04-06 22:45:03.741941: I tensorflow/core/common_runtime/bfc_allocator.cc:1074] 1 Chunks of size 26112 totalling 25.5KiB\n",
      "2022-04-06 22:45:03.741954: I tensorflow/core/common_runtime/bfc_allocator.cc:1074] 1 Chunks of size 212992 totalling 208.0KiB\n",
      "2022-04-06 22:45:03.741966: I tensorflow/core/common_runtime/bfc_allocator.cc:1074] 1 Chunks of size 425216 totalling 415.2KiB\n",
      "2022-04-06 22:45:03.741978: I tensorflow/core/common_runtime/bfc_allocator.cc:1074] 9 Chunks of size 1076224 totalling 9.24MiB\n",
      "2022-04-06 22:45:03.741989: I tensorflow/core/common_runtime/bfc_allocator.cc:1074] 1 Chunks of size 1198592 totalling 1.14MiB\n",
      "2022-04-06 22:45:03.742001: I tensorflow/core/common_runtime/bfc_allocator.cc:1074] 6 Chunks of size 11960832 totalling 68.44MiB\n",
      "2022-04-06 22:45:03.742013: I tensorflow/core/common_runtime/bfc_allocator.cc:1074] 1 Chunks of size 17486592 totalling 16.68MiB\n",
      "2022-04-06 22:45:03.742025: I tensorflow/core/common_runtime/bfc_allocator.cc:1074] 1 Chunks of size 20793600 totalling 19.83MiB\n",
      "2022-04-06 22:45:03.742037: I tensorflow/core/common_runtime/bfc_allocator.cc:1074] 4 Chunks of size 32754432 totalling 124.95MiB\n",
      "2022-04-06 22:45:03.742049: I tensorflow/core/common_runtime/bfc_allocator.cc:1074] 1 Chunks of size 35880192 totalling 34.22MiB\n",
      "2022-04-06 22:45:03.742061: I tensorflow/core/common_runtime/bfc_allocator.cc:1074] 12 Chunks of size 42512896 totalling 486.52MiB\n",
      "2022-04-06 22:45:03.742072: I tensorflow/core/common_runtime/bfc_allocator.cc:1074] 1 Chunks of size 47382528 totalling 45.19MiB\n",
      "2022-04-06 22:45:03.742084: I tensorflow/core/common_runtime/bfc_allocator.cc:1074] 1 Chunks of size 65450496 totalling 62.42MiB\n",
      "2022-04-06 22:45:03.742096: I tensorflow/core/common_runtime/bfc_allocator.cc:1078] Sum Total of in-use chunks: 869.35MiB\n",
      "2022-04-06 22:45:03.742107: I tensorflow/core/common_runtime/bfc_allocator.cc:1080] total_region_allocated_bytes_: 936116224 memory_limit_: 936116224 available bytes: 0 curr_region_allocation_bytes_: 1872232448\n",
      "2022-04-06 22:45:03.742127: I tensorflow/core/common_runtime/bfc_allocator.cc:1086] Stats: \n",
      "Limit:                       936116224\n",
      "InUse:                       911581952\n",
      "MaxInUse:                    912222464\n",
      "NumAllocs:                      576413\n",
      "MaxAllocSize:                 65494272\n",
      "Reserved:                            0\n",
      "PeakReserved:                        0\n",
      "LargestFreeBlock:                    0\n",
      "\n",
      "2022-04-06 22:45:03.742155: W tensorflow/core/common_runtime/bfc_allocator.cc:474] ****xx********************************_*************************************************************\n",
      "2022-04-06 22:45:03.742206: W tensorflow/core/framework/op_kernel.cc:1733] RESOURCE_EXHAUSTED: failed to allocate memory\n",
      "2022-04-06 22:45:13.752426: W tensorflow/core/common_runtime/bfc_allocator.cc:462] Allocator (GPU_0_bfc) ran out of memory trying to allocate 81.09MiB (rounded to 85025792)requested by op Adam/gradients/concat\n",
      "If the cause is memory fragmentation maybe the environment variable 'TF_GPU_ALLOCATOR=cuda_malloc_async' will improve the situation. \n",
      "Current allocation summary follows.\n",
      "Current allocation summary follows.\n",
      "2022-04-06 22:45:13.752503: I tensorflow/core/common_runtime/bfc_allocator.cc:1010] BFCAllocator dump for GPU_0_bfc\n",
      "2022-04-06 22:45:13.752527: I tensorflow/core/common_runtime/bfc_allocator.cc:1017] Bin (256): \tTotal Chunks: 52, Chunks in use: 52. 13.0KiB allocated for chunks. 13.0KiB in use in bin. 264B client-requested in use in bin.\n",
      "2022-04-06 22:45:13.752542: I tensorflow/core/common_runtime/bfc_allocator.cc:1017] Bin (512): \tTotal Chunks: 1, Chunks in use: 0. 768B allocated for chunks. 0B in use in bin. 0B client-requested in use in bin.\n",
      "2022-04-06 22:45:13.752557: I tensorflow/core/common_runtime/bfc_allocator.cc:1017] Bin (1024): \tTotal Chunks: 2, Chunks in use: 1. 2.2KiB allocated for chunks. 1.2KiB in use in bin. 1.0KiB client-requested in use in bin.\n",
      "2022-04-06 22:45:13.752569: I tensorflow/core/common_runtime/bfc_allocator.cc:1017] Bin (2048): \tTotal Chunks: 0, Chunks in use: 0. 0B allocated for chunks. 0B in use in bin. 0B client-requested in use in bin.\n",
      "2022-04-06 22:45:13.752582: I tensorflow/core/common_runtime/bfc_allocator.cc:1017] Bin (4096): \tTotal Chunks: 1, Chunks in use: 0. 5.5KiB allocated for chunks. 0B in use in bin. 0B client-requested in use in bin.\n",
      "2022-04-06 22:45:13.752599: I tensorflow/core/common_runtime/bfc_allocator.cc:1017] Bin (8192): \tTotal Chunks: 7, Chunks in use: 6. 100.2KiB allocated for chunks. 85.5KiB in use in bin. 84.4KiB client-requested in use in bin.\n",
      "2022-04-06 22:45:13.752615: I tensorflow/core/common_runtime/bfc_allocator.cc:1017] Bin (16384): \tTotal Chunks: 1, Chunks in use: 1. 25.5KiB allocated for chunks. 25.5KiB in use in bin. 14.1KiB client-requested in use in bin.\n",
      "2022-04-06 22:45:13.752627: I tensorflow/core/common_runtime/bfc_allocator.cc:1017] Bin (32768): \tTotal Chunks: 0, Chunks in use: 0. 0B allocated for chunks. 0B in use in bin. 0B client-requested in use in bin.\n",
      "2022-04-06 22:45:13.752639: I tensorflow/core/common_runtime/bfc_allocator.cc:1017] Bin (65536): \tTotal Chunks: 0, Chunks in use: 0. 0B allocated for chunks. 0B in use in bin. 0B client-requested in use in bin.\n",
      "2022-04-06 22:45:13.752655: I tensorflow/core/common_runtime/bfc_allocator.cc:1017] Bin (131072): \tTotal Chunks: 2, Chunks in use: 1. 356.5KiB allocated for chunks. 208.0KiB in use in bin. 207.6KiB client-requested in use in bin.\n",
      "2022-04-06 22:45:13.752671: I tensorflow/core/common_runtime/bfc_allocator.cc:1017] Bin (262144): \tTotal Chunks: 2, Chunks in use: 1. 830.8KiB allocated for chunks. 415.2KiB in use in bin. 415.2KiB client-requested in use in bin.\n",
      "2022-04-06 22:45:13.752685: I tensorflow/core/common_runtime/bfc_allocator.cc:1017] Bin (524288): \tTotal Chunks: 1, Chunks in use: 0. 843.0KiB allocated for chunks. 0B in use in bin. 0B client-requested in use in bin.\n",
      "2022-04-06 22:45:13.752701: I tensorflow/core/common_runtime/bfc_allocator.cc:1017] Bin (1048576): \tTotal Chunks: 10, Chunks in use: 10. 10.38MiB allocated for chunks. 10.38MiB in use in bin. 10.26MiB client-requested in use in bin.\n",
      "2022-04-06 22:45:13.752713: I tensorflow/core/common_runtime/bfc_allocator.cc:1017] Bin (2097152): \tTotal Chunks: 0, Chunks in use: 0. 0B allocated for chunks. 0B in use in bin. 0B client-requested in use in bin.\n",
      "2022-04-06 22:45:13.752726: I tensorflow/core/common_runtime/bfc_allocator.cc:1017] Bin (4194304): \tTotal Chunks: 0, Chunks in use: 0. 0B allocated for chunks. 0B in use in bin. 0B client-requested in use in bin.\n",
      "2022-04-06 22:45:13.752741: I tensorflow/core/common_runtime/bfc_allocator.cc:1017] Bin (8388608): \tTotal Chunks: 8, Chunks in use: 6. 90.44MiB allocated for chunks. 68.44MiB in use in bin. 68.44MiB client-requested in use in bin.\n",
      "2022-04-06 22:45:13.752757: I tensorflow/core/common_runtime/bfc_allocator.cc:1017] Bin (16777216): \tTotal Chunks: 6, Chunks in use: 6. 161.46MiB allocated for chunks. 161.46MiB in use in bin. 147.76MiB client-requested in use in bin.\n",
      "2022-04-06 22:45:13.752773: I tensorflow/core/common_runtime/bfc_allocator.cc:1017] Bin (33554432): \tTotal Chunks: 15, Chunks in use: 12. 628.34MiB allocated for chunks. 502.07MiB in use in bin. 467.91MiB client-requested in use in bin.\n",
      "2022-04-06 22:45:13.752790: I tensorflow/core/common_runtime/bfc_allocator.cc:1017] Bin (67108864): \tTotal Chunks: 0, Chunks in use: 0. 0B allocated for chunks. 0B in use in bin. 0B client-requested in use in bin.\n",
      "2022-04-06 22:45:13.752802: I tensorflow/core/common_runtime/bfc_allocator.cc:1017] Bin (134217728): \tTotal Chunks: 0, Chunks in use: 0. 0B allocated for chunks. 0B in use in bin. 0B client-requested in use in bin.\n",
      "2022-04-06 22:45:13.752815: I tensorflow/core/common_runtime/bfc_allocator.cc:1017] Bin (268435456): \tTotal Chunks: 0, Chunks in use: 0. 0B allocated for chunks. 0B in use in bin. 0B client-requested in use in bin.\n",
      "2022-04-06 22:45:13.752829: I tensorflow/core/common_runtime/bfc_allocator.cc:1033] Bin for 81.09MiB was 64.00MiB, Chunk State: \n",
      "2022-04-06 22:45:13.752839: I tensorflow/core/common_runtime/bfc_allocator.cc:1046] Next region of size 936116224\n",
      "2022-04-06 22:45:13.752857: I tensorflow/core/common_runtime/bfc_allocator.cc:1066] InUse at 7fc820000000 of size 1280 next 1\n",
      "2022-04-06 22:45:13.752867: I tensorflow/core/common_runtime/bfc_allocator.cc:1066] InUse at 7fc820000500 of size 256 next 2\n",
      "2022-04-06 22:45:13.752876: I tensorflow/core/common_runtime/bfc_allocator.cc:1066] InUse at 7fc820000600 of size 256 next 3\n",
      "2022-04-06 22:45:13.752885: I tensorflow/core/common_runtime/bfc_allocator.cc:1066] InUse at 7fc820000700 of size 256 next 4\n",
      "2022-04-06 22:45:13.752894: I tensorflow/core/common_runtime/bfc_allocator.cc:1066] InUse at 7fc820000800 of size 256 next 5\n",
      "2022-04-06 22:45:13.752903: I tensorflow/core/common_runtime/bfc_allocator.cc:1066] InUse at 7fc820000900 of size 256 next 6\n",
      "2022-04-06 22:45:13.752912: I tensorflow/core/common_runtime/bfc_allocator.cc:1066] InUse at 7fc820000a00 of size 256 next 7\n",
      "2022-04-06 22:45:13.752921: I tensorflow/core/common_runtime/bfc_allocator.cc:1066] InUse at 7fc820000b00 of size 256 next 14\n",
      "2022-04-06 22:45:13.752930: I tensorflow/core/common_runtime/bfc_allocator.cc:1066] InUse at 7fc820000c00 of size 256 next 15\n",
      "2022-04-06 22:45:13.752939: I tensorflow/core/common_runtime/bfc_allocator.cc:1066] InUse at 7fc820000d00 of size 256 next 63\n",
      "2022-04-06 22:45:13.752948: I tensorflow/core/common_runtime/bfc_allocator.cc:1066] InUse at 7fc820000e00 of size 256 next 17\n",
      "2022-04-06 22:45:13.752958: I tensorflow/core/common_runtime/bfc_allocator.cc:1066] InUse at 7fc820000f00 of size 256 next 18\n",
      "2022-04-06 22:45:13.752967: I tensorflow/core/common_runtime/bfc_allocator.cc:1066] InUse at 7fc820001000 of size 256 next 19\n",
      "2022-04-06 22:45:13.752976: I tensorflow/core/common_runtime/bfc_allocator.cc:1066] InUse at 7fc820001100 of size 256 next 20\n",
      "2022-04-06 22:45:13.752985: I tensorflow/core/common_runtime/bfc_allocator.cc:1066] InUse at 7fc820001200 of size 256 next 21\n",
      "2022-04-06 22:45:13.752994: I tensorflow/core/common_runtime/bfc_allocator.cc:1066] InUse at 7fc820001300 of size 256 next 22\n",
      "2022-04-06 22:45:13.753003: I tensorflow/core/common_runtime/bfc_allocator.cc:1066] InUse at 7fc820001400 of size 256 next 23\n",
      "2022-04-06 22:45:13.753012: I tensorflow/core/common_runtime/bfc_allocator.cc:1066] InUse at 7fc820001500 of size 256 next 24\n",
      "2022-04-06 22:45:13.753022: I tensorflow/core/common_runtime/bfc_allocator.cc:1066] InUse at 7fc820001600 of size 26112 next 11\n",
      "2022-04-06 22:45:13.753031: I tensorflow/core/common_runtime/bfc_allocator.cc:1066] Free  at 7fc820007c00 of size 15104 next 64\n",
      "2022-04-06 22:45:13.753040: I tensorflow/core/common_runtime/bfc_allocator.cc:1066] InUse at 7fc82000b700 of size 256 next 69\n",
      "2022-04-06 22:45:13.753049: I tensorflow/core/common_runtime/bfc_allocator.cc:1066] InUse at 7fc82000b800 of size 256 next 66\n",
      "2022-04-06 22:45:13.753058: I tensorflow/core/common_runtime/bfc_allocator.cc:1066] InUse at 7fc82000b900 of size 256 next 53\n",
      "2022-04-06 22:45:13.753067: I tensorflow/core/common_runtime/bfc_allocator.cc:1066] InUse at 7fc82000ba00 of size 256 next 68\n",
      "2022-04-06 22:45:13.753079: I tensorflow/core/common_runtime/bfc_allocator.cc:1066] InUse at 7fc82000bb00 of size 256 next 101\n",
      "2022-04-06 22:45:13.753088: I tensorflow/core/common_runtime/bfc_allocator.cc:1066] InUse at 7fc82000bc00 of size 256 next 74\n",
      "2022-04-06 22:45:13.753097: I tensorflow/core/common_runtime/bfc_allocator.cc:1066] InUse at 7fc82000bd00 of size 256 next 87\n",
      "2022-04-06 22:45:13.753106: I tensorflow/core/common_runtime/bfc_allocator.cc:1066] InUse at 7fc82000be00 of size 256 next 94\n",
      "2022-04-06 22:45:13.753115: I tensorflow/core/common_runtime/bfc_allocator.cc:1066] InUse at 7fc82000bf00 of size 256 next 80\n",
      "2022-04-06 22:45:13.753124: I tensorflow/core/common_runtime/bfc_allocator.cc:1066] InUse at 7fc82000c000 of size 256 next 42\n",
      "2022-04-06 22:45:13.753133: I tensorflow/core/common_runtime/bfc_allocator.cc:1066] InUse at 7fc82000c100 of size 256 next 49\n",
      "2022-04-06 22:45:13.753142: I tensorflow/core/common_runtime/bfc_allocator.cc:1066] InUse at 7fc82000c200 of size 256 next 98\n",
      "2022-04-06 22:45:13.753151: I tensorflow/core/common_runtime/bfc_allocator.cc:1066] InUse at 7fc82000c300 of size 256 next 48\n",
      "2022-04-06 22:45:13.753160: I tensorflow/core/common_runtime/bfc_allocator.cc:1066] InUse at 7fc82000c400 of size 256 next 85\n",
      "2022-04-06 22:45:13.753169: I tensorflow/core/common_runtime/bfc_allocator.cc:1066] InUse at 7fc82000c500 of size 256 next 100\n",
      "2022-04-06 22:45:13.753178: I tensorflow/core/common_runtime/bfc_allocator.cc:1066] InUse at 7fc82000c600 of size 256 next 86\n",
      "2022-04-06 22:45:13.753187: I tensorflow/core/common_runtime/bfc_allocator.cc:1066] InUse at 7fc82000c700 of size 256 next 102\n",
      "2022-04-06 22:45:13.753196: I tensorflow/core/common_runtime/bfc_allocator.cc:1066] InUse at 7fc82000c800 of size 256 next 54\n",
      "2022-04-06 22:45:13.753205: I tensorflow/core/common_runtime/bfc_allocator.cc:1066] InUse at 7fc82000c900 of size 256 next 84\n",
      "2022-04-06 22:45:13.753215: I tensorflow/core/common_runtime/bfc_allocator.cc:1066] InUse at 7fc82000ca00 of size 256 next 50\n",
      "2022-04-06 22:45:13.753224: I tensorflow/core/common_runtime/bfc_allocator.cc:1066] InUse at 7fc82000cb00 of size 256 next 88\n",
      "2022-04-06 22:45:13.753233: I tensorflow/core/common_runtime/bfc_allocator.cc:1066] InUse at 7fc82000cc00 of size 256 next 55\n",
      "2022-04-06 22:45:13.753241: I tensorflow/core/common_runtime/bfc_allocator.cc:1066] InUse at 7fc82000cd00 of size 256 next 65\n",
      "2022-04-06 22:45:13.753251: I tensorflow/core/common_runtime/bfc_allocator.cc:1066] Free  at 7fc82000ce00 of size 768 next 75\n",
      "2022-04-06 22:45:13.753260: I tensorflow/core/common_runtime/bfc_allocator.cc:1066] InUse at 7fc82000d100 of size 256 next 47\n",
      "2022-04-06 22:45:13.753269: I tensorflow/core/common_runtime/bfc_allocator.cc:1066] Free  at 7fc82000d200 of size 1024 next 45\n",
      "2022-04-06 22:45:13.753278: I tensorflow/core/common_runtime/bfc_allocator.cc:1066] InUse at 7fc82000d600 of size 256 next 99\n",
      "2022-04-06 22:45:13.753287: I tensorflow/core/common_runtime/bfc_allocator.cc:1066] InUse at 7fc82000d700 of size 256 next 76\n",
      "2022-04-06 22:45:13.753296: I tensorflow/core/common_runtime/bfc_allocator.cc:1066] Free  at 7fc82000d800 of size 5632 next 13\n",
      "2022-04-06 22:45:13.753306: I tensorflow/core/common_runtime/bfc_allocator.cc:1066] InUse at 7fc82000ee00 of size 65450496 next 8\n",
      "2022-04-06 22:45:13.753317: I tensorflow/core/common_runtime/bfc_allocator.cc:1066] InUse at 7fc823e7a000 of size 35880192 next 46\n",
      "2022-04-06 22:45:13.753327: I tensorflow/core/common_runtime/bfc_allocator.cc:1066] InUse at 7fc8260b1d00 of size 14592 next 73\n",
      "2022-04-06 22:45:13.753336: I tensorflow/core/common_runtime/bfc_allocator.cc:1066] Free  at 7fc8260b5600 of size 152064 next 43\n",
      "2022-04-06 22:45:13.753345: I tensorflow/core/common_runtime/bfc_allocator.cc:1066] InUse at 7fc8260da800 of size 14592 next 78\n",
      "2022-04-06 22:45:13.753355: I tensorflow/core/common_runtime/bfc_allocator.cc:1066] InUse at 7fc8260de100 of size 1076224 next 52\n",
      "2022-04-06 22:45:13.753364: I tensorflow/core/common_runtime/bfc_allocator.cc:1066] InUse at 7fc8261e4d00 of size 1076224 next 60\n",
      "2022-04-06 22:45:13.753375: I tensorflow/core/common_runtime/bfc_allocator.cc:1066] InUse at 7fc8262eb900 of size 1076224 next 90\n",
      "2022-04-06 22:45:13.753385: I tensorflow/core/common_runtime/bfc_allocator.cc:1066] InUse at 7fc8263f2500 of size 1076224 next 103\n",
      "2022-04-06 22:45:13.753394: I tensorflow/core/common_runtime/bfc_allocator.cc:1066] InUse at 7fc8264f9100 of size 1076224 next 16\n",
      "2022-04-06 22:45:13.753403: I tensorflow/core/common_runtime/bfc_allocator.cc:1066] InUse at 7fc8265ffd00 of size 1076224 next 44\n",
      "2022-04-06 22:45:13.753412: I tensorflow/core/common_runtime/bfc_allocator.cc:1066] InUse at 7fc826706900 of size 1076224 next 70\n",
      "2022-04-06 22:45:13.753421: I tensorflow/core/common_runtime/bfc_allocator.cc:1066] InUse at 7fc82680d500 of size 1076224 next 95\n",
      "2022-04-06 22:45:13.753430: I tensorflow/core/common_runtime/bfc_allocator.cc:1066] InUse at 7fc826914100 of size 1076224 next 97\n",
      "2022-04-06 22:45:13.753441: I tensorflow/core/common_runtime/bfc_allocator.cc:1066] InUse at 7fc826a1ad00 of size 212992 next 56\n",
      "2022-04-06 22:45:13.753450: I tensorflow/core/common_runtime/bfc_allocator.cc:1066] Free  at 7fc826a4ed00 of size 863232 next 96\n",
      "2022-04-06 22:45:13.753460: I tensorflow/core/common_runtime/bfc_allocator.cc:1066] InUse at 7fc826b21900 of size 1198592 next 12\n",
      "2022-04-06 22:45:13.753470: I tensorflow/core/common_runtime/bfc_allocator.cc:1066] InUse at 7fc826c46300 of size 17486592 next 10\n",
      "2022-04-06 22:45:13.753480: I tensorflow/core/common_runtime/bfc_allocator.cc:1066] InUse at 7fc827cf3600 of size 32754432 next 25\n",
      "2022-04-06 22:45:13.753489: I tensorflow/core/common_runtime/bfc_allocator.cc:1066] InUse at 7fc829c30100 of size 14592 next 26\n",
      "2022-04-06 22:45:13.753499: I tensorflow/core/common_runtime/bfc_allocator.cc:1066] InUse at 7fc829c33a00 of size 32754432 next 27\n",
      "2022-04-06 22:45:13.753508: I tensorflow/core/common_runtime/bfc_allocator.cc:1066] InUse at 7fc82bb70500 of size 32754432 next 28\n",
      "2022-04-06 22:45:13.753517: I tensorflow/core/common_runtime/bfc_allocator.cc:1066] InUse at 7fc82daad000 of size 14592 next 29\n",
      "2022-04-06 22:45:13.753526: I tensorflow/core/common_runtime/bfc_allocator.cc:1066] InUse at 7fc82dab0900 of size 14592 next 30\n",
      "2022-04-06 22:45:13.753535: I tensorflow/core/common_runtime/bfc_allocator.cc:1066] InUse at 7fc82dab4200 of size 14592 next 31\n",
      "2022-04-06 22:45:13.753544: I tensorflow/core/common_runtime/bfc_allocator.cc:1066] InUse at 7fc82dab7b00 of size 256 next 32\n",
      "2022-04-06 22:45:13.753553: I tensorflow/core/common_runtime/bfc_allocator.cc:1066] InUse at 7fc82dab7c00 of size 256 next 33\n",
      "2022-04-06 22:45:13.753563: I tensorflow/core/common_runtime/bfc_allocator.cc:1066] InUse at 7fc82dab7d00 of size 256 next 34\n",
      "2022-04-06 22:45:13.753572: I tensorflow/core/common_runtime/bfc_allocator.cc:1066] InUse at 7fc82dab7e00 of size 256 next 35\n",
      "2022-04-06 22:45:13.753581: I tensorflow/core/common_runtime/bfc_allocator.cc:1066] InUse at 7fc82dab7f00 of size 256 next 36\n",
      "2022-04-06 22:45:13.753590: I tensorflow/core/common_runtime/bfc_allocator.cc:1066] InUse at 7fc82dab8000 of size 256 next 37\n",
      "2022-04-06 22:45:13.753599: I tensorflow/core/common_runtime/bfc_allocator.cc:1066] InUse at 7fc82dab8100 of size 256 next 38\n",
      "2022-04-06 22:45:13.753608: I tensorflow/core/common_runtime/bfc_allocator.cc:1066] InUse at 7fc82dab8200 of size 256 next 39\n",
      "2022-04-06 22:45:13.753617: I tensorflow/core/common_runtime/bfc_allocator.cc:1066] InUse at 7fc82dab8300 of size 256 next 40\n",
      "2022-04-06 22:45:13.753627: I tensorflow/core/common_runtime/bfc_allocator.cc:1066] InUse at 7fc82dab8400 of size 11960832 next 92\n",
      "2022-04-06 22:45:13.753637: I tensorflow/core/common_runtime/bfc_allocator.cc:1066] InUse at 7fc82e620600 of size 20793600 next 72\n",
      "2022-04-06 22:45:13.753647: I tensorflow/core/common_runtime/bfc_allocator.cc:1066] InUse at 7fc82f9f4f00 of size 32754432 next 61\n",
      "2022-04-06 22:45:13.753656: I tensorflow/core/common_runtime/bfc_allocator.cc:1066] InUse at 7fc831931a00 of size 11960832 next 82\n",
      "2022-04-06 22:45:13.753665: I tensorflow/core/common_runtime/bfc_allocator.cc:1066] InUse at 7fc832499c00 of size 11960832 next 41\n",
      "2022-04-06 22:45:13.753674: I tensorflow/core/common_runtime/bfc_allocator.cc:1066] InUse at 7fc833001e00 of size 11960832 next 81\n",
      "2022-04-06 22:45:13.753683: I tensorflow/core/common_runtime/bfc_allocator.cc:1066] Free  at 7fc833b6a000 of size 425472 next 118\n",
      "2022-04-06 22:45:13.753693: I tensorflow/core/common_runtime/bfc_allocator.cc:1066] InUse at 7fc833bd1e00 of size 425216 next 119\n",
      "2022-04-06 22:45:13.753702: I tensorflow/core/common_runtime/bfc_allocator.cc:1066] Free  at 7fc833c39b00 of size 11110144 next 57\n",
      "2022-04-06 22:45:13.753712: I tensorflow/core/common_runtime/bfc_allocator.cc:1066] InUse at 7fc8346d2200 of size 11960832 next 62\n",
      "2022-04-06 22:45:13.753721: I tensorflow/core/common_runtime/bfc_allocator.cc:1066] Free  at 7fc83523a400 of size 11960832 next 77\n",
      "2022-04-06 22:45:13.753730: I tensorflow/core/common_runtime/bfc_allocator.cc:1066] InUse at 7fc835da2600 of size 11960832 next 93\n",
      "2022-04-06 22:45:13.753740: I tensorflow/core/common_runtime/bfc_allocator.cc:1066] InUse at 7fc83690a800 of size 42512896 next 58\n",
      "2022-04-06 22:45:13.753749: I tensorflow/core/common_runtime/bfc_allocator.cc:1066] InUse at 7fc839195a00 of size 42512896 next 91\n",
      "2022-04-06 22:45:13.753758: I tensorflow/core/common_runtime/bfc_allocator.cc:1066] Free  at 7fc83ba20c00 of size 42512896 next 59\n",
      "2022-04-06 22:45:13.753767: I tensorflow/core/common_runtime/bfc_allocator.cc:1066] InUse at 7fc83e2abe00 of size 42512896 next 105\n",
      "2022-04-06 22:45:13.753776: I tensorflow/core/common_runtime/bfc_allocator.cc:1066] InUse at 7fc840b37000 of size 42512896 next 107\n",
      "2022-04-06 22:45:13.753786: I tensorflow/core/common_runtime/bfc_allocator.cc:1066] InUse at 7fc8433c2200 of size 42512896 next 108\n",
      "2022-04-06 22:45:13.753795: I tensorflow/core/common_runtime/bfc_allocator.cc:1066] InUse at 7fc845c4d400 of size 42512896 next 109\n",
      "2022-04-06 22:45:13.753804: I tensorflow/core/common_runtime/bfc_allocator.cc:1066] InUse at 7fc8484d8600 of size 42512896 next 110\n",
      "2022-04-06 22:45:13.753813: I tensorflow/core/common_runtime/bfc_allocator.cc:1066] InUse at 7fc84ad63800 of size 42512896 next 111\n",
      "2022-04-06 22:45:13.753822: I tensorflow/core/common_runtime/bfc_allocator.cc:1066] Free  at 7fc84d5eea00 of size 42512896 next 112\n",
      "2022-04-06 22:45:13.753831: I tensorflow/core/common_runtime/bfc_allocator.cc:1066] InUse at 7fc84fe79c00 of size 42512896 next 89\n",
      "2022-04-06 22:45:13.753840: I tensorflow/core/common_runtime/bfc_allocator.cc:1066] InUse at 7fc852704e00 of size 42512896 next 83\n",
      "2022-04-06 22:45:13.753850: I tensorflow/core/common_runtime/bfc_allocator.cc:1066] Free  at 7fc854f90000 of size 47382528 next 18446744073709551615\n",
      "2022-04-06 22:45:13.753859: I tensorflow/core/common_runtime/bfc_allocator.cc:1071]      Summary of in-use Chunks by size: \n",
      "2022-04-06 22:45:13.753873: I tensorflow/core/common_runtime/bfc_allocator.cc:1074] 52 Chunks of size 256 totalling 13.0KiB\n",
      "2022-04-06 22:45:13.753885: I tensorflow/core/common_runtime/bfc_allocator.cc:1074] 1 Chunks of size 1280 totalling 1.2KiB\n",
      "2022-04-06 22:45:13.753897: I tensorflow/core/common_runtime/bfc_allocator.cc:1074] 6 Chunks of size 14592 totalling 85.5KiB\n",
      "2022-04-06 22:45:13.753908: I tensorflow/core/common_runtime/bfc_allocator.cc:1074] 1 Chunks of size 26112 totalling 25.5KiB\n",
      "2022-04-06 22:45:13.753919: I tensorflow/core/common_runtime/bfc_allocator.cc:1074] 1 Chunks of size 212992 totalling 208.0KiB\n",
      "2022-04-06 22:45:13.753930: I tensorflow/core/common_runtime/bfc_allocator.cc:1074] 1 Chunks of size 425216 totalling 415.2KiB\n",
      "2022-04-06 22:45:13.753942: I tensorflow/core/common_runtime/bfc_allocator.cc:1074] 9 Chunks of size 1076224 totalling 9.24MiB\n",
      "2022-04-06 22:45:13.753953: I tensorflow/core/common_runtime/bfc_allocator.cc:1074] 1 Chunks of size 1198592 totalling 1.14MiB\n",
      "2022-04-06 22:45:13.753964: I tensorflow/core/common_runtime/bfc_allocator.cc:1074] 6 Chunks of size 11960832 totalling 68.44MiB\n",
      "2022-04-06 22:45:13.753978: I tensorflow/core/common_runtime/bfc_allocator.cc:1074] 1 Chunks of size 17486592 totalling 16.68MiB\n",
      "2022-04-06 22:45:13.753990: I tensorflow/core/common_runtime/bfc_allocator.cc:1074] 1 Chunks of size 20793600 totalling 19.83MiB\n",
      "2022-04-06 22:45:13.754001: I tensorflow/core/common_runtime/bfc_allocator.cc:1074] 4 Chunks of size 32754432 totalling 124.95MiB\n",
      "2022-04-06 22:45:13.754013: I tensorflow/core/common_runtime/bfc_allocator.cc:1074] 1 Chunks of size 35880192 totalling 34.22MiB\n",
      "2022-04-06 22:45:13.754025: I tensorflow/core/common_runtime/bfc_allocator.cc:1074] 10 Chunks of size 42512896 totalling 405.43MiB\n",
      "2022-04-06 22:45:13.754036: I tensorflow/core/common_runtime/bfc_allocator.cc:1074] 1 Chunks of size 65450496 totalling 62.42MiB\n",
      "2022-04-06 22:45:13.754048: I tensorflow/core/common_runtime/bfc_allocator.cc:1078] Sum Total of in-use chunks: 743.08MiB\n",
      "2022-04-06 22:45:13.754058: I tensorflow/core/common_runtime/bfc_allocator.cc:1080] total_region_allocated_bytes_: 936116224 memory_limit_: 936116224 available bytes: 0 curr_region_allocation_bytes_: 1872232448\n",
      "2022-04-06 22:45:13.754076: I tensorflow/core/common_runtime/bfc_allocator.cc:1086] Stats: \n",
      "Limit:                       936116224\n",
      "InUse:                       779173632\n",
      "MaxInUse:                    912222464\n",
      "NumAllocs:                      576415\n",
      "MaxAllocSize:                 65494272\n",
      "Reserved:                            0\n",
      "PeakReserved:                        0\n",
      "LargestFreeBlock:                    0\n",
      "\n",
      "2022-04-06 22:45:13.754105: W tensorflow/core/common_runtime/bfc_allocator.cc:474] ****xx********************************_***********____****************************___**********_____\n",
      "2022-04-06 22:45:13.754176: W tensorflow/core/framework/op_kernel.cc:1745] OP_REQUIRES failed at concat_op.cc:159 : RESOURCE_EXHAUSTED: OOM when allocating tensor with shape[106282,200] and type float on /job:localhost/replica:0/task:0/device:GPU:0 by allocator GPU_0_bfc\n"
     ]
    },
    {
     "ename": "ResourceExhaustedError",
     "evalue": "Graph execution error:\n\nDetected at node 'gradient_tape/model_1/compl_ex_score_1/BroadcastTo_3' defined at (most recent call last):\n    File \"/home/kangjunekoo/anaconda3/envs/pytorch/lib/python3.7/runpy.py\", line 193, in _run_module_as_main\n      \"__main__\", mod_spec)\n    File \"/home/kangjunekoo/anaconda3/envs/pytorch/lib/python3.7/runpy.py\", line 85, in _run_code\n      exec(code, run_globals)\n    File \"/home/kangjunekoo/anaconda3/envs/pytorch/lib/python3.7/site-packages/ipykernel_launcher.py\", line 16, in <module>\n      app.launch_new_instance()\n    File \"/home/kangjunekoo/anaconda3/envs/pytorch/lib/python3.7/site-packages/traitlets/config/application.py\", line 846, in launch_instance\n      app.start()\n    File \"/home/kangjunekoo/anaconda3/envs/pytorch/lib/python3.7/site-packages/ipykernel/kernelapp.py\", line 677, in start\n      self.io_loop.start()\n    File \"/home/kangjunekoo/anaconda3/envs/pytorch/lib/python3.7/site-packages/tornado/platform/asyncio.py\", line 199, in start\n      self.asyncio_loop.run_forever()\n    File \"/home/kangjunekoo/anaconda3/envs/pytorch/lib/python3.7/asyncio/base_events.py\", line 541, in run_forever\n      self._run_once()\n    File \"/home/kangjunekoo/anaconda3/envs/pytorch/lib/python3.7/asyncio/base_events.py\", line 1786, in _run_once\n      handle._run()\n    File \"/home/kangjunekoo/anaconda3/envs/pytorch/lib/python3.7/asyncio/events.py\", line 88, in _run\n      self._context.run(self._callback, *self._args)\n    File \"/home/kangjunekoo/anaconda3/envs/pytorch/lib/python3.7/site-packages/ipykernel/kernelbase.py\", line 457, in dispatch_queue\n      await self.process_one()\n    File \"/home/kangjunekoo/anaconda3/envs/pytorch/lib/python3.7/site-packages/ipykernel/kernelbase.py\", line 446, in process_one\n      await dispatch(*args)\n    File \"/home/kangjunekoo/anaconda3/envs/pytorch/lib/python3.7/site-packages/ipykernel/kernelbase.py\", line 353, in dispatch_shell\n      await result\n    File \"/home/kangjunekoo/anaconda3/envs/pytorch/lib/python3.7/site-packages/ipykernel/kernelbase.py\", line 648, in execute_request\n      reply_content = await reply_content\n    File \"/home/kangjunekoo/anaconda3/envs/pytorch/lib/python3.7/site-packages/ipykernel/ipkernel.py\", line 353, in do_execute\n      res = shell.run_cell(code, store_history=store_history, silent=silent)\n    File \"/home/kangjunekoo/anaconda3/envs/pytorch/lib/python3.7/site-packages/ipykernel/zmqshell.py\", line 533, in run_cell\n      return super(ZMQInteractiveShell, self).run_cell(*args, **kwargs)\n    File \"/home/kangjunekoo/anaconda3/envs/pytorch/lib/python3.7/site-packages/IPython/core/interactiveshell.py\", line 2902, in run_cell\n      raw_cell, store_history, silent, shell_futures)\n    File \"/home/kangjunekoo/anaconda3/envs/pytorch/lib/python3.7/site-packages/IPython/core/interactiveshell.py\", line 2947, in _run_cell\n      return runner(coro)\n    File \"/home/kangjunekoo/anaconda3/envs/pytorch/lib/python3.7/site-packages/IPython/core/async_helpers.py\", line 68, in _pseudo_sync_runner\n      coro.send(None)\n    File \"/home/kangjunekoo/anaconda3/envs/pytorch/lib/python3.7/site-packages/IPython/core/interactiveshell.py\", line 3173, in run_cell_async\n      interactivity=interactivity, compiler=compiler, result=result)\n    File \"/home/kangjunekoo/anaconda3/envs/pytorch/lib/python3.7/site-packages/IPython/core/interactiveshell.py\", line 3364, in run_ast_nodes\n      if (await self.run_code(code, result,  async_=asy)):\n    File \"/home/kangjunekoo/anaconda3/envs/pytorch/lib/python3.7/site-packages/IPython/core/interactiveshell.py\", line 3444, in run_code\n      exec(code_obj, self.user_global_ns, self.user_ns)\n    File \"/tmp/ipykernel_291309/2239569725.py\", line 3, in <module>\n      fb15k_train_gen, validation_data=fb15k_valid_gen, epochs=epochs, callbacks=[fb15k_es]\n    File \"/home/kangjunekoo/anaconda3/envs/pytorch/lib/python3.7/site-packages/keras/utils/traceback_utils.py\", line 64, in error_handler\n      return fn(*args, **kwargs)\n    File \"/home/kangjunekoo/anaconda3/envs/pytorch/lib/python3.7/site-packages/keras/engine/training.py\", line 1384, in fit\n      tmp_logs = self.train_function(iterator)\n    File \"/home/kangjunekoo/anaconda3/envs/pytorch/lib/python3.7/site-packages/keras/engine/training.py\", line 1021, in train_function\n      return step_function(self, iterator)\n    File \"/home/kangjunekoo/anaconda3/envs/pytorch/lib/python3.7/site-packages/keras/engine/training.py\", line 1010, in step_function\n      outputs = model.distribute_strategy.run(run_step, args=(data,))\n    File \"/home/kangjunekoo/anaconda3/envs/pytorch/lib/python3.7/site-packages/keras/engine/training.py\", line 1000, in run_step\n      outputs = model.train_step(data)\n    File \"/home/kangjunekoo/anaconda3/envs/pytorch/lib/python3.7/site-packages/keras/engine/training.py\", line 863, in train_step\n      self.optimizer.minimize(loss, self.trainable_variables, tape=tape)\n    File \"/home/kangjunekoo/anaconda3/envs/pytorch/lib/python3.7/site-packages/keras/optimizer_v2/optimizer_v2.py\", line 531, in minimize\n      loss, var_list=var_list, grad_loss=grad_loss, tape=tape)\n    File \"/home/kangjunekoo/anaconda3/envs/pytorch/lib/python3.7/site-packages/keras/optimizer_v2/optimizer_v2.py\", line 583, in _compute_gradients\n      grads_and_vars = self._get_gradients(tape, loss, var_list, grad_loss)\n    File \"/home/kangjunekoo/anaconda3/envs/pytorch/lib/python3.7/site-packages/keras/optimizer_v2/optimizer_v2.py\", line 464, in _get_gradients\n      grads = tape.gradient(loss, var_list, grad_loss)\nNode: 'gradient_tape/model_1/compl_ex_score_1/BroadcastTo_3'\nOOM when allocating tensor with shape[53141,1,200] and type float on /job:localhost/replica:0/task:0/device:GPU:0 by allocator GPU_0_bfc\n\t [[{{node gradient_tape/model_1/compl_ex_score_1/BroadcastTo_3}}]]\nHint: If you want to see a list of allocated tensors when OOM happens, add report_tensor_allocations_upon_oom to RunOptions for current allocation info. This isn't available when running in Eager mode.\n [Op:__inference_train_function_25111]",
     "output_type": "error",
     "traceback": [
      "\u001b[0;31m---------------------------------------------------------------------------\u001b[0m",
      "\u001b[0;31mResourceExhaustedError\u001b[0m                    Traceback (most recent call last)",
      "\u001b[0;32m/tmp/ipykernel_291309/2239569725.py\u001b[0m in \u001b[0;36m<module>\u001b[0;34m\u001b[0m\n\u001b[1;32m      1\u001b[0m \u001b[0mfb15k_es\u001b[0m \u001b[0;34m=\u001b[0m \u001b[0mcallbacks\u001b[0m\u001b[0;34m.\u001b[0m\u001b[0mEarlyStopping\u001b[0m\u001b[0;34m(\u001b[0m\u001b[0mmonitor\u001b[0m\u001b[0;34m=\u001b[0m\u001b[0;34m\"val_loss\"\u001b[0m\u001b[0;34m,\u001b[0m \u001b[0mpatience\u001b[0m\u001b[0;34m=\u001b[0m\u001b[0;36m10\u001b[0m\u001b[0;34m)\u001b[0m\u001b[0;34m\u001b[0m\u001b[0;34m\u001b[0m\u001b[0m\n\u001b[1;32m      2\u001b[0m fb15k_history = fb15k_model.fit(\n\u001b[0;32m----> 3\u001b[0;31m     \u001b[0mfb15k_train_gen\u001b[0m\u001b[0;34m,\u001b[0m \u001b[0mvalidation_data\u001b[0m\u001b[0;34m=\u001b[0m\u001b[0mfb15k_valid_gen\u001b[0m\u001b[0;34m,\u001b[0m \u001b[0mepochs\u001b[0m\u001b[0;34m=\u001b[0m\u001b[0mepochs\u001b[0m\u001b[0;34m,\u001b[0m \u001b[0mcallbacks\u001b[0m\u001b[0;34m=\u001b[0m\u001b[0;34m[\u001b[0m\u001b[0mfb15k_es\u001b[0m\u001b[0;34m]\u001b[0m\u001b[0;34m\u001b[0m\u001b[0;34m\u001b[0m\u001b[0m\n\u001b[0m\u001b[1;32m      4\u001b[0m )\n",
      "\u001b[0;32m~/anaconda3/envs/pytorch/lib/python3.7/site-packages/keras/utils/traceback_utils.py\u001b[0m in \u001b[0;36merror_handler\u001b[0;34m(*args, **kwargs)\u001b[0m\n\u001b[1;32m     65\u001b[0m     \u001b[0;32mexcept\u001b[0m \u001b[0mException\u001b[0m \u001b[0;32mas\u001b[0m \u001b[0me\u001b[0m\u001b[0;34m:\u001b[0m  \u001b[0;31m# pylint: disable=broad-except\u001b[0m\u001b[0;34m\u001b[0m\u001b[0;34m\u001b[0m\u001b[0m\n\u001b[1;32m     66\u001b[0m       \u001b[0mfiltered_tb\u001b[0m \u001b[0;34m=\u001b[0m \u001b[0m_process_traceback_frames\u001b[0m\u001b[0;34m(\u001b[0m\u001b[0me\u001b[0m\u001b[0;34m.\u001b[0m\u001b[0m__traceback__\u001b[0m\u001b[0;34m)\u001b[0m\u001b[0;34m\u001b[0m\u001b[0;34m\u001b[0m\u001b[0m\n\u001b[0;32m---> 67\u001b[0;31m       \u001b[0;32mraise\u001b[0m \u001b[0me\u001b[0m\u001b[0;34m.\u001b[0m\u001b[0mwith_traceback\u001b[0m\u001b[0;34m(\u001b[0m\u001b[0mfiltered_tb\u001b[0m\u001b[0;34m)\u001b[0m \u001b[0;32mfrom\u001b[0m \u001b[0;32mNone\u001b[0m\u001b[0;34m\u001b[0m\u001b[0;34m\u001b[0m\u001b[0m\n\u001b[0m\u001b[1;32m     68\u001b[0m     \u001b[0;32mfinally\u001b[0m\u001b[0;34m:\u001b[0m\u001b[0;34m\u001b[0m\u001b[0;34m\u001b[0m\u001b[0m\n\u001b[1;32m     69\u001b[0m       \u001b[0;32mdel\u001b[0m \u001b[0mfiltered_tb\u001b[0m\u001b[0;34m\u001b[0m\u001b[0;34m\u001b[0m\u001b[0m\n",
      "\u001b[0;32m~/anaconda3/envs/pytorch/lib/python3.7/site-packages/tensorflow/python/eager/execute.py\u001b[0m in \u001b[0;36mquick_execute\u001b[0;34m(op_name, num_outputs, inputs, attrs, ctx, name)\u001b[0m\n\u001b[1;32m     53\u001b[0m     \u001b[0mctx\u001b[0m\u001b[0;34m.\u001b[0m\u001b[0mensure_initialized\u001b[0m\u001b[0;34m(\u001b[0m\u001b[0;34m)\u001b[0m\u001b[0;34m\u001b[0m\u001b[0;34m\u001b[0m\u001b[0m\n\u001b[1;32m     54\u001b[0m     tensors = pywrap_tfe.TFE_Py_Execute(ctx._handle, device_name, op_name,\n\u001b[0;32m---> 55\u001b[0;31m                                         inputs, attrs, num_outputs)\n\u001b[0m\u001b[1;32m     56\u001b[0m   \u001b[0;32mexcept\u001b[0m \u001b[0mcore\u001b[0m\u001b[0;34m.\u001b[0m\u001b[0m_NotOkStatusException\u001b[0m \u001b[0;32mas\u001b[0m \u001b[0me\u001b[0m\u001b[0;34m:\u001b[0m\u001b[0;34m\u001b[0m\u001b[0;34m\u001b[0m\u001b[0m\n\u001b[1;32m     57\u001b[0m     \u001b[0;32mif\u001b[0m \u001b[0mname\u001b[0m \u001b[0;32mis\u001b[0m \u001b[0;32mnot\u001b[0m \u001b[0;32mNone\u001b[0m\u001b[0;34m:\u001b[0m\u001b[0;34m\u001b[0m\u001b[0;34m\u001b[0m\u001b[0m\n",
      "\u001b[0;31mResourceExhaustedError\u001b[0m: Graph execution error:\n\nDetected at node 'gradient_tape/model_1/compl_ex_score_1/BroadcastTo_3' defined at (most recent call last):\n    File \"/home/kangjunekoo/anaconda3/envs/pytorch/lib/python3.7/runpy.py\", line 193, in _run_module_as_main\n      \"__main__\", mod_spec)\n    File \"/home/kangjunekoo/anaconda3/envs/pytorch/lib/python3.7/runpy.py\", line 85, in _run_code\n      exec(code, run_globals)\n    File \"/home/kangjunekoo/anaconda3/envs/pytorch/lib/python3.7/site-packages/ipykernel_launcher.py\", line 16, in <module>\n      app.launch_new_instance()\n    File \"/home/kangjunekoo/anaconda3/envs/pytorch/lib/python3.7/site-packages/traitlets/config/application.py\", line 846, in launch_instance\n      app.start()\n    File \"/home/kangjunekoo/anaconda3/envs/pytorch/lib/python3.7/site-packages/ipykernel/kernelapp.py\", line 677, in start\n      self.io_loop.start()\n    File \"/home/kangjunekoo/anaconda3/envs/pytorch/lib/python3.7/site-packages/tornado/platform/asyncio.py\", line 199, in start\n      self.asyncio_loop.run_forever()\n    File \"/home/kangjunekoo/anaconda3/envs/pytorch/lib/python3.7/asyncio/base_events.py\", line 541, in run_forever\n      self._run_once()\n    File \"/home/kangjunekoo/anaconda3/envs/pytorch/lib/python3.7/asyncio/base_events.py\", line 1786, in _run_once\n      handle._run()\n    File \"/home/kangjunekoo/anaconda3/envs/pytorch/lib/python3.7/asyncio/events.py\", line 88, in _run\n      self._context.run(self._callback, *self._args)\n    File \"/home/kangjunekoo/anaconda3/envs/pytorch/lib/python3.7/site-packages/ipykernel/kernelbase.py\", line 457, in dispatch_queue\n      await self.process_one()\n    File \"/home/kangjunekoo/anaconda3/envs/pytorch/lib/python3.7/site-packages/ipykernel/kernelbase.py\", line 446, in process_one\n      await dispatch(*args)\n    File \"/home/kangjunekoo/anaconda3/envs/pytorch/lib/python3.7/site-packages/ipykernel/kernelbase.py\", line 353, in dispatch_shell\n      await result\n    File \"/home/kangjunekoo/anaconda3/envs/pytorch/lib/python3.7/site-packages/ipykernel/kernelbase.py\", line 648, in execute_request\n      reply_content = await reply_content\n    File \"/home/kangjunekoo/anaconda3/envs/pytorch/lib/python3.7/site-packages/ipykernel/ipkernel.py\", line 353, in do_execute\n      res = shell.run_cell(code, store_history=store_history, silent=silent)\n    File \"/home/kangjunekoo/anaconda3/envs/pytorch/lib/python3.7/site-packages/ipykernel/zmqshell.py\", line 533, in run_cell\n      return super(ZMQInteractiveShell, self).run_cell(*args, **kwargs)\n    File \"/home/kangjunekoo/anaconda3/envs/pytorch/lib/python3.7/site-packages/IPython/core/interactiveshell.py\", line 2902, in run_cell\n      raw_cell, store_history, silent, shell_futures)\n    File \"/home/kangjunekoo/anaconda3/envs/pytorch/lib/python3.7/site-packages/IPython/core/interactiveshell.py\", line 2947, in _run_cell\n      return runner(coro)\n    File \"/home/kangjunekoo/anaconda3/envs/pytorch/lib/python3.7/site-packages/IPython/core/async_helpers.py\", line 68, in _pseudo_sync_runner\n      coro.send(None)\n    File \"/home/kangjunekoo/anaconda3/envs/pytorch/lib/python3.7/site-packages/IPython/core/interactiveshell.py\", line 3173, in run_cell_async\n      interactivity=interactivity, compiler=compiler, result=result)\n    File \"/home/kangjunekoo/anaconda3/envs/pytorch/lib/python3.7/site-packages/IPython/core/interactiveshell.py\", line 3364, in run_ast_nodes\n      if (await self.run_code(code, result,  async_=asy)):\n    File \"/home/kangjunekoo/anaconda3/envs/pytorch/lib/python3.7/site-packages/IPython/core/interactiveshell.py\", line 3444, in run_code\n      exec(code_obj, self.user_global_ns, self.user_ns)\n    File \"/tmp/ipykernel_291309/2239569725.py\", line 3, in <module>\n      fb15k_train_gen, validation_data=fb15k_valid_gen, epochs=epochs, callbacks=[fb15k_es]\n    File \"/home/kangjunekoo/anaconda3/envs/pytorch/lib/python3.7/site-packages/keras/utils/traceback_utils.py\", line 64, in error_handler\n      return fn(*args, **kwargs)\n    File \"/home/kangjunekoo/anaconda3/envs/pytorch/lib/python3.7/site-packages/keras/engine/training.py\", line 1384, in fit\n      tmp_logs = self.train_function(iterator)\n    File \"/home/kangjunekoo/anaconda3/envs/pytorch/lib/python3.7/site-packages/keras/engine/training.py\", line 1021, in train_function\n      return step_function(self, iterator)\n    File \"/home/kangjunekoo/anaconda3/envs/pytorch/lib/python3.7/site-packages/keras/engine/training.py\", line 1010, in step_function\n      outputs = model.distribute_strategy.run(run_step, args=(data,))\n    File \"/home/kangjunekoo/anaconda3/envs/pytorch/lib/python3.7/site-packages/keras/engine/training.py\", line 1000, in run_step\n      outputs = model.train_step(data)\n    File \"/home/kangjunekoo/anaconda3/envs/pytorch/lib/python3.7/site-packages/keras/engine/training.py\", line 863, in train_step\n      self.optimizer.minimize(loss, self.trainable_variables, tape=tape)\n    File \"/home/kangjunekoo/anaconda3/envs/pytorch/lib/python3.7/site-packages/keras/optimizer_v2/optimizer_v2.py\", line 531, in minimize\n      loss, var_list=var_list, grad_loss=grad_loss, tape=tape)\n    File \"/home/kangjunekoo/anaconda3/envs/pytorch/lib/python3.7/site-packages/keras/optimizer_v2/optimizer_v2.py\", line 583, in _compute_gradients\n      grads_and_vars = self._get_gradients(tape, loss, var_list, grad_loss)\n    File \"/home/kangjunekoo/anaconda3/envs/pytorch/lib/python3.7/site-packages/keras/optimizer_v2/optimizer_v2.py\", line 464, in _get_gradients\n      grads = tape.gradient(loss, var_list, grad_loss)\nNode: 'gradient_tape/model_1/compl_ex_score_1/BroadcastTo_3'\nOOM when allocating tensor with shape[53141,1,200] and type float on /job:localhost/replica:0/task:0/device:GPU:0 by allocator GPU_0_bfc\n\t [[{{node gradient_tape/model_1/compl_ex_score_1/BroadcastTo_3}}]]\nHint: If you want to see a list of allocated tensors when OOM happens, add report_tensor_allocations_upon_oom to RunOptions for current allocation info. This isn't available when running in Eager mode.\n [Op:__inference_train_function_25111]"
     ]
    }
   ],
   "source": [
    "fb15k_es = callbacks.EarlyStopping(monitor=\"val_loss\", patience=10)\n",
    "fb15k_history = fb15k_model.fit(\n",
    "    fb15k_train_gen, validation_data=fb15k_valid_gen, epochs=epochs, callbacks=[fb15k_es]\n",
    ")"
   ]
  },
  {
   "cell_type": "code",
   "execution_count": null,
   "metadata": {},
   "outputs": [
    {
     "data": {
      "image/png": "[encoded data removed]",
      "text/plain": [
       "<Figure size 504x576 with 2 Axes>"
      ]
     },
     "metadata": {
      "needs_background": "light"
     },
     "output_type": "display_data"
    }
   ],
   "source": [
    "utils.plot_history(fb15k_history)"
   ]
  },
  {
   "cell_type": "markdown",
   "metadata": {},
   "source": [
    "### Evaluate the model"
   ]
  },
  {
   "cell_type": "code",
   "execution_count": null,
   "metadata": {},
   "outputs": [],
   "source": [
    "fb15k_raw_ranks, fb15k_filtered_ranks = fb15k_complex.rank_edges_against_all_nodes(\n",
    "    fb15k_gen.flow(fb15k_test), fb15k_graph\n",
    ")"
   ]
  },
  {
   "cell_type": "code",
   "execution_count": null,
   "metadata": {},
   "outputs": [
    {
     "data": {
      "text/html": [
       "<div>\n",
       "<style scoped>\n",
       "    .dataframe tbody tr th:only-of-type {\n",
       "        vertical-align: middle;\n",
       "    }\n",
       "\n",
       "    .dataframe tbody tr th {\n",
       "        vertical-align: top;\n",
       "    }\n",
       "\n",
       "    .dataframe thead th {\n",
       "        text-align: right;\n",
       "    }\n",
       "</style>\n",
       "<table border=\"1\" class=\"dataframe\">\n",
       "  <thead>\n",
       "    <tr style=\"text-align: right;\">\n",
       "      <th></th>\n",
       "      <th>mrr</th>\n",
       "      <th>hits at 1</th>\n",
       "      <th>hits at 3</th>\n",
       "      <th>hits at 10</th>\n",
       "    </tr>\n",
       "  </thead>\n",
       "  <tbody>\n",
       "    <tr>\n",
       "      <th>raw</th>\n",
       "      <td>0.257589</td>\n",
       "      <td>0.141330</td>\n",
       "      <td>0.227133</td>\n",
       "      <td>0.513856</td>\n",
       "    </tr>\n",
       "    <tr>\n",
       "      <th>filtered</th>\n",
       "      <td>0.591330</td>\n",
       "      <td>0.464069</td>\n",
       "      <td>0.613778</td>\n",
       "      <td>0.818049</td>\n",
       "    </tr>\n",
       "  </tbody>\n",
       "</table>\n",
       "</div>"
      ],
      "text/plain": [
       "               mrr  hits at 1  hits at 3  hits at 10\n",
       "raw       0.257589   0.141330   0.227133    0.513856\n",
       "filtered  0.591330   0.464069   0.613778    0.818049"
      ]
     },
     "execution_count": 29,
     "metadata": {},
     "output_type": "execute_result"
    }
   ],
   "source": [
    "summarise({\"raw\": fb15k_raw_ranks, \"filtered\": fb15k_filtered_ranks})"
   ]
  },
  {
   "cell_type": "markdown",
   "metadata": {},
   "source": [
    "For comparison, Table 2 in the paper gives the following results for FB15k:"
   ]
  },
  {
   "cell_type": "code",
   "execution_count": null,
   "metadata": {},
   "outputs": [
    {
     "data": {
      "text/html": [
       "<div>\n",
       "<style scoped>\n",
       "    .dataframe tbody tr th:only-of-type {\n",
       "        vertical-align: middle;\n",
       "    }\n",
       "\n",
       "    .dataframe tbody tr th {\n",
       "        vertical-align: top;\n",
       "    }\n",
       "\n",
       "    .dataframe thead th {\n",
       "        text-align: right;\n",
       "    }\n",
       "</style>\n",
       "<table border=\"1\" class=\"dataframe\">\n",
       "  <thead>\n",
       "    <tr style=\"text-align: right;\">\n",
       "      <th></th>\n",
       "      <th>mrr</th>\n",
       "      <th>hits at 1</th>\n",
       "      <th>hits at 3</th>\n",
       "      <th>hits at 10</th>\n",
       "    </tr>\n",
       "  </thead>\n",
       "  <tbody>\n",
       "    <tr>\n",
       "      <th>raw</th>\n",
       "      <td>0.242</td>\n",
       "      <td>NaN</td>\n",
       "      <td>NaN</td>\n",
       "      <td>NaN</td>\n",
       "    </tr>\n",
       "    <tr>\n",
       "      <th>filtered</th>\n",
       "      <td>0.692</td>\n",
       "      <td>0.599</td>\n",
       "      <td>0.759</td>\n",
       "      <td>0.85</td>\n",
       "    </tr>\n",
       "  </tbody>\n",
       "</table>\n",
       "</div>"
      ],
      "text/plain": [
       "            mrr  hits at 1  hits at 3  hits at 10\n",
       "raw       0.242        NaN        NaN         NaN\n",
       "filtered  0.692      0.599      0.759        0.85"
      ]
     },
     "execution_count": 21,
     "metadata": {},
     "output_type": "execute_result"
    }
   ],
   "source": [
    "results_as_dataframe(\n",
    "    {\"raw\": (0.242, None, None, None), \"filtered\": (0.692, 0.599, 0.759, 0.850)}\n",
    ")"
   ]
  },
  {
   "cell_type": "markdown",
   "metadata": {
    "nbsphinx": "hidden",
    "tags": [
     "CloudRunner"
    ]
   },
   "source": [
    "<table><tr><td>Run the latest release of this notebook:</td><td><a href=\"https://mybinder.org/v2/gh/stellargraph/stellargraph/master?urlpath=lab/tree/demos/link-prediction/complex-link-prediction.ipynb\" alt=\"Open In Binder\" target=\"_parent\"><img src=\"https://mybinder.org/badge_logo.svg\"/></a></td><td><a href=\"https://colab.research.google.com/github/stellargraph/stellargraph/blob/master/demos/link-prediction/complex-link-prediction.ipynb\" alt=\"Open In Colab\" target=\"_parent\"><img src=\"https://colab.research.google.com/assets/colab-badge.svg\"/></a></td></tr></table>"
   ]
  }
 ],
 "metadata": {
  "kernelspec": {
   "display_name": "Python 3",
   "language": "python",
   "name": "python3"
  },
  "language_info": {
   "codemirror_mode": {
    "name": "ipython",
    "version": 3
   },
   "file_extension": ".py",
   "mimetype": "text/x-python",
   "name": "python",
   "nbconvert_exporter": "python",
   "pygments_lexer": "ipython3",
   "version": "3.7.11"
  }
 },
 "nbformat": 4,
 "nbformat_minor": 4
}
