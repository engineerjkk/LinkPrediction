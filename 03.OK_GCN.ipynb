{
 "cells": [
  {
   "cell_type": "markdown",
   "metadata": {},
   "source": [
    "# Link prediction with GCN"
   ]
  },
  {
   "cell_type": "markdown",
   "metadata": {
    "nbsphinx": "hidden",
    "tags": [
     "CloudRunner"
    ]
   },
   "source": [
    "<table><tr><td>Run the latest release of this notebook:</td><td><a href=\"https://mybinder.org/v2/gh/stellargraph/stellargraph/master?urlpath=lab/tree/demos/link-prediction/gcn-link-prediction.ipynb\" alt=\"Open In Binder\" target=\"_parent\"><img src=\"https://mybinder.org/badge_logo.svg\"/></a></td><td><a href=\"https://colab.research.google.com/github/stellargraph/stellargraph/blob/master/demos/link-prediction/gcn-link-prediction.ipynb\" alt=\"Open In Colab\" target=\"_parent\"><img src=\"https://colab.research.google.com/assets/colab-badge.svg\"/></a></td></tr></table>"
   ]
  },
  {
   "cell_type": "markdown",
   "metadata": {},
   "source": [
    "In this example, we use our implementation of the [GCN](https://arxiv.org/abs/1609.02907) algorithm to build a model that predicts citation links in the Cora dataset (see below). The problem is treated as a supervised link prediction problem on a homogeneous citation network with nodes representing papers (with attributes such as binary keyword indicators and categorical subject) and links corresponding to paper-paper citations. \n",
    "\n",
    "To address this problem, we build a model with the following architecture. First we build a two-layer GCN model that takes labeled node pairs (`citing-paper` -> `cited-paper`)  corresponding to possible citation links, and outputs a pair of node embeddings for the `citing-paper` and `cited-paper` nodes of the pair. These embeddings are then fed into a link classification layer, which first applies a binary operator to those node embeddings (e.g., concatenating them) to construct the embedding of the potential link. Thus obtained link embeddings are passed through the dense link classification layer to obtain link predictions - probability for these candidate links to actually exist in the network. The entire model is trained end-to-end by minimizing the loss function of choice (e.g., binary cross-entropy between predicted link probabilities and true link labels, with true/false citation links having labels 1/0) using stochastic gradient descent (SGD) updates of the model parameters, with minibatches of 'training' links fed into the model."
   ]
  },
  {
   "cell_type": "code",
   "execution_count": 1,
   "metadata": {
    "nbsphinx": "hidden",
    "tags": [
     "CloudRunner"
    ]
   },
   "outputs": [],
   "source": [
    "# install StellarGraph if running on Google Colab\n",
    "import sys\n",
    "if 'google.colab' in sys.modules:\n",
    "  %pip install -q stellargraph[demos]==1.2.1"
   ]
  },
  {
   "cell_type": "code",
   "execution_count": 2,
   "metadata": {
    "nbsphinx": "hidden",
    "tags": [
     "VersionCheck"
    ]
   },
   "outputs": [
    {
     "name": "stderr",
     "output_type": "stream",
     "text": [
      "2022-04-06 22:19:27.939197: I tensorflow/core/platform/cpu_feature_guard.cc:151] This TensorFlow binary is optimized with oneAPI Deep Neural Network Library (oneDNN) to use the following CPU instructions in performance-critical operations:  AVX2 AVX512F FMA\n",
      "To enable them in other operations, rebuild TensorFlow with the appropriate compiler flags.\n",
      "2022-04-06 22:19:28.727729: I tensorflow/core/common_runtime/gpu/gpu_device.cc:1525] Created device /job:localhost/replica:0/task:0/device:GPU:0 with 22306 MB memory:  -> device: 0, name: NVIDIA GeForce RTX 3090, pci bus id: 0000:1a:00.0, compute capability: 8.6\n",
      "2022-04-06 22:19:28.728256: I tensorflow/core/common_runtime/gpu/gpu_device.cc:1525] Created device /job:localhost/replica:0/task:0/device:GPU:1 with 21291 MB memory:  -> device: 1, name: NVIDIA GeForce RTX 3090, pci bus id: 0000:68:00.0, compute capability: 8.6\n"
     ]
    }
   ],
   "source": [
    "# verify that we're using the correct version of StellarGraph for this notebook\n",
    "import stellargraph as sg\n",
    "\n",
    "try:\n",
    "    sg.utils.validate_notebook_version(\"1.2.1\")\n",
    "except AttributeError:\n",
    "    raise ValueError(\n",
    "        f\"This notebook requires StellarGraph version 1.2.1, but a different version {sg.__version__} is installed.  Please see <https://github.com/stellargraph/stellargraph/issues/1172>.\"\n",
    "    ) from None"
   ]
  },
  {
   "cell_type": "code",
   "execution_count": 3,
   "metadata": {},
   "outputs": [],
   "source": [
    "import stellargraph as sg\n",
    "from stellargraph.data import EdgeSplitter\n",
    "from stellargraph.mapper import FullBatchLinkGenerator\n",
    "from stellargraph.layer import GCN, LinkEmbedding\n",
    "\n",
    "\n",
    "from tensorflow import keras\n",
    "from sklearn import preprocessing, feature_extraction, model_selection\n",
    "\n",
    "from stellargraph import globalvar\n",
    "from stellargraph import datasets\n",
    "from IPython.display import display, HTML\n",
    "%matplotlib inline"
   ]
  },
  {
   "cell_type": "markdown",
   "metadata": {},
   "source": [
    "## Loading the CORA network data"
   ]
  },
  {
   "cell_type": "markdown",
   "metadata": {
    "tags": [
     "DataLoadingLinks"
    ]
   },
   "source": [
    "(See [the \"Loading from Pandas\" demo](../basics/loading-pandas.ipynb) for details on how data can be loaded.)"
   ]
  },
  {
   "cell_type": "code",
   "execution_count": 4,
   "metadata": {
    "tags": [
     "DataLoading"
    ]
   },
   "outputs": [
    {
     "data": {
      "text/html": [
       "The Cora dataset consists of 2708 scientific publications classified into one of seven classes. The citation network consists of 5429 links. Each publication in the dataset is described by a 0/1-valued word vector indicating the absence/presence of the corresponding word from the dictionary. The dictionary consists of 1433 unique words."
      ],
      "text/plain": [
       "<IPython.core.display.HTML object>"
      ]
     },
     "metadata": {},
     "output_type": "display_data"
    }
   ],
   "source": [
    "dataset = datasets.Cora()\n",
    "display(HTML(dataset.description))\n",
    "G, _ = dataset.load(subject_as_feature=True)"
   ]
  },
  {
   "cell_type": "markdown",
   "metadata": {},
   "source": [
    "We aim to train a link prediction model, hence we need to prepare the train and test sets of links and the corresponding graphs with those links removed.\n",
    "\n",
    "We are going to split our input graph into a train and test graphs using the EdgeSplitter class in `stellargraph.data`. We will use the train graph for training the model (a binary classifier that, given two nodes, predicts whether a link between these two nodes should exist or not) and the test graph for evaluating the model's performance on hold out data.\n",
    "Each of these graphs will have the same number of nodes as the input graph, but the number of links will differ (be reduced) as some of the links will be removed during each split and used as the positive samples for training/testing the link prediction classifier."
   ]
  },
  {
   "cell_type": "markdown",
   "metadata": {},
   "source": [
    "From the original graph G, extract a randomly sampled subset of test edges (true and false citation links) and the reduced graph G_test with the positive test edges removed:"
   ]
  },
  {
   "cell_type": "code",
   "execution_count": 6,
   "metadata": {},
   "outputs": [
    {
     "name": "stdout",
     "output_type": "stream",
     "text": [
      "** Sampled 542 positive and 542 negative edges. **\n"
     ]
    }
   ],
   "source": [
    "# Define an edge splitter on the original graph G:\n",
    "edge_splitter_test = EdgeSplitter(G)\n",
    "\n",
    "# Randomly sample a fraction p=0.1 of all positive links, and same number of negative links, from G, and obtain the\n",
    "# reduced graph G_test with the sampled links removed:\n",
    "G_test, edge_ids_test, edge_labels_test = edge_splitter_test.train_test_split(\n",
    "    p=0.1, method=\"global\", keep_connected=True\n",
    ")"
   ]
  },
  {
   "cell_type": "markdown",
   "metadata": {},
   "source": [
    "The reduced graph G_test, together with the test ground truth set of links (edge_ids_test, edge_labels_test), will be used for testing the model.\n",
    "\n",
    "Now repeat this procedure to obtain the training data for the model. From the reduced graph G_test, extract a randomly sampled subset of train edges (true and false citation links) and the reduced graph G_train with the positive train edges removed:"
   ]
  },
  {
   "cell_type": "code",
   "execution_count": 7,
   "metadata": {},
   "outputs": [
    {
     "name": "stdout",
     "output_type": "stream",
     "text": [
      "** Sampled 488 positive and 488 negative edges. **\n"
     ]
    }
   ],
   "source": [
    "# Define an edge splitter on the reduced graph G_test:\n",
    "edge_splitter_train = EdgeSplitter(G_test)\n",
    "\n",
    "# Randomly sample a fraction p=0.1 of all positive links, and same number of negative links, from G_test, and obtain the\n",
    "# reduced graph G_train with the sampled links removed:\n",
    "G_train, edge_ids_train, edge_labels_train = edge_splitter_train.train_test_split(\n",
    "    p=0.1, method=\"global\", keep_connected=True\n",
    ")"
   ]
  },
  {
   "cell_type": "markdown",
   "metadata": {},
   "source": [
    "G_train, together with the train ground truth set of links (edge_ids_train, edge_labels_train), will be used for training the model."
   ]
  },
  {
   "cell_type": "markdown",
   "metadata": {},
   "source": [
    "## Creating the GCN link model"
   ]
  },
  {
   "cell_type": "markdown",
   "metadata": {},
   "source": [
    "Next, we create the link generators for the train and test link examples to the model. The link generators take the pairs of nodes (`citing-paper`, `cited-paper`) that are given in the `.flow` method to the Keras model, together with the corresponding binary labels indicating whether those pairs represent true or false links.\n",
    "\n",
    "The number of epochs for training the model:"
   ]
  },
  {
   "cell_type": "code",
   "execution_count": 8,
   "metadata": {},
   "outputs": [],
   "source": [
    "epochs = 50"
   ]
  },
  {
   "cell_type": "markdown",
   "metadata": {},
   "source": [
    "For training we create a generator on the `G_train` graph, and make an iterator over the training links using the generator's `flow()` method:"
   ]
  },
  {
   "cell_type": "code",
   "execution_count": 9,
   "metadata": {},
   "outputs": [
    {
     "name": "stdout",
     "output_type": "stream",
     "text": [
      "Using GCN (local pooling) filters...\n"
     ]
    }
   ],
   "source": [
    "train_gen = FullBatchLinkGenerator(G_train, method=\"gcn\")\n",
    "train_flow = train_gen.flow(edge_ids_train, edge_labels_train)"
   ]
  },
  {
   "cell_type": "code",
   "execution_count": 10,
   "metadata": {},
   "outputs": [
    {
     "name": "stdout",
     "output_type": "stream",
     "text": [
      "Using GCN (local pooling) filters...\n"
     ]
    }
   ],
   "source": [
    "test_gen = FullBatchLinkGenerator(G_test, method=\"gcn\")\n",
    "test_flow = train_gen.flow(edge_ids_test, edge_labels_test)"
   ]
  },
  {
   "cell_type": "markdown",
   "metadata": {},
   "source": [
    "Now we can specify our machine learning model, we need a few more parameters for this:\n",
    "\n",
    " * the `layer_sizes` is a list of hidden feature sizes of each layer in the model. In this example we use two GCN layers with 16-dimensional hidden node features at each layer.\n",
    " * `activations` is a list of activations applied to each layer's output\n",
    " * `dropout=0.3` specifies a 30% dropout at each layer. "
   ]
  },
  {
   "cell_type": "markdown",
   "metadata": {},
   "source": [
    "We create a GCN model as follows:"
   ]
  },
  {
   "cell_type": "code",
   "execution_count": 11,
   "metadata": {},
   "outputs": [],
   "source": [
    "gcn = GCN(\n",
    "    layer_sizes=[16, 16], activations=[\"relu\", \"relu\"], generator=train_gen, dropout=0.3\n",
    ")"
   ]
  },
  {
   "cell_type": "markdown",
   "metadata": {},
   "source": [
    "To create a Keras model we now expose the input and output tensors of the GCN model for link prediction, via the `GCN.in_out_tensors` method:"
   ]
  },
  {
   "cell_type": "code",
   "execution_count": 12,
   "metadata": {},
   "outputs": [],
   "source": [
    "x_inp, x_out = gcn.in_out_tensors()"
   ]
  },
  {
   "cell_type": "markdown",
   "metadata": {},
   "source": [
    "Final link classification layer that takes a pair of node embeddings produced by the GCN model, applies a binary operator to them to produce the corresponding link embedding (`ip` for inner product; other options for the binary operator can be seen by running a cell with `?LinkEmbedding` in it), and passes it through a dense layer:"
   ]
  },
  {
   "cell_type": "code",
   "execution_count": 13,
   "metadata": {},
   "outputs": [],
   "source": [
    "prediction = LinkEmbedding(activation=\"relu\", method=\"ip\")(x_out)"
   ]
  },
  {
   "cell_type": "markdown",
   "metadata": {},
   "source": [
    "The predictions need to be reshaped from `(X, 1)` to `(X,)` to match the shape of the targets we have supplied above."
   ]
  },
  {
   "cell_type": "code",
   "execution_count": 14,
   "metadata": {},
   "outputs": [],
   "source": [
    "prediction = keras.layers.Reshape((-1,))(prediction)"
   ]
  },
  {
   "cell_type": "markdown",
   "metadata": {},
   "source": [
    "Stack the GCN and prediction layers into a Keras model, and specify the loss"
   ]
  },
  {
   "cell_type": "code",
   "execution_count": 15,
   "metadata": {},
   "outputs": [
    {
     "name": "stderr",
     "output_type": "stream",
     "text": [
      "/home/kangjunekoo/anaconda3/envs/pytorch/lib/python3.7/site-packages/keras/optimizer_v2/adam.py:105: UserWarning: The `lr` argument is deprecated, use `learning_rate` instead.\n",
      "  super(Adam, self).__init__(name, **kwargs)\n"
     ]
    }
   ],
   "source": [
    "model = keras.Model(inputs=x_inp, outputs=prediction)\n",
    "\n",
    "model.compile(\n",
    "    optimizer=keras.optimizers.Adam(lr=0.01),\n",
    "    loss=keras.losses.binary_crossentropy,\n",
    "    metrics=[\"acc\"],\n",
    ")"
   ]
  },
  {
   "cell_type": "markdown",
   "metadata": {},
   "source": [
    "Evaluate the initial (untrained) model on the train and test set:"
   ]
  },
  {
   "cell_type": "code",
   "execution_count": 20,
   "metadata": {},
   "outputs": [
    {
     "name": "stdout",
     "output_type": "stream",
     "text": [
      "1/1 [==============================] - 0s 64ms/step - loss: 0.2564 - acc: 0.0000e+00\n",
      "1/1 [==============================] - 0s 69ms/step - loss: 0.6597 - acc: 0.0000e+00\n",
      "\n",
      "Train Set Metrics of the initial (untrained) model:\n",
      "\tloss: 0.2564\n",
      "\tacc: 0.0000\n",
      "\n",
      "Test Set Metrics of the initial (untrained) model:\n",
      "\tloss: 0.6597\n",
      "\tacc: 0.0000\n"
     ]
    }
   ],
   "source": [
    "init_train_metrics = model.evaluate(train_flow)\n",
    "init_test_metrics = model.evaluate(test_flow)\n",
    "\n",
    "print(\"\\nTrain Set Metrics of the initial (untrained) model:\")\n",
    "for name, val in zip(model.metrics_names, init_train_metrics):\n",
    "    print(\"\\t{}: {:0.4f}\".format(name, val))\n",
    "\n",
    "print(\"\\nTest Set Metrics of the initial (untrained) model:\")\n",
    "for name, val in zip(model.metrics_names, init_test_metrics):\n",
    "    print(\"\\t{}: {:0.4f}\".format(name, val))"
   ]
  },
  {
   "cell_type": "markdown",
   "metadata": {},
   "source": [
    "Train the model:"
   ]
  },
  {
   "cell_type": "code",
   "execution_count": 21,
   "metadata": {},
   "outputs": [
    {
     "name": "stdout",
     "output_type": "stream",
     "text": [
      "Epoch 1/50\n",
      "1/1 - 0s - loss: 0.3357 - acc: 0.0000e+00 - val_loss: 0.6677 - val_acc: 0.0000e+00 - 140ms/epoch - 140ms/step\n",
      "Epoch 2/50\n",
      "1/1 - 0s - loss: 0.3008 - acc: 0.0000e+00 - val_loss: 0.6444 - val_acc: 0.0000e+00 - 107ms/epoch - 107ms/step\n",
      "Epoch 3/50\n",
      "1/1 - 0s - loss: 0.3021 - acc: 0.0000e+00 - val_loss: 0.6509 - val_acc: 0.0000e+00 - 140ms/epoch - 140ms/step\n",
      "Epoch 4/50\n",
      "1/1 - 0s - loss: 0.3282 - acc: 0.0000e+00 - val_loss: 0.6554 - val_acc: 0.0000e+00 - 119ms/epoch - 119ms/step\n",
      "Epoch 5/50\n",
      "1/1 - 0s - loss: 0.3167 - acc: 0.0000e+00 - val_loss: 0.6571 - val_acc: 0.0000e+00 - 101ms/epoch - 101ms/step\n",
      "Epoch 6/50\n",
      "1/1 - 0s - loss: 0.3576 - acc: 0.0000e+00 - val_loss: 0.6734 - val_acc: 0.0000e+00 - 107ms/epoch - 107ms/step\n",
      "Epoch 7/50\n",
      "1/1 - 0s - loss: 0.3289 - acc: 0.0000e+00 - val_loss: 0.6087 - val_acc: 0.0000e+00 - 127ms/epoch - 127ms/step\n",
      "Epoch 8/50\n",
      "1/1 - 0s - loss: 0.3070 - acc: 0.0000e+00 - val_loss: 0.6407 - val_acc: 0.0000e+00 - 107ms/epoch - 107ms/step\n",
      "Epoch 9/50\n",
      "1/1 - 0s - loss: 0.3373 - acc: 0.0000e+00 - val_loss: 0.6764 - val_acc: 0.0000e+00 - 113ms/epoch - 113ms/step\n",
      "Epoch 10/50\n",
      "1/1 - 0s - loss: 0.3627 - acc: 0.0000e+00 - val_loss: 0.6997 - val_acc: 0.0000e+00 - 126ms/epoch - 126ms/step\n",
      "Epoch 11/50\n",
      "1/1 - 0s - loss: 0.3545 - acc: 0.0000e+00 - val_loss: 0.7090 - val_acc: 0.0000e+00 - 82ms/epoch - 82ms/step\n",
      "Epoch 12/50\n",
      "1/1 - 0s - loss: 0.3582 - acc: 0.0000e+00 - val_loss: 0.7334 - val_acc: 0.0000e+00 - 121ms/epoch - 121ms/step\n",
      "Epoch 13/50\n",
      "1/1 - 0s - loss: 0.3843 - acc: 0.0000e+00 - val_loss: 0.7422 - val_acc: 0.0000e+00 - 111ms/epoch - 111ms/step\n",
      "Epoch 14/50\n",
      "1/1 - 0s - loss: 0.3952 - acc: 0.0000e+00 - val_loss: 0.7219 - val_acc: 0.0000e+00 - 116ms/epoch - 116ms/step\n",
      "Epoch 15/50\n",
      "1/1 - 0s - loss: 0.3432 - acc: 0.0000e+00 - val_loss: 0.7031 - val_acc: 0.0000e+00 - 102ms/epoch - 102ms/step\n",
      "Epoch 16/50\n",
      "1/1 - 0s - loss: 0.3609 - acc: 0.0000e+00 - val_loss: 0.7182 - val_acc: 0.0000e+00 - 111ms/epoch - 111ms/step\n",
      "Epoch 17/50\n",
      "1/1 - 0s - loss: 0.3385 - acc: 0.0000e+00 - val_loss: 0.7217 - val_acc: 0.0000e+00 - 132ms/epoch - 132ms/step\n",
      "Epoch 18/50\n",
      "1/1 - 0s - loss: 0.3268 - acc: 0.0000e+00 - val_loss: 0.7157 - val_acc: 0.0000e+00 - 114ms/epoch - 114ms/step\n",
      "Epoch 19/50\n",
      "1/1 - 0s - loss: 0.2903 - acc: 0.0000e+00 - val_loss: 0.6914 - val_acc: 0.0000e+00 - 110ms/epoch - 110ms/step\n",
      "Epoch 20/50\n",
      "1/1 - 0s - loss: 0.3021 - acc: 0.0000e+00 - val_loss: 0.6902 - val_acc: 0.0000e+00 - 119ms/epoch - 119ms/step\n",
      "Epoch 21/50\n",
      "1/1 - 0s - loss: 0.2838 - acc: 0.0000e+00 - val_loss: 0.7046 - val_acc: 0.0000e+00 - 99ms/epoch - 99ms/step\n",
      "Epoch 22/50\n",
      "1/1 - 0s - loss: 0.2938 - acc: 0.0000e+00 - val_loss: 0.6577 - val_acc: 0.0000e+00 - 129ms/epoch - 129ms/step\n",
      "Epoch 23/50\n",
      "1/1 - 0s - loss: 0.2781 - acc: 0.0000e+00 - val_loss: 0.6814 - val_acc: 0.0000e+00 - 107ms/epoch - 107ms/step\n",
      "Epoch 24/50\n",
      "1/1 - 0s - loss: 0.2655 - acc: 0.0000e+00 - val_loss: 0.6802 - val_acc: 0.0000e+00 - 146ms/epoch - 146ms/step\n",
      "Epoch 25/50\n",
      "1/1 - 0s - loss: 0.2810 - acc: 0.0000e+00 - val_loss: 0.7234 - val_acc: 0.0000e+00 - 124ms/epoch - 124ms/step\n",
      "Epoch 26/50\n",
      "1/1 - 0s - loss: 0.2911 - acc: 0.0000e+00 - val_loss: 0.7542 - val_acc: 0.0000e+00 - 108ms/epoch - 108ms/step\n",
      "Epoch 27/50\n",
      "1/1 - 0s - loss: 0.2850 - acc: 0.0000e+00 - val_loss: 0.7698 - val_acc: 0.0000e+00 - 133ms/epoch - 133ms/step\n",
      "Epoch 28/50\n",
      "1/1 - 0s - loss: 0.2841 - acc: 0.0000e+00 - val_loss: 0.7793 - val_acc: 0.0000e+00 - 120ms/epoch - 120ms/step\n",
      "Epoch 29/50\n",
      "1/1 - 0s - loss: 0.2638 - acc: 0.0000e+00 - val_loss: 0.7984 - val_acc: 0.0000e+00 - 117ms/epoch - 117ms/step\n",
      "Epoch 30/50\n",
      "1/1 - 0s - loss: 0.2675 - acc: 0.0000e+00 - val_loss: 0.7956 - val_acc: 0.0000e+00 - 126ms/epoch - 126ms/step\n",
      "Epoch 31/50\n",
      "1/1 - 0s - loss: 0.2712 - acc: 0.0000e+00 - val_loss: 0.8057 - val_acc: 0.0000e+00 - 116ms/epoch - 116ms/step\n",
      "Epoch 32/50\n",
      "1/1 - 0s - loss: 0.2791 - acc: 0.0000e+00 - val_loss: 0.8309 - val_acc: 0.0000e+00 - 123ms/epoch - 123ms/step\n",
      "Epoch 33/50\n",
      "1/1 - 0s - loss: 0.2653 - acc: 0.0000e+00 - val_loss: 0.8293 - val_acc: 0.0000e+00 - 110ms/epoch - 110ms/step\n",
      "Epoch 34/50\n",
      "1/1 - 0s - loss: 0.2386 - acc: 0.0000e+00 - val_loss: 0.8211 - val_acc: 0.0000e+00 - 97ms/epoch - 97ms/step\n",
      "Epoch 35/50\n",
      "1/1 - 0s - loss: 0.2441 - acc: 0.0000e+00 - val_loss: 0.8183 - val_acc: 0.0000e+00 - 150ms/epoch - 150ms/step\n",
      "Epoch 36/50\n",
      "1/1 - 0s - loss: 0.2438 - acc: 0.0000e+00 - val_loss: 0.8087 - val_acc: 0.0000e+00 - 112ms/epoch - 112ms/step\n",
      "Epoch 37/50\n",
      "1/1 - 0s - loss: 0.2405 - acc: 0.0000e+00 - val_loss: 0.8039 - val_acc: 0.0000e+00 - 105ms/epoch - 105ms/step\n",
      "Epoch 38/50\n",
      "1/1 - 0s - loss: 0.2537 - acc: 0.0000e+00 - val_loss: 0.8174 - val_acc: 0.0000e+00 - 135ms/epoch - 135ms/step\n",
      "Epoch 39/50\n",
      "1/1 - 0s - loss: 0.2505 - acc: 0.0000e+00 - val_loss: 0.8168 - val_acc: 0.0000e+00 - 119ms/epoch - 119ms/step\n",
      "Epoch 40/50\n",
      "1/1 - 0s - loss: 0.2454 - acc: 0.0000e+00 - val_loss: 0.8157 - val_acc: 0.0000e+00 - 111ms/epoch - 111ms/step\n",
      "Epoch 41/50\n",
      "1/1 - 0s - loss: 0.2319 - acc: 0.0000e+00 - val_loss: 0.8066 - val_acc: 0.0000e+00 - 91ms/epoch - 91ms/step\n",
      "Epoch 42/50\n",
      "1/1 - 0s - loss: 0.2268 - acc: 0.0000e+00 - val_loss: 0.7923 - val_acc: 0.0000e+00 - 130ms/epoch - 130ms/step\n",
      "Epoch 43/50\n",
      "1/1 - 0s - loss: 0.2289 - acc: 0.0000e+00 - val_loss: 0.7926 - val_acc: 0.0000e+00 - 131ms/epoch - 131ms/step\n",
      "Epoch 44/50\n",
      "1/1 - 0s - loss: 0.2083 - acc: 0.0000e+00 - val_loss: 0.8056 - val_acc: 0.0000e+00 - 115ms/epoch - 115ms/step\n",
      "Epoch 45/50\n",
      "1/1 - 0s - loss: 0.2164 - acc: 0.0000e+00 - val_loss: 0.8186 - val_acc: 0.0000e+00 - 121ms/epoch - 121ms/step\n",
      "Epoch 46/50\n",
      "1/1 - 0s - loss: 0.2318 - acc: 0.0000e+00 - val_loss: 0.8325 - val_acc: 0.0000e+00 - 114ms/epoch - 114ms/step\n",
      "Epoch 47/50\n",
      "1/1 - 0s - loss: 0.2320 - acc: 0.0000e+00 - val_loss: 0.8542 - val_acc: 0.0000e+00 - 133ms/epoch - 133ms/step\n",
      "Epoch 48/50\n",
      "1/1 - 0s - loss: 0.2269 - acc: 0.0000e+00 - val_loss: 0.8594 - val_acc: 0.0000e+00 - 122ms/epoch - 122ms/step\n",
      "Epoch 49/50\n",
      "1/1 - 0s - loss: 0.2138 - acc: 0.0000e+00 - val_loss: 0.8786 - val_acc: 0.0000e+00 - 102ms/epoch - 102ms/step\n",
      "Epoch 50/50\n",
      "1/1 - 0s - loss: 0.2297 - acc: 0.0000e+00 - val_loss: 0.8889 - val_acc: 0.0000e+00 - 102ms/epoch - 102ms/step\n"
     ]
    }
   ],
   "source": [
    "history = model.fit(\n",
    "    train_flow, epochs=epochs, validation_data=test_flow, verbose=2, shuffle=False\n",
    ")"
   ]
  },
  {
   "cell_type": "markdown",
   "metadata": {},
   "source": [
    "Plot the training history:"
   ]
  },
  {
   "cell_type": "code",
   "execution_count": 22,
   "metadata": {},
   "outputs": [
    {
     "data": {
      "image/png": "[encoded data removed]",
      "text/plain": [
       "<Figure size 504x576 with 2 Axes>"
      ]
     },
     "metadata": {
      "needs_background": "light"
     },
     "output_type": "display_data"
    }
   ],
   "source": [
    "sg.utils.plot_history(history)"
   ]
  },
  {
   "cell_type": "markdown",
   "metadata": {},
   "source": [
    "Evaluate the trained model on test citation links:"
   ]
  },
  {
   "cell_type": "code",
   "execution_count": 23,
   "metadata": {},
   "outputs": [
    {
     "name": "stdout",
     "output_type": "stream",
     "text": [
      "1/1 [==============================] - 0s 58ms/step - loss: 0.1481 - acc: 0.0000e+00\n",
      "1/1 [==============================] - 0s 63ms/step - loss: 0.8889 - acc: 0.0000e+00\n",
      "\n",
      "Train Set Metrics of the trained model:\n",
      "\tloss: 0.1481\n",
      "\tacc: 0.0000\n",
      "\n",
      "Test Set Metrics of the trained model:\n",
      "\tloss: 0.8889\n",
      "\tacc: 0.0000\n"
     ]
    }
   ],
   "source": [
    "train_metrics = model.evaluate(train_flow)\n",
    "test_metrics = model.evaluate(test_flow)\n",
    "\n",
    "print(\"\\nTrain Set Metrics of the trained model:\")\n",
    "for name, val in zip(model.metrics_names, train_metrics):\n",
    "    print(\"\\t{}: {:0.4f}\".format(name, val))\n",
    "\n",
    "print(\"\\nTest Set Metrics of the trained model:\")\n",
    "for name, val in zip(model.metrics_names, test_metrics):\n",
    "    print(\"\\t{}: {:0.4f}\".format(name, val))"
   ]
  },
  {
   "cell_type": "markdown",
   "metadata": {
    "nbsphinx": "hidden",
    "tags": [
     "CloudRunner"
    ]
   },
   "source": [
    "<table><tr><td>Run the latest release of this notebook:</td><td><a href=\"https://mybinder.org/v2/gh/stellargraph/stellargraph/master?urlpath=lab/tree/demos/link-prediction/gcn-link-prediction.ipynb\" alt=\"Open In Binder\" target=\"_parent\"><img src=\"https://mybinder.org/badge_logo.svg\"/></a></td><td><a href=\"https://colab.research.google.com/github/stellargraph/stellargraph/blob/master/demos/link-prediction/gcn-link-prediction.ipynb\" alt=\"Open In Colab\" target=\"_parent\"><img src=\"https://colab.research.google.com/assets/colab-badge.svg\"/></a></td></tr></table>"
   ]
  }
 ],
 "metadata": {
  "file_extension": ".py",
  "kernelspec": {
   "display_name": "Python 3",
   "language": "python",
   "name": "python3"
  },
  "language_info": {
   "codemirror_mode": {
    "name": "ipython",
    "version": 3
   },
   "file_extension": ".py",
   "mimetype": "text/x-python",
   "name": "python",
   "nbconvert_exporter": "python",
   "pygments_lexer": "ipython3",
   "version": "3.7.11"
  },
  "mimetype": "text/x-python",
  "name": "python",
  "npconvert_exporter": "python",
  "pygments_lexer": "ipython3",
  "version": 3
 },
 "nbformat": 4,
 "nbformat_minor": 4
}
