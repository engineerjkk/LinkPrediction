{
  "cells": [
    {
      "cell_type": "markdown",
      "metadata": {
        "colab_type": "text",
        "id": "view-in-github"
      },
      "source": [
        "<a href=\"https://colab.research.google.com/github/engineerjkk/LinkPrediction/blob/main/Link_Prediction.ipynb\" target=\"_parent\"><img src=\"https://colab.research.google.com/assets/colab-badge.svg\" alt=\"Open In Colab\"/></a>"
      ]
    },
    {
      "cell_type": "markdown",
      "metadata": {},
      "source": [
        "Code Implementation  \n",
        "We now implement the framework in python. First, we import the necessary packages.  "
      ]
    },
    {
      "cell_type": "code",
      "execution_count": 2,
      "metadata": {
        "id": "Dj-GMeDtUZO0"
      },
      "outputs": [],
      "source": [
        "import networkx as nx\n",
        "import math\n",
        "import itertools\n",
        "import numpy as np"
      ]
    },
    {
      "cell_type": "markdown",
      "metadata": {},
      "source": [
        "To show how the framework is utilised in practice, we’ll use a dummy graph provided by Tan et. al. (2014).   \n",
        "We use networkx to define the graph object."
      ]
    },
    {
      "cell_type": "code",
      "execution_count": 21,
      "metadata": {
        "id": "bMBjJBiZaFk9"
      },
      "outputs": [],
      "source": [
        "def comb(n, k):\n",
        "    if (n<0 or k<0):\n",
        "        return None\n",
        "    else:\n",
        "        return math.factorial(n)/(math.factorial(k)*math.factorial(n-k))"
      ]
    },
    {
      "cell_type": "code",
      "execution_count": 22,
      "metadata": {
        "colab": {
          "base_uri": "https://localhost:8080/",
          "height": 319
        },
        "id": "wKCQrGXMUPKv",
        "outputId": "194f2a07-18d7-452f-d203-043450c9e042"
      },
      "outputs": [
        {
          "data": {
            "image/png": "[encoded data removed]",
            "text/plain": [
              "<Figure size 432x288 with 1 Axes>"
            ]
          },
          "metadata": {},
          "output_type": "display_data"
        }
      ],
      "source": [
        "G = nx.Graph()\n",
        "edgeList = [(1, 2),(1, 3),(1, 4),(2, 4),(2, 5),(5, 6),(5, 7),(6, 7),(6, 8),(7, 8)]\n",
        "G.add_edges_from(edgeList)\n",
        "nx.draw(G, with_labels=True)"
      ]
    },
    {
      "cell_type": "markdown",
      "metadata": {},
      "source": [
        "Next, we define the likelihood score as a function that takes in node x and y.  \n",
        "It consists of several loops aggregating information from common neighbours of node x and y.  \n",
        "The framework takes in two probabilities model: prior and likelihood that we’ll describe next."
      ]
    },
    {
      "cell_type": "code",
      "execution_count": 23,
      "metadata": {
        "id": "svdIv9GzUTeZ"
      },
      "outputs": [],
      "source": [
        "# score based on mutual information\n",
        "def s(x , y, prior, likelihood):\n",
        " # common neighbors\n",
        " CN = nx.common_neighbors(G, x, y)\n",
        " # prior (x, y)\n",
        " priorXY = - np.log2(prior(x, y, G))\n",
        " # sum over neighbors\n",
        " cnMI = 0\n",
        " for z in CN:\n",
        "   # degree of z\n",
        "   kz = G.degree(z)\n",
        "   coeffZ = 1 / (kz * (kz-1))\n",
        "   # sum over edges = neighbors of z\n",
        "   zMI = 0\n",
        "   for m, n in itertools.combinations(G.neighbors(z), 2):\n",
        "     priorInfo = -np.log2(prior(m, n, G))\n",
        "     likelihoodInfo = -np.log2(likelihood(z, G))\n",
        "     # combine mutual information\n",
        "     zMI += 2 * (priorInfo -likelihoodInfo)\n",
        "   # add average mutual information per neighbor\n",
        "   cnMI += coeffZ * zMI\n",
        " return cnMI -priorXY"
      ]
    },
    {
      "cell_type": "markdown",
      "metadata": {},
      "source": [
        "We now define prior as a function of the combinatorics probability."
      ]
    },
    {
      "cell_type": "code",
      "execution_count": 24,
      "metadata": {
        "id": "XteHcoOkUVCY"
      },
      "outputs": [],
      "source": [
        "def prior(m, n, G):\n",
        " kn = G.degree(n)\n",
        " km = G.degree(m)\n",
        " M = G.number_of_edges()\n",
        " \n",
        " return 1-(comb(M-kn, km))/(comb(M, km))"
      ]
    },
    {
      "cell_type": "markdown",
      "metadata": {},
      "source": [
        "Meanwhile, likelihood is defined as the clustering coefficient of common neighbour z of node x and y."
      ]
    },
    {
      "cell_type": "code",
      "execution_count": 25,
      "metadata": {
        "id": "NH22pUJSZdgw"
      },
      "outputs": [],
      "source": [
        "def likelihood(z, G):\n",
        " kz = G.degree(z)\n",
        " N_triangles = nx.triangles(G, z)\n",
        " N_triads = comb(kz, 2)\n",
        " \n",
        " return N_triangles / N_triads"
      ]
    },
    {
      "cell_type": "markdown",
      "metadata": {},
      "source": [
        "We have now defined the whole framework. Following the example provided by Tan et. al. (2014),  \n",
        "we can calculate the score for node 2 and 3 by calling the s function.  \n",
        "And voilà! we get -1.667, precisely as shown in the paper."
      ]
    },
    {
      "cell_type": "code",
      "execution_count": 26,
      "metadata": {
        "colab": {
          "base_uri": "https://localhost:8080/"
        },
        "id": "WciIOBc6Zg7w",
        "outputId": "f73befb8-6aff-4cc5-d58e-f1f2889d3eec"
      },
      "outputs": [
        {
          "data": {
            "text/plain": [
              "-1.6666666666666665"
            ]
          },
          "execution_count": 26,
          "metadata": {},
          "output_type": "execute_result"
        }
      ],
      "source": [
        "# -1.667\n",
        "s(2, 3, prior, likelihood)"
      ]
    },
    {
      "cell_type": "markdown",
      "metadata": {},
      "source": [
        "Conclusion  \n",
        "We have seen how to integrate the link prediction problem into the information-theoretic framework.  \n",
        "Using the latter, we could plug in a few different probability models depending on our choice.  \n",
        "In this article, we have looked at one particular model based on clustering coefficient and combinatorics probability.  \n",
        "For more types of models, please refer to Tan et. al.  \n",
        "(2014) and Kumar and Sharma (2020)."
      ]
    },
    {
      "cell_type": "code",
      "execution_count": null,
      "metadata": {
        "id": "K4Uz2YHfZjzB"
      },
      "outputs": [],
      "source": []
    }
  ],
  "metadata": {
    "accelerator": "GPU",
    "colab": {
      "authorship_tag": "ABX9TyOQnz5nmlAVzd6hFQN0zkhs",
      "include_colab_link": true,
      "name": "Link_Prediction.ipynb",
      "provenance": []
    },
    "kernelspec": {
      "display_name": "Python 3",
      "name": "python3"
    },
    "language_info": {
      "codemirror_mode": {
        "name": "ipython",
        "version": 3
      },
      "file_extension": ".py",
      "mimetype": "text/x-python",
      "name": "python",
      "nbconvert_exporter": "python",
      "pygments_lexer": "ipython3",
      "version": "3.7.11"
    }
  },
  "nbformat": 4,
  "nbformat_minor": 0
}
